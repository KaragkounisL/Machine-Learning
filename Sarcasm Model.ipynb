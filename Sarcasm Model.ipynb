{
 "cells": [
  {
   "cell_type": "code",
   "execution_count": 93,
   "metadata": {},
   "outputs": [],
   "source": [
    "import json\n",
    "import tensorflow as tf"
   ]
  },
  {
   "cell_type": "code",
   "execution_count": 94,
   "metadata": {},
   "outputs": [],
   "source": [
    "vocab_size = 10000\n",
    "embedding_dim = 16\n",
    "max_length = 100\n",
    "trunc_type = 'post'\n",
    "padding_type = 'post'\n",
    "oov_tok = \"<OOV>\" #\OOV\"\n",
    "training_size = 23000\n",
    "# total sample size = 26709"
   ]
  },
  {
   "cell_type": "code",
   "execution_count": 95,
   "metadata": {},
   "outputs": [],
   "source": [
    "with open(\"sarcasm1.json\", 'r') as f:\n",
    "    datastore = json.load(f)\n",
    "\n",
    "sentences = []\n",
    "labels = []\n",
    "urls = []\n",
    "\n",
    "for item in datastore:\n",
    "    sentences.append(item['headline'])\n",
    "    labels.append(item['is_sarcastic'])\n",
    "    urls.append(item['article_link'])"
   ]
  },
  {
   "cell_type": "code",
   "execution_count": 96,
   "metadata": {},
   "outputs": [],
   "source": [
    "training_sentences = sentences[0:training_size]\n",
    "testing_sentences = sentences[training_size:]\n",
    "training_labels = labels[0:training_size]\n",
    "testing_labels = labels[training_size:]"
   ]
  },
  {
   "cell_type": "code",
   "execution_count": 97,
   "metadata": {},
   "outputs": [],
   "source": [
    "tokenizer = tf.keras.preprocessing.text.Tokenizer(\n",
    "    num_words=vocab_size, oov_token=oov_tok)\n",
    "tokenizer.fit_on_texts(training_sentences)\n",
    "word_index = tokenizer.word_index\n",
    "\n",
    "traning_sequences = tokenizer.texts_to_sequences(training_sentences)\n",
    "training_padded = tf.keras.preprocessing.sequence.pad_sequences(\n",
    "    traning_sequences, maxlen=max_length, padding=padding_type, truncating=trunc_type)\n",
    "\n",
    "testing_sequences = tokenizer.texts_to_sequences(testing_sentences)\n",
    "testing_padded = tf.keras.preprocessing.sequence.pad_sequences(\n",
    "    testing_sequences, maxlen=max_length, padding=padding_type, truncating=trunc_type)"
   ]
  },
  {
   "cell_type": "code",
   "execution_count": 98,
   "metadata": {},
   "outputs": [],
   "source": [
    "import numpy as np\n",
    "training_padded = np.array(training_padded)\n",
    "training_labels = np.array(training_labels)\n",
    "testing_padded = np.array(testing_padded)\n",
    "testing_labels = np.array(testing_labels)"
   ]
  },
  {
   "cell_type": "code",
   "execution_count": 99,
   "metadata": {},
   "outputs": [],
   "source": [
    "model = tf.keras.Sequential([\n",
    "    tf.keras.layers.Embedding(\n",
    "        vocab_size, embedding_dim, input_length=max_length),\n",
    "    tf.keras.layers.GlobalAveragePooling1D(),\n",
    "    tf.keras.layers.Dense(24, activation='relu', kernel_regularizer=tf.keras.regularizers.l2(0.001)),\n",
    "    tf.keras.layers.Dense(1, activation='sigmoid')\n",
    "])\n",
    "\n",
    "model.compile(loss='binary_crossentropy',\n",
    "              optimizer='adam', metrics=['accuracy'])"
   ]
  },
  {
   "cell_type": "code",
   "execution_count": 100,
   "metadata": {},
   "outputs": [
    {
     "name": "stdout",
     "output_type": "stream",
     "text": [
      "Model: \"sequential_11\"\n",
      "_________________________________________________________________\n",
      " Layer (type)                Output Shape              Param #   \n",
      "=================================================================\n",
      " embedding_11 (Embedding)    (None, 100, 16)           160000    \n",
      "                                                                 \n",
      " global_average_pooling1d_11  (None, 16)               0         \n",
      "  (GlobalAveragePooling1D)                                       \n",
      "                                                                 \n",
      " dense_22 (Dense)            (None, 24)                408       \n",
      "                                                                 \n",
      " dense_23 (Dense)            (None, 1)                 25        \n",
      "                                                                 \n",
      "=================================================================\n",
      "Total params: 160,433\n",
      "Trainable params: 160,433\n",
      "Non-trainable params: 0\n",
      "_________________________________________________________________\n"
     ]
    }
   ],
   "source": [
    "model.summary()"
   ]
  },
  {
   "cell_type": "code",
   "execution_count": 101,
   "metadata": {},
   "outputs": [
    {
     "name": "stdout",
     "output_type": "stream",
     "text": [
      "Epoch 1/30\n",
      "719/719 - 6s - loss: 0.6901 - accuracy: 0.5468 - val_loss: 0.6500 - val_accuracy: 0.8035 - 6s/epoch - 8ms/step\n",
      "Epoch 2/30\n",
      "719/719 - 4s - loss: 0.5174 - accuracy: 0.8138 - val_loss: 0.4531 - val_accuracy: 0.8267 - 4s/epoch - 6ms/step\n",
      "Epoch 3/30\n",
      "719/719 - 4s - loss: 0.4017 - accuracy: 0.8616 - val_loss: 0.4144 - val_accuracy: 0.8430 - 4s/epoch - 6ms/step\n",
      "Epoch 4/30\n",
      "719/719 - 4s - loss: 0.3564 - accuracy: 0.8808 - val_loss: 0.3928 - val_accuracy: 0.8505 - 4s/epoch - 6ms/step\n",
      "Epoch 5/30\n",
      "719/719 - 4s - loss: 0.3250 - accuracy: 0.8924 - val_loss: 0.3943 - val_accuracy: 0.8439 - 4s/epoch - 6ms/step\n",
      "Epoch 6/30\n",
      "719/719 - 4s - loss: 0.3004 - accuracy: 0.9028 - val_loss: 0.3754 - val_accuracy: 0.8566 - 4s/epoch - 6ms/step\n",
      "Epoch 7/30\n",
      "719/719 - 4s - loss: 0.2806 - accuracy: 0.9122 - val_loss: 0.3682 - val_accuracy: 0.8560 - 4s/epoch - 6ms/step\n",
      "Epoch 8/30\n",
      "719/719 - 4s - loss: 0.2631 - accuracy: 0.9192 - val_loss: 0.3700 - val_accuracy: 0.8518 - 4s/epoch - 6ms/step\n",
      "Epoch 9/30\n",
      "719/719 - 5s - loss: 0.2474 - accuracy: 0.9262 - val_loss: 0.3640 - val_accuracy: 0.8594 - 5s/epoch - 7ms/step\n",
      "Epoch 10/30\n",
      "719/719 - 5s - loss: 0.2353 - accuracy: 0.9294 - val_loss: 0.3717 - val_accuracy: 0.8542 - 5s/epoch - 6ms/step\n",
      "Epoch 11/30\n",
      "719/719 - 6s - loss: 0.2236 - accuracy: 0.9342 - val_loss: 0.3677 - val_accuracy: 0.8564 - 6s/epoch - 8ms/step\n",
      "Epoch 12/30\n",
      "719/719 - 5s - loss: 0.2127 - accuracy: 0.9390 - val_loss: 0.3686 - val_accuracy: 0.8566 - 5s/epoch - 7ms/step\n",
      "Epoch 13/30\n",
      "719/719 - 4s - loss: 0.2028 - accuracy: 0.9420 - val_loss: 0.3728 - val_accuracy: 0.8521 - 4s/epoch - 6ms/step\n",
      "Epoch 14/30\n",
      "719/719 - 4s - loss: 0.1941 - accuracy: 0.9460 - val_loss: 0.3771 - val_accuracy: 0.8516 - 4s/epoch - 6ms/step\n",
      "Epoch 15/30\n",
      "719/719 - 4s - loss: 0.1858 - accuracy: 0.9500 - val_loss: 0.3907 - val_accuracy: 0.8491 - 4s/epoch - 6ms/step\n",
      "Epoch 16/30\n",
      "719/719 - 5s - loss: 0.1791 - accuracy: 0.9512 - val_loss: 0.3892 - val_accuracy: 0.8484 - 5s/epoch - 6ms/step\n",
      "Epoch 17/30\n",
      "719/719 - 5s - loss: 0.1730 - accuracy: 0.9523 - val_loss: 0.4013 - val_accuracy: 0.8450 - 5s/epoch - 7ms/step\n",
      "Epoch 18/30\n",
      "719/719 - 5s - loss: 0.1657 - accuracy: 0.9560 - val_loss: 0.3992 - val_accuracy: 0.8496 - 5s/epoch - 7ms/step\n",
      "Epoch 19/30\n",
      "719/719 - 5s - loss: 0.1599 - accuracy: 0.9583 - val_loss: 0.4046 - val_accuracy: 0.8487 - 5s/epoch - 7ms/step\n",
      "Epoch 20/30\n",
      "719/719 - 6s - loss: 0.1548 - accuracy: 0.9607 - val_loss: 0.4128 - val_accuracy: 0.8434 - 6s/epoch - 8ms/step\n",
      "Epoch 21/30\n",
      "719/719 - 5s - loss: 0.1497 - accuracy: 0.9612 - val_loss: 0.4176 - val_accuracy: 0.8457 - 5s/epoch - 7ms/step\n",
      "Epoch 22/30\n",
      "719/719 - 5s - loss: 0.1451 - accuracy: 0.9621 - val_loss: 0.4260 - val_accuracy: 0.8437 - 5s/epoch - 6ms/step\n",
      "Epoch 23/30\n",
      "719/719 - 5s - loss: 0.1404 - accuracy: 0.9644 - val_loss: 0.4324 - val_accuracy: 0.8402 - 5s/epoch - 6ms/step\n",
      "Epoch 24/30\n",
      "719/719 - 5s - loss: 0.1368 - accuracy: 0.9661 - val_loss: 0.4438 - val_accuracy: 0.8400 - 5s/epoch - 7ms/step\n",
      "Epoch 25/30\n",
      "719/719 - 5s - loss: 0.1325 - accuracy: 0.9664 - val_loss: 0.4506 - val_accuracy: 0.8354 - 5s/epoch - 7ms/step\n",
      "Epoch 26/30\n",
      "719/719 - 5s - loss: 0.1286 - accuracy: 0.9693 - val_loss: 0.4581 - val_accuracy: 0.8364 - 5s/epoch - 7ms/step\n",
      "Epoch 27/30\n",
      "719/719 - 5s - loss: 0.1245 - accuracy: 0.9700 - val_loss: 0.4665 - val_accuracy: 0.8331 - 5s/epoch - 7ms/step\n",
      "Epoch 28/30\n",
      "719/719 - 5s - loss: 0.1224 - accuracy: 0.9704 - val_loss: 0.5058 - val_accuracy: 0.8304 - 5s/epoch - 6ms/step\n",
      "Epoch 29/30\n",
      "719/719 - 5s - loss: 0.1180 - accuracy: 0.9722 - val_loss: 0.4860 - val_accuracy: 0.8350 - 5s/epoch - 6ms/step\n",
      "Epoch 30/30\n",
      "719/719 - 5s - loss: 0.1148 - accuracy: 0.9735 - val_loss: 0.4992 - val_accuracy: 0.8327 - 5s/epoch - 7ms/step\n"
     ]
    }
   ],
   "source": [
    "num_epochs = 30\n",
    "history = model.fit(training_padded, training_labels, epochs=num_epochs, validation_data=(testing_padded, testing_labels), verbose=2)"
   ]
  },
  {
   "cell_type": "code",
   "execution_count": 102,
   "metadata": {},
   "outputs": [
    {
     "data": {
      "image/png": "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",
      "text/plain": [
       "<Figure size 432x288 with 1 Axes>"
      ]
     },
     "metadata": {
      "needs_background": "light"
     },
     "output_type": "display_data"
    },
    {
     "data": {
      "image/png": "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",
      "text/plain": [
       "<Figure size 432x288 with 1 Axes>"
      ]
     },
     "metadata": {
      "needs_background": "light"
     },
     "output_type": "display_data"
    }
   ],
   "source": [
    "import matplotlib.pyplot as plt\n",
    "\n",
    "def plot_graphs(history, string):\n",
    "  plt.plot(history.history[string])\n",
    "  plt.plot(history.history['val_'+string])\n",
    "  plt.xlabel(\"Epochs\")\n",
    "  plt.ylabel(string)\n",
    "  plt.legend([string, 'val_'+string])\n",
    "  plt.show()\n",
    "  \n",
    "plot_graphs(history, \"accuracy\")\n",
    "plot_graphs(history, \"loss\")"
   ]
  },
  {
   "cell_type": "markdown",
   "metadata": {},
   "source": [
    "Seems there is a case of overfitting, will need to investigate further.\n",
    "Steps taken:\n",
    "- Increased the ratio of training / validation data.\n",
    "- Reduced the element number on the hidden layer. Did not work very well.\n",
    "- Tried a Dropout layer but it did not help much. Perhaps try again with different rate. \n",
    "- Added some l2 regularization but it seems that it has only slowed down slightly the overfitting. \n",
    "\n",
    "Vey possible that more data is needed to avoid any overfitting issues."
   ]
  },
  {
   "cell_type": "code",
   "execution_count": 114,
   "metadata": {},
   "outputs": [
    {
     "name": "stdout",
     "output_type": "stream",
     "text": [
      "(10000, 16)\n"
     ]
    }
   ],
   "source": [
    "e = model.layers[0]\n",
    "weights = e.get_weights()[0]\n",
    "print(weights.shape) # shape: (vocab_size, embedding_dim)"
   ]
  },
  {
   "cell_type": "code",
   "execution_count": 115,
   "metadata": {},
   "outputs": [
    {
     "name": "stdout",
     "output_type": "stream",
     "text": [
      "1/1 [==============================] - 0s 25ms/step\n",
      "[[6.7654228e-01]\n",
      " [3.5409695e-01]\n",
      " [9.9914694e-01]\n",
      " [1.9247854e-02]\n",
      " [1.3570820e-03]\n",
      " [7.8768993e-04]]\n"
     ]
    }
   ],
   "source": [
    "testing = [ \"Granny starting to fear spiders in the garden might be real\", \n",
    "            \"Game of thrones season finale showing this sunday night\",\n",
    "            \"It’s okay if you don’t like me. Not everyone has good taste.\",\n",
    "            \"The weather is great today\",\n",
    "            \"Was there a lack of graves in Egypt, that you took us away to die in the wilderness?\",\n",
    "            \"I'm glad we're having a rehearsal dinner, I rarely practice my meals before I eat.\"]\n",
    "sequences = tokenizer.texts_to_sequences(testing)\n",
    "padded = tf.keras.preprocessing.sequence.pad_sequences(sequences, maxlen=max_length, padding=padding_type, truncating=trunc_type)\n",
    "print(model.predict(padded))"
   ]
  }
 ],
 "metadata": {
  "kernelspec": {
   "display_name": "Python 3.9.13 ('base')",
   "language": "python",
   "name": "python3"
  },
  "language_info": {
   "codemirror_mode": {
    "name": "ipython",
    "version": 3
   },
   "file_extension": ".py",
   "mimetype": "text/x-python",
   "name": "python",
   "nbconvert_exporter": "python",
   "pygments_lexer": "ipython3",
   "version": "3.9.13"
  },
  "orig_nbformat": 4,
  "vscode": {
   "interpreter": {
    "hash": "49cb93f377a7abe7414b7b0f21fb3017538004a126cf690fb524202736b7fb92"
   }
  }
 },
 "nbformat": 4,
 "nbformat_minor": 2
}
