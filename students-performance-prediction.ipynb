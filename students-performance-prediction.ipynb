{
 "cells": [
  {
   "cell_type": "markdown",
   "id": "fd4d433b",
   "metadata": {
    "papermill": {
     "duration": 0.02616,
     "end_time": "2024-07-31T20:08:00.057925",
     "exception": false,
     "start_time": "2024-07-31T20:08:00.031765",
     "status": "completed"
    },
    "tags": []
   },
   "source": [
    "# Introduction\n",
    "\n",
    "Hello! I decided to write this notebook as a guide for people starting out in the field of Machine Learning. It is meant for beginners and is part of a small presentation I was planning on doing for my university. It includes a lot of information and comments starting with an exploratory data analysis (EDA) on our dataset and finishing with creating a variety of prediction models for our target variable, which will be the GPA of a student.\n",
    "\n",
    "Feel free to leave an upvote if this notebook helped you, a comment in the discussions section if you have any further questions or you want to correct me on anything that was wrong or just chat."
   ]
  },
  {
   "cell_type": "markdown",
   "id": "e0a0b6f0",
   "metadata": {
    "papermill": {
     "duration": 0.024402,
     "end_time": "2024-07-31T20:08:00.107341",
     "exception": false,
     "start_time": "2024-07-31T20:08:00.082939",
     "status": "completed"
    },
    "tags": []
   },
   "source": [
    "# Imports and Data Loading"
   ]
  },
  {
   "cell_type": "code",
   "execution_count": 1,
   "id": "f78407d4",
   "metadata": {
    "_cell_guid": "b1076dfc-b9ad-4769-8c92-a6c4dae69d19",
    "_uuid": "8f2839f25d086af736a60e9eeb907d3b93b6e0e5",
    "execution": {
     "iopub.execute_input": "2024-07-31T20:08:00.162874Z",
     "iopub.status.busy": "2024-07-31T20:08:00.162399Z",
     "iopub.status.idle": "2024-07-31T20:08:00.177507Z",
     "shell.execute_reply": "2024-07-31T20:08:00.176356Z"
    },
    "papermill": {
     "duration": 0.044198,
     "end_time": "2024-07-31T20:08:00.180171",
     "exception": false,
     "start_time": "2024-07-31T20:08:00.135973",
     "status": "completed"
    },
    "tags": []
   },
   "outputs": [],
   "source": [
    "# Warning suppresion\n",
    "import warnings\n",
    "warnings.filterwarnings('ignore', category=UserWarning, module='tensorflow')\n",
    "warnings.filterwarnings('ignore', category=FutureWarning, module='seaborn')\n",
    "#warnings.filterwarnings(\"ignore\", category=FutureWarning, module=\"seaborn._oldcore\")"
   ]
  },
  {
   "cell_type": "code",
   "execution_count": 2,
   "id": "8ed5118a",
   "metadata": {
    "execution": {
     "iopub.execute_input": "2024-07-31T20:08:00.231779Z",
     "iopub.status.busy": "2024-07-31T20:08:00.231392Z",
     "iopub.status.idle": "2024-07-31T20:08:21.123107Z",
     "shell.execute_reply": "2024-07-31T20:08:21.121888Z"
    },
    "papermill": {
     "duration": 20.920765,
     "end_time": "2024-07-31T20:08:21.125879",
     "exception": false,
     "start_time": "2024-07-31T20:08:00.205114",
     "status": "completed"
    },
    "tags": []
   },
   "outputs": [
    {
     "name": "stderr",
     "output_type": "stream",
     "text": [
      "2024-07-31 20:08:06.637241: E external/local_xla/xla/stream_executor/cuda/cuda_dnn.cc:9261] Unable to register cuDNN factory: Attempting to register factory for plugin cuDNN when one has already been registered\n",
      "2024-07-31 20:08:06.637405: E external/local_xla/xla/stream_executor/cuda/cuda_fft.cc:607] Unable to register cuFFT factory: Attempting to register factory for plugin cuFFT when one has already been registered\n",
      "2024-07-31 20:08:06.887219: E external/local_xla/xla/stream_executor/cuda/cuda_blas.cc:1515] Unable to register cuBLAS factory: Attempting to register factory for plugin cuBLAS when one has already been registered\n"
     ]
    }
   ],
   "source": [
    "# Imports\n",
    "import pandas as pd\n",
    "import numpy as np\n",
    "import matplotlib.pyplot as plt\n",
    "import seaborn as sns\n",
    "from scipy.stats import chi2_contingency\n",
    "from scipy.stats import spearmanr\n",
    "from sklearn.model_selection import train_test_split\n",
    "from sklearn.pipeline import Pipeline\n",
    "from sklearn.preprocessing import StandardScaler, OneHotEncoder\n",
    "from sklearn.compose import ColumnTransformer\n",
    "from sklearn.ensemble import RandomForestClassifier\n",
    "from sklearn.metrics import classification_report, confusion_matrix, accuracy_score\n",
    "from sklearn.linear_model import LinearRegression\n",
    "from sklearn.metrics import mean_absolute_error, r2_score\n",
    "import tensorflow as tf\n",
    "import xgboost as xgb\n",
    "from xgboost import XGBRegressor\n",
    "from sklearn.ensemble import RandomForestRegressor"
   ]
  },
  {
   "cell_type": "code",
   "execution_count": 3,
   "id": "a41367e7",
   "metadata": {
    "execution": {
     "iopub.execute_input": "2024-07-31T20:08:21.178060Z",
     "iopub.status.busy": "2024-07-31T20:08:21.177295Z",
     "iopub.status.idle": "2024-07-31T20:08:21.205685Z",
     "shell.execute_reply": "2024-07-31T20:08:21.204361Z"
    },
    "papermill": {
     "duration": 0.05806,
     "end_time": "2024-07-31T20:08:21.208651",
     "exception": false,
     "start_time": "2024-07-31T20:08:21.150591",
     "status": "completed"
    },
    "tags": []
   },
   "outputs": [],
   "source": [
    "# Data Loading\n",
    "students = pd.read_csv(\"/kaggle/input/students-performance-dataset/Student_performance_data _.csv\")"
   ]
  },
  {
   "cell_type": "markdown",
   "id": "6dccdf0f",
   "metadata": {
    "papermill": {
     "duration": 0.024032,
     "end_time": "2024-07-31T20:08:21.259037",
     "exception": false,
     "start_time": "2024-07-31T20:08:21.235005",
     "status": "completed"
    },
    "tags": []
   },
   "source": [
    "# Exploratory Data Analysis (EDA)"
   ]
  },
  {
   "cell_type": "markdown",
   "id": "c65184a8",
   "metadata": {
    "papermill": {
     "duration": 0.026313,
     "end_time": "2024-07-31T20:08:21.310441",
     "exception": false,
     "start_time": "2024-07-31T20:08:21.284128",
     "status": "completed"
    },
    "tags": []
   },
   "source": [
    "## Looking at numbers"
   ]
  },
  {
   "cell_type": "code",
   "execution_count": 4,
   "id": "45a54368",
   "metadata": {
    "execution": {
     "iopub.execute_input": "2024-07-31T20:08:21.363692Z",
     "iopub.status.busy": "2024-07-31T20:08:21.363278Z",
     "iopub.status.idle": "2024-07-31T20:08:21.397104Z",
     "shell.execute_reply": "2024-07-31T20:08:21.395980Z"
    },
    "papermill": {
     "duration": 0.062825,
     "end_time": "2024-07-31T20:08:21.399832",
     "exception": false,
     "start_time": "2024-07-31T20:08:21.337007",
     "status": "completed"
    },
    "tags": []
   },
   "outputs": [
    {
     "data": {
      "text/html": [
       "<div>\n",
       "<style scoped>\n",
       "    .dataframe tbody tr th:only-of-type {\n",
       "        vertical-align: middle;\n",
       "    }\n",
       "\n",
       "    .dataframe tbody tr th {\n",
       "        vertical-align: top;\n",
       "    }\n",
       "\n",
       "    .dataframe thead th {\n",
       "        text-align: right;\n",
       "    }\n",
       "</style>\n",
       "<table border=\"1\" class=\"dataframe\">\n",
       "  <thead>\n",
       "    <tr style=\"text-align: right;\">\n",
       "      <th></th>\n",
       "      <th>StudentID</th>\n",
       "      <th>Age</th>\n",
       "      <th>Gender</th>\n",
       "      <th>Ethnicity</th>\n",
       "      <th>ParentalEducation</th>\n",
       "      <th>StudyTimeWeekly</th>\n",
       "      <th>Absences</th>\n",
       "      <th>Tutoring</th>\n",
       "      <th>ParentalSupport</th>\n",
       "      <th>Extracurricular</th>\n",
       "      <th>Sports</th>\n",
       "      <th>Music</th>\n",
       "      <th>Volunteering</th>\n",
       "      <th>GPA</th>\n",
       "      <th>GradeClass</th>\n",
       "    </tr>\n",
       "  </thead>\n",
       "  <tbody>\n",
       "    <tr>\n",
       "      <th>0</th>\n",
       "      <td>1001</td>\n",
       "      <td>17</td>\n",
       "      <td>1</td>\n",
       "      <td>0</td>\n",
       "      <td>2</td>\n",
       "      <td>19.833723</td>\n",
       "      <td>7</td>\n",
       "      <td>1</td>\n",
       "      <td>2</td>\n",
       "      <td>0</td>\n",
       "      <td>0</td>\n",
       "      <td>1</td>\n",
       "      <td>0</td>\n",
       "      <td>2.929196</td>\n",
       "      <td>2.0</td>\n",
       "    </tr>\n",
       "    <tr>\n",
       "      <th>1</th>\n",
       "      <td>1002</td>\n",
       "      <td>18</td>\n",
       "      <td>0</td>\n",
       "      <td>0</td>\n",
       "      <td>1</td>\n",
       "      <td>15.408756</td>\n",
       "      <td>0</td>\n",
       "      <td>0</td>\n",
       "      <td>1</td>\n",
       "      <td>0</td>\n",
       "      <td>0</td>\n",
       "      <td>0</td>\n",
       "      <td>0</td>\n",
       "      <td>3.042915</td>\n",
       "      <td>1.0</td>\n",
       "    </tr>\n",
       "    <tr>\n",
       "      <th>2</th>\n",
       "      <td>1003</td>\n",
       "      <td>15</td>\n",
       "      <td>0</td>\n",
       "      <td>2</td>\n",
       "      <td>3</td>\n",
       "      <td>4.210570</td>\n",
       "      <td>26</td>\n",
       "      <td>0</td>\n",
       "      <td>2</td>\n",
       "      <td>0</td>\n",
       "      <td>0</td>\n",
       "      <td>0</td>\n",
       "      <td>0</td>\n",
       "      <td>0.112602</td>\n",
       "      <td>4.0</td>\n",
       "    </tr>\n",
       "    <tr>\n",
       "      <th>3</th>\n",
       "      <td>1004</td>\n",
       "      <td>17</td>\n",
       "      <td>1</td>\n",
       "      <td>0</td>\n",
       "      <td>3</td>\n",
       "      <td>10.028829</td>\n",
       "      <td>14</td>\n",
       "      <td>0</td>\n",
       "      <td>3</td>\n",
       "      <td>1</td>\n",
       "      <td>0</td>\n",
       "      <td>0</td>\n",
       "      <td>0</td>\n",
       "      <td>2.054218</td>\n",
       "      <td>3.0</td>\n",
       "    </tr>\n",
       "    <tr>\n",
       "      <th>4</th>\n",
       "      <td>1005</td>\n",
       "      <td>17</td>\n",
       "      <td>1</td>\n",
       "      <td>0</td>\n",
       "      <td>2</td>\n",
       "      <td>4.672495</td>\n",
       "      <td>17</td>\n",
       "      <td>1</td>\n",
       "      <td>3</td>\n",
       "      <td>0</td>\n",
       "      <td>0</td>\n",
       "      <td>0</td>\n",
       "      <td>0</td>\n",
       "      <td>1.288061</td>\n",
       "      <td>4.0</td>\n",
       "    </tr>\n",
       "  </tbody>\n",
       "</table>\n",
       "</div>"
      ],
      "text/plain": [
       "   StudentID  Age  Gender  Ethnicity  ParentalEducation  StudyTimeWeekly  \\\n",
       "0       1001   17       1          0                  2        19.833723   \n",
       "1       1002   18       0          0                  1        15.408756   \n",
       "2       1003   15       0          2                  3         4.210570   \n",
       "3       1004   17       1          0                  3        10.028829   \n",
       "4       1005   17       1          0                  2         4.672495   \n",
       "\n",
       "   Absences  Tutoring  ParentalSupport  Extracurricular  Sports  Music  \\\n",
       "0         7         1                2                0       0      1   \n",
       "1         0         0                1                0       0      0   \n",
       "2        26         0                2                0       0      0   \n",
       "3        14         0                3                1       0      0   \n",
       "4        17         1                3                0       0      0   \n",
       "\n",
       "   Volunteering       GPA  GradeClass  \n",
       "0             0  2.929196         2.0  \n",
       "1             0  3.042915         1.0  \n",
       "2             0  0.112602         4.0  \n",
       "3             0  2.054218         3.0  \n",
       "4             0  1.288061         4.0  "
      ]
     },
     "execution_count": 4,
     "metadata": {},
     "output_type": "execute_result"
    }
   ],
   "source": [
    "students.head()"
   ]
  },
  {
   "cell_type": "markdown",
   "id": "e29d2ee3",
   "metadata": {
    "papermill": {
     "duration": 0.025229,
     "end_time": "2024-07-31T20:08:21.449810",
     "exception": false,
     "start_time": "2024-07-31T20:08:21.424581",
     "status": "completed"
    },
    "tags": []
   },
   "source": [
    "Below with the `.info()` command we can check any kind of information about the dataset and its variables. "
   ]
  },
  {
   "cell_type": "code",
   "execution_count": 5,
   "id": "07736a5d",
   "metadata": {
    "execution": {
     "iopub.execute_input": "2024-07-31T20:08:21.502935Z",
     "iopub.status.busy": "2024-07-31T20:08:21.502495Z",
     "iopub.status.idle": "2024-07-31T20:08:21.535753Z",
     "shell.execute_reply": "2024-07-31T20:08:21.533789Z"
    },
    "papermill": {
     "duration": 0.06367,
     "end_time": "2024-07-31T20:08:21.538896",
     "exception": false,
     "start_time": "2024-07-31T20:08:21.475226",
     "status": "completed"
    },
    "tags": []
   },
   "outputs": [
    {
     "name": "stdout",
     "output_type": "stream",
     "text": [
      "<class 'pandas.core.frame.DataFrame'>\n",
      "RangeIndex: 2392 entries, 0 to 2391\n",
      "Data columns (total 15 columns):\n",
      " #   Column             Non-Null Count  Dtype  \n",
      "---  ------             --------------  -----  \n",
      " 0   StudentID          2392 non-null   int64  \n",
      " 1   Age                2392 non-null   int64  \n",
      " 2   Gender             2392 non-null   int64  \n",
      " 3   Ethnicity          2392 non-null   int64  \n",
      " 4   ParentalEducation  2392 non-null   int64  \n",
      " 5   StudyTimeWeekly    2392 non-null   float64\n",
      " 6   Absences           2392 non-null   int64  \n",
      " 7   Tutoring           2392 non-null   int64  \n",
      " 8   ParentalSupport    2392 non-null   int64  \n",
      " 9   Extracurricular    2392 non-null   int64  \n",
      " 10  Sports             2392 non-null   int64  \n",
      " 11  Music              2392 non-null   int64  \n",
      " 12  Volunteering       2392 non-null   int64  \n",
      " 13  GPA                2392 non-null   float64\n",
      " 14  GradeClass         2392 non-null   float64\n",
      "dtypes: float64(3), int64(12)\n",
      "memory usage: 280.4 KB\n"
     ]
    }
   ],
   "source": [
    "students.info()"
   ]
  },
  {
   "cell_type": "markdown",
   "id": "3ed77b2b",
   "metadata": {
    "papermill": {
     "duration": 0.026773,
     "end_time": "2024-07-31T20:08:21.593383",
     "exception": false,
     "start_time": "2024-07-31T20:08:21.566610",
     "status": "completed"
    },
    "tags": []
   },
   "source": [
    "We notice that we have 2392 entries (data points) and 15 columns (variables). We also notice the type the data in each column (variable) is stored as. For example Age values are stored as an integer and GPA values are stored as a float. In general, we want to have only numerical values (int/float) for our machine learning modeling stage and not 'object' type variables. If any object dtype variables are present further steps are required before we go into modeling stage using encoding or transformation techniques. In our case though, all of our dataset variables are numerical so we continue on with our EDA."
   ]
  },
  {
   "cell_type": "markdown",
   "id": "af56018d",
   "metadata": {
    "papermill": {
     "duration": 0.029042,
     "end_time": "2024-07-31T20:08:21.650679",
     "exception": false,
     "start_time": "2024-07-31T20:08:21.621637",
     "status": "completed"
    },
    "tags": []
   },
   "source": [
    "Next we check for missing values. It is very important to know if our dataset contains null (NaN) values on any variables. Any attempt to make machine learning models with null values present will result in failure. In order to deal with this problem various techniques can be employed ranging from straight up dropping the data points with the missing variable values (accepting that we might lose the value those data points hold), filling with the mean / most common value on that variable (this is a very common approach) or even doing further analysis to determine subgroups within the data and unveiling patterns, which would give us an idea of what the missing values could be (this is usually giving the best results but also is the most difficult and time consuming process)."
   ]
  },
  {
   "cell_type": "code",
   "execution_count": 6,
   "id": "40cda270",
   "metadata": {
    "execution": {
     "iopub.execute_input": "2024-07-31T20:08:21.706062Z",
     "iopub.status.busy": "2024-07-31T20:08:21.705645Z",
     "iopub.status.idle": "2024-07-31T20:08:21.715693Z",
     "shell.execute_reply": "2024-07-31T20:08:21.714520Z"
    },
    "papermill": {
     "duration": 0.039865,
     "end_time": "2024-07-31T20:08:21.718352",
     "exception": false,
     "start_time": "2024-07-31T20:08:21.678487",
     "status": "completed"
    },
    "tags": []
   },
   "outputs": [
    {
     "data": {
      "text/plain": [
       "StudentID            0\n",
       "Age                  0\n",
       "Gender               0\n",
       "Ethnicity            0\n",
       "ParentalEducation    0\n",
       "StudyTimeWeekly      0\n",
       "Absences             0\n",
       "Tutoring             0\n",
       "ParentalSupport      0\n",
       "Extracurricular      0\n",
       "Sports               0\n",
       "Music                0\n",
       "Volunteering         0\n",
       "GPA                  0\n",
       "GradeClass           0\n",
       "dtype: int64"
      ]
     },
     "execution_count": 6,
     "metadata": {},
     "output_type": "execute_result"
    }
   ],
   "source": [
    "students.isna().sum()"
   ]
  },
  {
   "cell_type": "markdown",
   "id": "b54878e2",
   "metadata": {
    "papermill": {
     "duration": 0.02618,
     "end_time": "2024-07-31T20:08:21.770638",
     "exception": false,
     "start_time": "2024-07-31T20:08:21.744458",
     "status": "completed"
    },
    "tags": []
   },
   "source": [
    "We notice that the NaN sums for every variable is 0, meaning that we do not have any missing values."
   ]
  },
  {
   "cell_type": "markdown",
   "id": "4e366291",
   "metadata": {
    "papermill": {
     "duration": 0.02474,
     "end_time": "2024-07-31T20:08:21.821548",
     "exception": false,
     "start_time": "2024-07-31T20:08:21.796808",
     "status": "completed"
    },
    "tags": []
   },
   "source": [
    "Another step in our EDA is to check for unique values. This gives us an idea of how many unique values we have corresponding to each variable. "
   ]
  },
  {
   "cell_type": "code",
   "execution_count": 7,
   "id": "2f4a2291",
   "metadata": {
    "execution": {
     "iopub.execute_input": "2024-07-31T20:08:21.878933Z",
     "iopub.status.busy": "2024-07-31T20:08:21.878482Z",
     "iopub.status.idle": "2024-07-31T20:08:21.896654Z",
     "shell.execute_reply": "2024-07-31T20:08:21.895168Z"
    },
    "papermill": {
     "duration": 0.049247,
     "end_time": "2024-07-31T20:08:21.899490",
     "exception": false,
     "start_time": "2024-07-31T20:08:21.850243",
     "status": "completed"
    },
    "tags": []
   },
   "outputs": [
    {
     "data": {
      "text/plain": [
       "StudentID            2392\n",
       "Age                     4\n",
       "Gender                  2\n",
       "Ethnicity               4\n",
       "ParentalEducation       5\n",
       "StudyTimeWeekly      2392\n",
       "Absences               30\n",
       "Tutoring                2\n",
       "ParentalSupport         5\n",
       "Extracurricular         2\n",
       "Sports                  2\n",
       "Music                   2\n",
       "Volunteering            2\n",
       "GPA                  2371\n",
       "GradeClass              5\n",
       "dtype: int64"
      ]
     },
     "execution_count": 7,
     "metadata": {},
     "output_type": "execute_result"
    }
   ],
   "source": [
    "students.nunique(axis=0)"
   ]
  },
  {
   "cell_type": "markdown",
   "id": "79b335a1",
   "metadata": {
    "papermill": {
     "duration": 0.028029,
     "end_time": "2024-07-31T20:08:21.953982",
     "exception": false,
     "start_time": "2024-07-31T20:08:21.925953",
     "status": "completed"
    },
    "tags": []
   },
   "source": [
    "We can also check the unique values of each variable with `.unique()` method which gives us these values in an array."
   ]
  },
  {
   "cell_type": "code",
   "execution_count": 8,
   "id": "9f5543e2",
   "metadata": {
    "execution": {
     "iopub.execute_input": "2024-07-31T20:08:22.007799Z",
     "iopub.status.busy": "2024-07-31T20:08:22.007406Z",
     "iopub.status.idle": "2024-07-31T20:08:22.017900Z",
     "shell.execute_reply": "2024-07-31T20:08:22.016180Z"
    },
    "papermill": {
     "duration": 0.040997,
     "end_time": "2024-07-31T20:08:22.021194",
     "exception": false,
     "start_time": "2024-07-31T20:08:21.980197",
     "status": "completed"
    },
    "tags": []
   },
   "outputs": [
    {
     "data": {
      "text/plain": [
       "array([2, 1, 3, 4, 0])"
      ]
     },
     "execution_count": 8,
     "metadata": {},
     "output_type": "execute_result"
    }
   ],
   "source": [
    "students['ParentalEducation'].unique()"
   ]
  },
  {
   "cell_type": "markdown",
   "id": "85442fa9",
   "metadata": {
    "papermill": {
     "duration": 0.026601,
     "end_time": "2024-07-31T20:08:22.149946",
     "exception": false,
     "start_time": "2024-07-31T20:08:22.123345",
     "status": "completed"
    },
    "tags": []
   },
   "source": [
    "A very useful method in EDA is `.describe()`. This gives us statistical information for our numerical columns (careful here since this only works for numerical and not object type variables) like mean, standard deviation, max / min and quartile information. It can be used to notice the presence of blatant outliers on the min and max values, understand the distribution of the data using the quartiles or detect possible skeweness by comparing mean and median (50% quartile) etc."
   ]
  },
  {
   "cell_type": "code",
   "execution_count": 9,
   "id": "7b2ab820",
   "metadata": {
    "execution": {
     "iopub.execute_input": "2024-07-31T20:08:22.202829Z",
     "iopub.status.busy": "2024-07-31T20:08:22.202367Z",
     "iopub.status.idle": "2024-07-31T20:08:22.273208Z",
     "shell.execute_reply": "2024-07-31T20:08:22.271541Z"
    },
    "papermill": {
     "duration": 0.101968,
     "end_time": "2024-07-31T20:08:22.277308",
     "exception": false,
     "start_time": "2024-07-31T20:08:22.175340",
     "status": "completed"
    },
    "tags": []
   },
   "outputs": [
    {
     "data": {
      "text/html": [
       "<div>\n",
       "<style scoped>\n",
       "    .dataframe tbody tr th:only-of-type {\n",
       "        vertical-align: middle;\n",
       "    }\n",
       "\n",
       "    .dataframe tbody tr th {\n",
       "        vertical-align: top;\n",
       "    }\n",
       "\n",
       "    .dataframe thead th {\n",
       "        text-align: right;\n",
       "    }\n",
       "</style>\n",
       "<table border=\"1\" class=\"dataframe\">\n",
       "  <thead>\n",
       "    <tr style=\"text-align: right;\">\n",
       "      <th></th>\n",
       "      <th>StudentID</th>\n",
       "      <th>Age</th>\n",
       "      <th>Gender</th>\n",
       "      <th>Ethnicity</th>\n",
       "      <th>ParentalEducation</th>\n",
       "      <th>StudyTimeWeekly</th>\n",
       "      <th>Absences</th>\n",
       "      <th>Tutoring</th>\n",
       "      <th>ParentalSupport</th>\n",
       "      <th>Extracurricular</th>\n",
       "      <th>Sports</th>\n",
       "      <th>Music</th>\n",
       "      <th>Volunteering</th>\n",
       "      <th>GPA</th>\n",
       "      <th>GradeClass</th>\n",
       "    </tr>\n",
       "  </thead>\n",
       "  <tbody>\n",
       "    <tr>\n",
       "      <th>count</th>\n",
       "      <td>2392.000000</td>\n",
       "      <td>2392.000000</td>\n",
       "      <td>2392.000000</td>\n",
       "      <td>2392.000000</td>\n",
       "      <td>2392.000000</td>\n",
       "      <td>2392.000000</td>\n",
       "      <td>2392.000000</td>\n",
       "      <td>2392.000000</td>\n",
       "      <td>2392.000000</td>\n",
       "      <td>2392.000000</td>\n",
       "      <td>2392.000000</td>\n",
       "      <td>2392.000000</td>\n",
       "      <td>2392.000000</td>\n",
       "      <td>2392.000000</td>\n",
       "      <td>2392.000000</td>\n",
       "    </tr>\n",
       "    <tr>\n",
       "      <th>mean</th>\n",
       "      <td>2196.500000</td>\n",
       "      <td>16.468645</td>\n",
       "      <td>0.510870</td>\n",
       "      <td>0.877508</td>\n",
       "      <td>1.746237</td>\n",
       "      <td>9.771992</td>\n",
       "      <td>14.541388</td>\n",
       "      <td>0.301421</td>\n",
       "      <td>2.122074</td>\n",
       "      <td>0.383361</td>\n",
       "      <td>0.303512</td>\n",
       "      <td>0.196906</td>\n",
       "      <td>0.157191</td>\n",
       "      <td>1.906186</td>\n",
       "      <td>2.983696</td>\n",
       "    </tr>\n",
       "    <tr>\n",
       "      <th>std</th>\n",
       "      <td>690.655244</td>\n",
       "      <td>1.123798</td>\n",
       "      <td>0.499986</td>\n",
       "      <td>1.028476</td>\n",
       "      <td>1.000411</td>\n",
       "      <td>5.652774</td>\n",
       "      <td>8.467417</td>\n",
       "      <td>0.458971</td>\n",
       "      <td>1.122813</td>\n",
       "      <td>0.486307</td>\n",
       "      <td>0.459870</td>\n",
       "      <td>0.397744</td>\n",
       "      <td>0.364057</td>\n",
       "      <td>0.915156</td>\n",
       "      <td>1.233908</td>\n",
       "    </tr>\n",
       "    <tr>\n",
       "      <th>min</th>\n",
       "      <td>1001.000000</td>\n",
       "      <td>15.000000</td>\n",
       "      <td>0.000000</td>\n",
       "      <td>0.000000</td>\n",
       "      <td>0.000000</td>\n",
       "      <td>0.001057</td>\n",
       "      <td>0.000000</td>\n",
       "      <td>0.000000</td>\n",
       "      <td>0.000000</td>\n",
       "      <td>0.000000</td>\n",
       "      <td>0.000000</td>\n",
       "      <td>0.000000</td>\n",
       "      <td>0.000000</td>\n",
       "      <td>0.000000</td>\n",
       "      <td>0.000000</td>\n",
       "    </tr>\n",
       "    <tr>\n",
       "      <th>25%</th>\n",
       "      <td>1598.750000</td>\n",
       "      <td>15.000000</td>\n",
       "      <td>0.000000</td>\n",
       "      <td>0.000000</td>\n",
       "      <td>1.000000</td>\n",
       "      <td>5.043079</td>\n",
       "      <td>7.000000</td>\n",
       "      <td>0.000000</td>\n",
       "      <td>1.000000</td>\n",
       "      <td>0.000000</td>\n",
       "      <td>0.000000</td>\n",
       "      <td>0.000000</td>\n",
       "      <td>0.000000</td>\n",
       "      <td>1.174803</td>\n",
       "      <td>2.000000</td>\n",
       "    </tr>\n",
       "    <tr>\n",
       "      <th>50%</th>\n",
       "      <td>2196.500000</td>\n",
       "      <td>16.000000</td>\n",
       "      <td>1.000000</td>\n",
       "      <td>0.000000</td>\n",
       "      <td>2.000000</td>\n",
       "      <td>9.705363</td>\n",
       "      <td>15.000000</td>\n",
       "      <td>0.000000</td>\n",
       "      <td>2.000000</td>\n",
       "      <td>0.000000</td>\n",
       "      <td>0.000000</td>\n",
       "      <td>0.000000</td>\n",
       "      <td>0.000000</td>\n",
       "      <td>1.893393</td>\n",
       "      <td>4.000000</td>\n",
       "    </tr>\n",
       "    <tr>\n",
       "      <th>75%</th>\n",
       "      <td>2794.250000</td>\n",
       "      <td>17.000000</td>\n",
       "      <td>1.000000</td>\n",
       "      <td>2.000000</td>\n",
       "      <td>2.000000</td>\n",
       "      <td>14.408410</td>\n",
       "      <td>22.000000</td>\n",
       "      <td>1.000000</td>\n",
       "      <td>3.000000</td>\n",
       "      <td>1.000000</td>\n",
       "      <td>1.000000</td>\n",
       "      <td>0.000000</td>\n",
       "      <td>0.000000</td>\n",
       "      <td>2.622216</td>\n",
       "      <td>4.000000</td>\n",
       "    </tr>\n",
       "    <tr>\n",
       "      <th>max</th>\n",
       "      <td>3392.000000</td>\n",
       "      <td>18.000000</td>\n",
       "      <td>1.000000</td>\n",
       "      <td>3.000000</td>\n",
       "      <td>4.000000</td>\n",
       "      <td>19.978094</td>\n",
       "      <td>29.000000</td>\n",
       "      <td>1.000000</td>\n",
       "      <td>4.000000</td>\n",
       "      <td>1.000000</td>\n",
       "      <td>1.000000</td>\n",
       "      <td>1.000000</td>\n",
       "      <td>1.000000</td>\n",
       "      <td>4.000000</td>\n",
       "      <td>4.000000</td>\n",
       "    </tr>\n",
       "  </tbody>\n",
       "</table>\n",
       "</div>"
      ],
      "text/plain": [
       "         StudentID          Age       Gender    Ethnicity  ParentalEducation  \\\n",
       "count  2392.000000  2392.000000  2392.000000  2392.000000        2392.000000   \n",
       "mean   2196.500000    16.468645     0.510870     0.877508           1.746237   \n",
       "std     690.655244     1.123798     0.499986     1.028476           1.000411   \n",
       "min    1001.000000    15.000000     0.000000     0.000000           0.000000   \n",
       "25%    1598.750000    15.000000     0.000000     0.000000           1.000000   \n",
       "50%    2196.500000    16.000000     1.000000     0.000000           2.000000   \n",
       "75%    2794.250000    17.000000     1.000000     2.000000           2.000000   \n",
       "max    3392.000000    18.000000     1.000000     3.000000           4.000000   \n",
       "\n",
       "       StudyTimeWeekly     Absences     Tutoring  ParentalSupport  \\\n",
       "count      2392.000000  2392.000000  2392.000000      2392.000000   \n",
       "mean          9.771992    14.541388     0.301421         2.122074   \n",
       "std           5.652774     8.467417     0.458971         1.122813   \n",
       "min           0.001057     0.000000     0.000000         0.000000   \n",
       "25%           5.043079     7.000000     0.000000         1.000000   \n",
       "50%           9.705363    15.000000     0.000000         2.000000   \n",
       "75%          14.408410    22.000000     1.000000         3.000000   \n",
       "max          19.978094    29.000000     1.000000         4.000000   \n",
       "\n",
       "       Extracurricular       Sports        Music  Volunteering          GPA  \\\n",
       "count      2392.000000  2392.000000  2392.000000   2392.000000  2392.000000   \n",
       "mean          0.383361     0.303512     0.196906      0.157191     1.906186   \n",
       "std           0.486307     0.459870     0.397744      0.364057     0.915156   \n",
       "min           0.000000     0.000000     0.000000      0.000000     0.000000   \n",
       "25%           0.000000     0.000000     0.000000      0.000000     1.174803   \n",
       "50%           0.000000     0.000000     0.000000      0.000000     1.893393   \n",
       "75%           1.000000     1.000000     0.000000      0.000000     2.622216   \n",
       "max           1.000000     1.000000     1.000000      1.000000     4.000000   \n",
       "\n",
       "        GradeClass  \n",
       "count  2392.000000  \n",
       "mean      2.983696  \n",
       "std       1.233908  \n",
       "min       0.000000  \n",
       "25%       2.000000  \n",
       "50%       4.000000  \n",
       "75%       4.000000  \n",
       "max       4.000000  "
      ]
     },
     "execution_count": 9,
     "metadata": {},
     "output_type": "execute_result"
    }
   ],
   "source": [
    "students.describe()"
   ]
  },
  {
   "cell_type": "markdown",
   "id": "4039815e",
   "metadata": {
    "papermill": {
     "duration": 0.026556,
     "end_time": "2024-07-31T20:08:22.331930",
     "exception": false,
     "start_time": "2024-07-31T20:08:22.305374",
     "status": "completed"
    },
    "tags": []
   },
   "source": [
    "We can use the `.value_counts()` method to list the unique value counts of a variable. This for example could help us to determine if a variable is biased towards specific values or not."
   ]
  },
  {
   "cell_type": "code",
   "execution_count": 10,
   "id": "e7a89b68",
   "metadata": {
    "execution": {
     "iopub.execute_input": "2024-07-31T20:08:22.393154Z",
     "iopub.status.busy": "2024-07-31T20:08:22.391997Z",
     "iopub.status.idle": "2024-07-31T20:08:22.405025Z",
     "shell.execute_reply": "2024-07-31T20:08:22.402999Z"
    },
    "papermill": {
     "duration": 0.048089,
     "end_time": "2024-07-31T20:08:22.407914",
     "exception": false,
     "start_time": "2024-07-31T20:08:22.359825",
     "status": "completed"
    },
    "tags": []
   },
   "outputs": [
    {
     "data": {
      "text/plain": [
       "Age\n",
       "15    630\n",
       "16    593\n",
       "17    587\n",
       "18    582\n",
       "Name: count, dtype: int64"
      ]
     },
     "execution_count": 10,
     "metadata": {},
     "output_type": "execute_result"
    }
   ],
   "source": [
    "age = students['Age'].value_counts();age"
   ]
  },
  {
   "cell_type": "markdown",
   "id": "8374fc39",
   "metadata": {
    "papermill": {
     "duration": 0.028048,
     "end_time": "2024-07-31T20:08:22.462647",
     "exception": false,
     "start_time": "2024-07-31T20:08:22.434599",
     "status": "completed"
    },
    "tags": []
   },
   "source": [
    "## Visualizations"
   ]
  },
  {
   "cell_type": "markdown",
   "id": "55988ebf",
   "metadata": {
    "papermill": {
     "duration": 0.027464,
     "end_time": "2024-07-31T20:08:22.518633",
     "exception": false,
     "start_time": "2024-07-31T20:08:22.491169",
     "status": "completed"
    },
    "tags": []
   },
   "source": [
    "Looking at numbers is great but nothing speaks better than visualizations. From simple graphs to more elaborate ones, all of them contribute to a better understanding of the distributions, counts and correlations in our data variables. Using visualizations, we can communicate findings more intuitively and in a more eye pleasing way that even people not related in the field can understand."
   ]
  },
  {
   "cell_type": "markdown",
   "id": "216c9748",
   "metadata": {
    "papermill": {
     "duration": 0.030647,
     "end_time": "2024-07-31T20:08:22.576643",
     "exception": false,
     "start_time": "2024-07-31T20:08:22.545996",
     "status": "completed"
    },
    "tags": []
   },
   "source": [
    "We can use a simple pie chart to showcase the above age counts."
   ]
  },
  {
   "cell_type": "code",
   "execution_count": 11,
   "id": "af8e5bb9",
   "metadata": {
    "execution": {
     "iopub.execute_input": "2024-07-31T20:08:22.640442Z",
     "iopub.status.busy": "2024-07-31T20:08:22.639475Z",
     "iopub.status.idle": "2024-07-31T20:08:22.893726Z",
     "shell.execute_reply": "2024-07-31T20:08:22.892127Z"
    },
    "papermill": {
     "duration": 0.289215,
     "end_time": "2024-07-31T20:08:22.896889",
     "exception": false,
     "start_time": "2024-07-31T20:08:22.607674",
     "status": "completed"
    },
    "tags": []
   },
   "outputs": [
    {
     "data": {
      "text/plain": [
       "<Axes: ylabel='count'>"
      ]
     },
     "execution_count": 11,
     "metadata": {},
     "output_type": "execute_result"
    },
    {
     "data": {
      "image/png": "[encoded data removed]",
      "text/plain": [
       "<Figure size 640x480 with 1 Axes>"
      ]
     },
     "metadata": {},
     "output_type": "display_data"
    }
   ],
   "source": [
    "age.plot( kind='pie', autopct='%1.0f%%')"
   ]
  },
  {
   "cell_type": "markdown",
   "id": "0bf46314",
   "metadata": {
    "papermill": {
     "duration": 0.0272,
     "end_time": "2024-07-31T20:08:22.972851",
     "exception": false,
     "start_time": "2024-07-31T20:08:22.945651",
     "status": "completed"
    },
    "tags": []
   },
   "source": [
    "Same below we use a bar chart to showcase the Gender counts"
   ]
  },
  {
   "cell_type": "code",
   "execution_count": 12,
   "id": "6ac21ca8",
   "metadata": {
    "execution": {
     "iopub.execute_input": "2024-07-31T20:08:23.029025Z",
     "iopub.status.busy": "2024-07-31T20:08:23.028639Z",
     "iopub.status.idle": "2024-07-31T20:08:23.237205Z",
     "shell.execute_reply": "2024-07-31T20:08:23.235528Z"
    },
    "papermill": {
     "duration": 0.240292,
     "end_time": "2024-07-31T20:08:23.240056",
     "exception": false,
     "start_time": "2024-07-31T20:08:22.999764",
     "status": "completed"
    },
    "tags": []
   },
   "outputs": [
    {
     "data": {
      "text/plain": [
       "<Axes: xlabel='Gender'>"
      ]
     },
     "execution_count": 12,
     "metadata": {},
     "output_type": "execute_result"
    },
    {
     "data": {
      "image/png": "[encoded data removed]",
      "text/plain": [
       "<Figure size 640x480 with 1 Axes>"
      ]
     },
     "metadata": {},
     "output_type": "display_data"
    }
   ],
   "source": [
    "#df['Gender'].value_counts()\n",
    "students['Gender'].value_counts().plot( kind='bar') "
   ]
  },
  {
   "cell_type": "markdown",
   "id": "394528cd",
   "metadata": {
    "papermill": {
     "duration": 0.027277,
     "end_time": "2024-07-31T20:08:23.295928",
     "exception": false,
     "start_time": "2024-07-31T20:08:23.268651",
     "status": "completed"
    },
    "tags": []
   },
   "source": [
    "We can also use histograms to plot the frequencies of numerical data, providing a clear view of the distribution of values within each variable. Histograms help us see how data is spread, identify common ranges, and detect any skewness or unusual patterns. They are particularly useful for spotting outliers and understanding the underlying distribution, whether it's normal, bimodal, or skewed."
   ]
  },
  {
   "cell_type": "code",
   "execution_count": 13,
   "id": "eac34d14",
   "metadata": {
    "execution": {
     "iopub.execute_input": "2024-07-31T20:08:23.353959Z",
     "iopub.status.busy": "2024-07-31T20:08:23.353122Z",
     "iopub.status.idle": "2024-07-31T20:08:23.733344Z",
     "shell.execute_reply": "2024-07-31T20:08:23.731942Z"
    },
    "papermill": {
     "duration": 0.412712,
     "end_time": "2024-07-31T20:08:23.736232",
     "exception": false,
     "start_time": "2024-07-31T20:08:23.323520",
     "status": "completed"
    },
    "tags": []
   },
   "outputs": [
    {
     "data": {
      "text/plain": [
       "<Axes: title={'center': 'Absences'}, ylabel='Frequency'>"
      ]
     },
     "execution_count": 13,
     "metadata": {},
     "output_type": "execute_result"
    },
    {
     "data": {
      "image/png": "[encoded data removed]",
      "text/plain": [
       "<Figure size 640x480 with 1 Axes>"
      ]
     },
     "metadata": {},
     "output_type": "display_data"
    }
   ],
   "source": [
    "students['Absences'].plot( kind='hist', bins=30, edgecolor='black', title= 'Absences')"
   ]
  },
  {
   "cell_type": "code",
   "execution_count": 14,
   "id": "9468ab32",
   "metadata": {
    "execution": {
     "iopub.execute_input": "2024-07-31T20:08:23.793811Z",
     "iopub.status.busy": "2024-07-31T20:08:23.793390Z",
     "iopub.status.idle": "2024-07-31T20:08:24.226127Z",
     "shell.execute_reply": "2024-07-31T20:08:24.224729Z"
    },
    "papermill": {
     "duration": 0.466621,
     "end_time": "2024-07-31T20:08:24.230774",
     "exception": false,
     "start_time": "2024-07-31T20:08:23.764153",
     "status": "completed"
    },
    "tags": []
   },
   "outputs": [
    {
     "data": {
      "text/plain": [
       "<Axes: title={'center': 'StudyTimeWeekly Density'}, ylabel='Frequency'>"
      ]
     },
     "execution_count": 14,
     "metadata": {},
     "output_type": "execute_result"
    },
    {
     "data": {
      "image/png": "[encoded data removed]",
      "text/plain": [
       "<Figure size 640x480 with 1 Axes>"
      ]
     },
     "metadata": {},
     "output_type": "display_data"
    }
   ],
   "source": [
    "students['StudyTimeWeekly'].plot( kind='hist', bins=30, density = True, \n",
    "                                 edgecolor='black', title= 'StudyTimeWeekly Density')"
   ]
  },
  {
   "cell_type": "markdown",
   "id": "1705667c",
   "metadata": {
    "papermill": {
     "duration": 0.046651,
     "end_time": "2024-07-31T20:08:24.312571",
     "exception": false,
     "start_time": "2024-07-31T20:08:24.265920",
     "status": "completed"
    },
    "tags": []
   },
   "source": [
    "Notice the `density = True` turns the graph from simple count of datapoints in each bin to a probability density function graph."
   ]
  },
  {
   "cell_type": "markdown",
   "id": "461cf151",
   "metadata": {
    "papermill": {
     "duration": 0.030624,
     "end_time": "2024-07-31T20:08:24.380891",
     "exception": false,
     "start_time": "2024-07-31T20:08:24.350267",
     "status": "completed"
    },
    "tags": []
   },
   "source": [
    "Now let's do some digging. We want to find how students are doing based on this dataset. We can check the value counts of the `GradeClass` variable to see how many students belong in each bracket."
   ]
  },
  {
   "cell_type": "code",
   "execution_count": 15,
   "id": "bc715874",
   "metadata": {
    "execution": {
     "iopub.execute_input": "2024-07-31T20:08:24.441624Z",
     "iopub.status.busy": "2024-07-31T20:08:24.441182Z",
     "iopub.status.idle": "2024-07-31T20:08:24.452853Z",
     "shell.execute_reply": "2024-07-31T20:08:24.451541Z"
    },
    "papermill": {
     "duration": 0.045138,
     "end_time": "2024-07-31T20:08:24.455425",
     "exception": false,
     "start_time": "2024-07-31T20:08:24.410287",
     "status": "completed"
    },
    "tags": []
   },
   "outputs": [
    {
     "data": {
      "text/plain": [
       "GradeClass\n",
       "4.0    1211\n",
       "3.0     414\n",
       "2.0     391\n",
       "1.0     269\n",
       "0.0     107\n",
       "Name: count, dtype: int64"
      ]
     },
     "execution_count": 15,
     "metadata": {},
     "output_type": "execute_result"
    }
   ],
   "source": [
    "students['GradeClass'].value_counts()"
   ]
  },
  {
   "cell_type": "markdown",
   "id": "e3e18420",
   "metadata": {
    "papermill": {
     "duration": 0.030883,
     "end_time": "2024-07-31T20:08:24.516395",
     "exception": false,
     "start_time": "2024-07-31T20:08:24.485512",
     "status": "completed"
    },
    "tags": []
   },
   "source": [
    "Looks like a really big portion of students belongs to class 4 while only a small amount of students belongs to class 1."
   ]
  },
  {
   "cell_type": "markdown",
   "id": "9456df4e",
   "metadata": {
    "papermill": {
     "duration": 0.028352,
     "end_time": "2024-07-31T20:08:24.575280",
     "exception": false,
     "start_time": "2024-07-31T20:08:24.546928",
     "status": "completed"
    },
    "tags": []
   },
   "source": [
    "Keep in mind that GradeClass is structured as:\n",
    "\n",
    "GradeClass: Classification of students' grades based on GPA:\n",
    "- 0: 'A' (GPA >= 3.5)\n",
    "- 1: 'B' (3.0 <= GPA < 3.5)\n",
    "- 2: 'C' (2.5 <= GPA < 3.0)\n",
    "- 3: 'D' (2.0 <= GPA < 2.5)\n",
    "- 4: 'F' (GPA < 2.0)\n",
    "\n",
    "So the highest grades are on the lower number on this scale. This will come into play later on in our analysis when we need to make verdict on correlation.\n",
    "\n",
    "Below we can see a more elaborate pie chart with more parameters to make it more aesthetically pleasing and provide more information like percentages.\n"
   ]
  },
  {
   "cell_type": "code",
   "execution_count": 16,
   "id": "d65a1c14",
   "metadata": {
    "execution": {
     "iopub.execute_input": "2024-07-31T20:08:24.635428Z",
     "iopub.status.busy": "2024-07-31T20:08:24.634923Z",
     "iopub.status.idle": "2024-07-31T20:08:24.845605Z",
     "shell.execute_reply": "2024-07-31T20:08:24.844377Z"
    },
    "papermill": {
     "duration": 0.24485,
     "end_time": "2024-07-31T20:08:24.848560",
     "exception": false,
     "start_time": "2024-07-31T20:08:24.603710",
     "status": "completed"
    },
    "tags": []
   },
   "outputs": [
    {
     "data": {
      "image/png": "[encoded data removed]",
      "text/plain": [
       "<Figure size 640x480 with 1 Axes>"
      ]
     },
     "metadata": {},
     "output_type": "display_data"
    }
   ],
   "source": [
    "plt.pie(\n",
    "    students['GradeClass'].value_counts(),\n",
    "    labels=['F','D','C','B','A'],\n",
    "    autopct=\"%1.1f%%\",\n",
    "    startangle=15,\n",
    "    shadow=True,\n",
    "    colors=[\"firebrick\", \"lightcoral\", \"khaki\",\"lightblue\",\"palegreen\"],\n",
    "    explode=(0.1, 0.1, 0, 0.1, 0.1),\n",
    ")\n",
    "plt.title('Classification of student grades based on Grade Class')\n",
    "plt.show()"
   ]
  },
  {
   "cell_type": "markdown",
   "id": "6128af07",
   "metadata": {
    "papermill": {
     "duration": 0.032396,
     "end_time": "2024-07-31T20:08:24.911602",
     "exception": false,
     "start_time": "2024-07-31T20:08:24.879206",
     "status": "completed"
    },
    "tags": []
   },
   "source": [
    "We notice that 50.6% of students has a GPA lower than 2.0 while only 15.7% has a GPA higher than 3.0 This is concerning but what is the cause of this effect? This is a question that will most likely haunt you pretty frequently in this field. Let's start digging more into it."
   ]
  },
  {
   "cell_type": "markdown",
   "id": "174f8a2d",
   "metadata": {
    "papermill": {
     "duration": 0.030324,
     "end_time": "2024-07-31T20:08:24.974145",
     "exception": false,
     "start_time": "2024-07-31T20:08:24.943821",
     "status": "completed"
    },
    "tags": []
   },
   "source": [
    "## Correlations"
   ]
  },
  {
   "cell_type": "markdown",
   "id": "01cf6a7f",
   "metadata": {
    "papermill": {
     "duration": 0.029762,
     "end_time": "2024-07-31T20:08:25.033792",
     "exception": false,
     "start_time": "2024-07-31T20:08:25.004030",
     "status": "completed"
    },
    "tags": []
   },
   "source": [
    "One thing we can do is look at box plots. Box plots provide a visual summary of the data, showing the median, quartiles, and potential outliers. By plotting GPAs using box plots, we can compare the distributions across different groups, such as gender, age, ethinicity or parental support. This allows us to identify any significant variations or patterns that may explain the discrepancies in GPA distribution. Additionally, box plots can highlight the presence of outliers that might be affecting the overall analysis, and provide a clear view of the median GPA for each group. After examining the box plots, we will investigate any patterns or correlations that emerge in more detail to better understand the underlying causes of this trend."
   ]
  },
  {
   "cell_type": "code",
   "execution_count": 17,
   "id": "99ce9f09",
   "metadata": {
    "execution": {
     "iopub.execute_input": "2024-07-31T20:08:25.099680Z",
     "iopub.status.busy": "2024-07-31T20:08:25.097841Z",
     "iopub.status.idle": "2024-07-31T20:08:25.482274Z",
     "shell.execute_reply": "2024-07-31T20:08:25.480843Z"
    },
    "papermill": {
     "duration": 0.420868,
     "end_time": "2024-07-31T20:08:25.485307",
     "exception": false,
     "start_time": "2024-07-31T20:08:25.064439",
     "status": "completed"
    },
    "tags": []
   },
   "outputs": [
    {
     "data": {
      "image/png": "[encoded data removed]",
      "text/plain": [
       "<Figure size 1500x800 with 1 Axes>"
      ]
     },
     "metadata": {},
     "output_type": "display_data"
    }
   ],
   "source": [
    "plt.figure(figsize=(15, 8))\n",
    "box = plt.boxplot([students[students['Ethnicity'] == level]['GPA'] \n",
    "                   for level in students['Ethnicity'].unique()],\n",
    "                  labels=students['Ethnicity'].unique())\n",
    "plt.title('GPA by Ethnicity')\n",
    "plt.xlabel('Ethnicity')\n",
    "plt.ylabel('GPA')\n",
    "plt.show()"
   ]
  },
  {
   "cell_type": "code",
   "execution_count": 18,
   "id": "96c1470e",
   "metadata": {
    "execution": {
     "iopub.execute_input": "2024-07-31T20:08:25.549250Z",
     "iopub.status.busy": "2024-07-31T20:08:25.548814Z",
     "iopub.status.idle": "2024-07-31T20:08:25.900856Z",
     "shell.execute_reply": "2024-07-31T20:08:25.899404Z"
    },
    "papermill": {
     "duration": 0.38852,
     "end_time": "2024-07-31T20:08:25.903781",
     "exception": false,
     "start_time": "2024-07-31T20:08:25.515261",
     "status": "completed"
    },
    "tags": []
   },
   "outputs": [
    {
     "data": {
      "image/png": "[encoded data removed]",
      "text/plain": [
       "<Figure size 1500x800 with 1 Axes>"
      ]
     },
     "metadata": {},
     "output_type": "display_data"
    }
   ],
   "source": [
    "plt.figure(figsize=(15, 8))\n",
    "box = plt.boxplot([students[students['Gender'] == level]['GPA'] \n",
    "                   for level in students['Gender'].unique()],\n",
    "                  labels=students['Gender'].unique())\n",
    "plt.title('GPA by Gender')\n",
    "plt.xlabel('Gender')\n",
    "plt.ylabel('GPA')\n",
    "plt.show()"
   ]
  },
  {
   "cell_type": "code",
   "execution_count": 19,
   "id": "50a546b3",
   "metadata": {
    "execution": {
     "iopub.execute_input": "2024-07-31T20:08:25.974411Z",
     "iopub.status.busy": "2024-07-31T20:08:25.973669Z",
     "iopub.status.idle": "2024-07-31T20:08:26.350688Z",
     "shell.execute_reply": "2024-07-31T20:08:26.348509Z"
    },
    "papermill": {
     "duration": 0.415389,
     "end_time": "2024-07-31T20:08:26.353756",
     "exception": false,
     "start_time": "2024-07-31T20:08:25.938367",
     "status": "completed"
    },
    "tags": []
   },
   "outputs": [
    {
     "data": {
      "image/png": "[encoded data removed]",
      "text/plain": [
       "<Figure size 1500x800 with 1 Axes>"
      ]
     },
     "metadata": {},
     "output_type": "display_data"
    }
   ],
   "source": [
    "plt.figure(figsize=(15, 8))\n",
    "box = plt.boxplot([students[students['Age'] == level]['GPA'] \n",
    "                   for level in students['Age'].unique()],\n",
    "                  labels=students['Age'].unique())\n",
    "plt.title('GPA by Age')\n",
    "plt.xlabel('Age')\n",
    "plt.ylabel('GPA')\n",
    "plt.show()"
   ]
  },
  {
   "cell_type": "markdown",
   "id": "28eeb3b4",
   "metadata": {
    "papermill": {
     "duration": 0.035241,
     "end_time": "2024-07-31T20:08:26.424186",
     "exception": false,
     "start_time": "2024-07-31T20:08:26.388945",
     "status": "completed"
    },
    "tags": []
   },
   "source": [
    "We are not noticing anything peculiar so far. The box plots for different values seem fairly consistent. Additionaly we do not notice any outliers."
   ]
  },
  {
   "cell_type": "code",
   "execution_count": 20,
   "id": "169cc030",
   "metadata": {
    "execution": {
     "iopub.execute_input": "2024-07-31T20:08:26.495276Z",
     "iopub.status.busy": "2024-07-31T20:08:26.494822Z",
     "iopub.status.idle": "2024-07-31T20:08:26.903602Z",
     "shell.execute_reply": "2024-07-31T20:08:26.902194Z"
    },
    "papermill": {
     "duration": 0.446405,
     "end_time": "2024-07-31T20:08:26.906530",
     "exception": false,
     "start_time": "2024-07-31T20:08:26.460125",
     "status": "completed"
    },
    "tags": []
   },
   "outputs": [
    {
     "data": {
      "image/png": "[encoded data removed]",
      "text/plain": [
       "<Figure size 1500x800 with 1 Axes>"
      ]
     },
     "metadata": {},
     "output_type": "display_data"
    }
   ],
   "source": [
    "plt.figure(figsize=(15, 8))\n",
    "box = plt.boxplot([students[students['ParentalSupport'] == level]['GPA'] \n",
    "                   for level in students['ParentalSupport'].unique()],\n",
    "                  labels=students['ParentalSupport'].unique())\n",
    "plt.title('GPA by Parental Support')\n",
    "plt.xlabel('Parental Support')\n",
    "plt.ylabel('GPA')\n",
    "plt.show()"
   ]
  },
  {
   "cell_type": "markdown",
   "id": "58365d58",
   "metadata": {
    "papermill": {
     "duration": 0.030645,
     "end_time": "2024-07-31T20:08:26.968309",
     "exception": false,
     "start_time": "2024-07-31T20:08:26.937664",
     "status": "completed"
    },
    "tags": []
   },
   "source": [
    "Here we notice some descrepancy between lets say parental support 4 and 0. The median GPAs seem to be differing by almost a full point. We can investigate further to verify that there is indeed something substantial on this correlation."
   ]
  },
  {
   "cell_type": "code",
   "execution_count": 21,
   "id": "7dd7703c",
   "metadata": {
    "execution": {
     "iopub.execute_input": "2024-07-31T20:08:27.034191Z",
     "iopub.status.busy": "2024-07-31T20:08:27.033737Z",
     "iopub.status.idle": "2024-07-31T20:08:27.043517Z",
     "shell.execute_reply": "2024-07-31T20:08:27.042335Z"
    },
    "papermill": {
     "duration": 0.045497,
     "end_time": "2024-07-31T20:08:27.045984",
     "exception": false,
     "start_time": "2024-07-31T20:08:27.000487",
     "status": "completed"
    },
    "tags": []
   },
   "outputs": [
    {
     "data": {
      "text/plain": [
       "ParentalSupport\n",
       "2    740\n",
       "3    697\n",
       "1    489\n",
       "4    254\n",
       "0    212\n",
       "Name: count, dtype: int64"
      ]
     },
     "execution_count": 21,
     "metadata": {},
     "output_type": "execute_result"
    }
   ],
   "source": [
    "students['ParentalSupport'].value_counts()"
   ]
  },
  {
   "cell_type": "markdown",
   "id": "ff2e6081",
   "metadata": {
    "papermill": {
     "duration": 0.031944,
     "end_time": "2024-07-31T20:08:27.110216",
     "exception": false,
     "start_time": "2024-07-31T20:08:27.078272",
     "status": "completed"
    },
    "tags": []
   },
   "source": [
    "The counts for parental support equal to 4 and 0 are fairly even while most values seem to be between 2 and 3 which is expected since this would be the \"average\" parental support behaviour, neither neglecting students nor being overly supportive but still supportive enough."
   ]
  },
  {
   "cell_type": "code",
   "execution_count": 22,
   "id": "85cb049d",
   "metadata": {
    "execution": {
     "iopub.execute_input": "2024-07-31T20:08:27.175330Z",
     "iopub.status.busy": "2024-07-31T20:08:27.174877Z",
     "iopub.status.idle": "2024-07-31T20:08:28.097367Z",
     "shell.execute_reply": "2024-07-31T20:08:28.095911Z"
    },
    "papermill": {
     "duration": 0.958244,
     "end_time": "2024-07-31T20:08:28.099834",
     "exception": false,
     "start_time": "2024-07-31T20:08:27.141590",
     "status": "completed"
    },
    "tags": []
   },
   "outputs": [
    {
     "data": {
      "image/png": "[encoded data removed]",
      "text/plain": [
       "<Figure size 1000x600 with 1 Axes>"
      ]
     },
     "metadata": {},
     "output_type": "display_data"
    }
   ],
   "source": [
    "plt.figure(figsize=(10, 6))\n",
    "sns.scatterplot(x='ParentalSupport', y='GPA', data=students)\n",
    "sns.regplot(x='ParentalSupport', y='GPA', data=students, scatter=False, color='red')\n",
    "plt.title('Correlation between Parental Support and GPA')\n",
    "plt.xlabel('Parental Support')\n",
    "plt.ylabel('GPA')\n",
    "plt.show()"
   ]
  },
  {
   "cell_type": "markdown",
   "id": "30d90e4b",
   "metadata": {
    "papermill": {
     "duration": 0.03223,
     "end_time": "2024-07-31T20:08:28.165218",
     "exception": false,
     "start_time": "2024-07-31T20:08:28.132988",
     "status": "completed"
    },
    "tags": []
   },
   "source": [
    "From the above scatter plot we can see from the regression line in red that there is a positive correlation between the parental support and GPA. When one increases the other increases as well and vice versa."
   ]
  },
  {
   "cell_type": "markdown",
   "id": "7c17e1de",
   "metadata": {
    "papermill": {
     "duration": 0.032651,
     "end_time": "2024-07-31T20:08:28.230539",
     "exception": false,
     "start_time": "2024-07-31T20:08:28.197888",
     "status": "completed"
    },
    "tags": []
   },
   "source": [
    "We can group our data by parental support and get the mean GPAs for each group to more clearly see the differences"
   ]
  },
  {
   "cell_type": "code",
   "execution_count": 23,
   "id": "3b62aba0",
   "metadata": {
    "execution": {
     "iopub.execute_input": "2024-07-31T20:08:28.299893Z",
     "iopub.status.busy": "2024-07-31T20:08:28.299466Z",
     "iopub.status.idle": "2024-07-31T20:08:28.311563Z",
     "shell.execute_reply": "2024-07-31T20:08:28.310199Z"
    },
    "papermill": {
     "duration": 0.048386,
     "end_time": "2024-07-31T20:08:28.313915",
     "exception": false,
     "start_time": "2024-07-31T20:08:28.265529",
     "status": "completed"
    },
    "tags": []
   },
   "outputs": [
    {
     "data": {
      "text/plain": [
       "ParentalSupport\n",
       "0    1.540128\n",
       "1    1.755700\n",
       "2    1.884246\n",
       "3    2.042409\n",
       "4    2.191545\n",
       "Name: GPA, dtype: float64"
      ]
     },
     "execution_count": 23,
     "metadata": {},
     "output_type": "execute_result"
    }
   ],
   "source": [
    "mean_gpa = students.groupby('ParentalSupport')['GPA'].mean();mean_gpa"
   ]
  },
  {
   "cell_type": "markdown",
   "id": "d780927e",
   "metadata": {
    "papermill": {
     "duration": 0.032129,
     "end_time": "2024-07-31T20:08:28.379459",
     "exception": false,
     "start_time": "2024-07-31T20:08:28.347330",
     "status": "completed"
    },
    "tags": []
   },
   "source": [
    "Another thing we could do is do a Chi-Squared Test of independence. For this we can investigate the dependency of two categorical variables. Since `GPA` is a numerical and specifically a ratio type variable, we will look at `ParentalSupport` and `GradeClass` since they are both categorical type variables (specifically ordinal)."
   ]
  },
  {
   "cell_type": "code",
   "execution_count": 24,
   "id": "7587a1a9",
   "metadata": {
    "execution": {
     "iopub.execute_input": "2024-07-31T20:08:28.446861Z",
     "iopub.status.busy": "2024-07-31T20:08:28.446432Z",
     "iopub.status.idle": "2024-07-31T20:08:28.481701Z",
     "shell.execute_reply": "2024-07-31T20:08:28.480057Z"
    },
    "papermill": {
     "duration": 0.072517,
     "end_time": "2024-07-31T20:08:28.484522",
     "exception": false,
     "start_time": "2024-07-31T20:08:28.412005",
     "status": "completed"
    },
    "tags": []
   },
   "outputs": [
    {
     "name": "stdout",
     "output_type": "stream",
     "text": [
      "Contingency Table:\n",
      "GradeClass       0.0  1.0  2.0  3.0  4.0\n",
      "ParentalSupport                         \n",
      "0                  5    8   37   32  130\n",
      "1                 14   39   77   89  270\n",
      "2                 16   97  125  122  380\n",
      "3                 47   92  112  122  324\n",
      "4                 25   33   40   49  107\n",
      "\n",
      "Chi-square statistic: 73.78266419541622\n",
      "p-value: 2.1506704168219007e-09\n",
      "Degrees of freedom: 16\n",
      "\n",
      "Reject the null hypothesis.\n",
      "There is a significant relationship between Parental Support and Grade Class.\n"
     ]
    }
   ],
   "source": [
    "contingency_table = pd.crosstab(students['ParentalSupport'], students['GradeClass'])\n",
    "chi2, p_value, dof, expected = chi2_contingency(contingency_table)\n",
    "print(\"Contingency Table:\")\n",
    "print(contingency_table)\n",
    "print(f\"\\nChi-square statistic: {chi2}\")\n",
    "print(f\"p-value: {p_value}\")\n",
    "print(f\"Degrees of freedom: {dof}\")\n",
    "\n",
    "alpha = 0.05  # significance level\n",
    "if p_value <= alpha:\n",
    "    print(\"\\nReject the null hypothesis.\")\n",
    "    print(\"There is a significant relationship between Parental Support and Grade Class.\")\n",
    "else:\n",
    "    print(\"\\nFail to reject the null hypothesis.\")\n",
    "    print(\"There is no significant evidence of a relationship between Parental Support and Grade Class.\")"
   ]
  },
  {
   "cell_type": "markdown",
   "id": "a9d43cd4",
   "metadata": {
    "papermill": {
     "duration": 0.032684,
     "end_time": "2024-07-31T20:08:28.549587",
     "exception": false,
     "start_time": "2024-07-31T20:08:28.516903",
     "status": "completed"
    },
    "tags": []
   },
   "source": [
    "From the above we see that we rejected the null hypothesis (\"There is no statistically significant relationship between the two variables\") and we accept the alternative. Thus we can conclude that the two variables are related. \n",
    "\n",
    "You can read more about the Chi-Squared test of independence [here.](https://www.ling.upenn.edu/~clight/chisquared.htm)"
   ]
  },
  {
   "cell_type": "markdown",
   "id": "93d737f2",
   "metadata": {
    "papermill": {
     "duration": 0.031974,
     "end_time": "2024-07-31T20:08:28.615386",
     "exception": false,
     "start_time": "2024-07-31T20:08:28.583412",
     "status": "completed"
    },
    "tags": []
   },
   "source": [
    "Are they positively or negatively correlated though? The Chi-Squared test of independence does not give us the answer to that question. Fortunately there are ways to determine that, for example using correlation coefficients such as Spearman's rank correlation coefficient. "
   ]
  },
  {
   "cell_type": "code",
   "execution_count": 25,
   "id": "d28cc008",
   "metadata": {
    "execution": {
     "iopub.execute_input": "2024-07-31T20:08:28.683837Z",
     "iopub.status.busy": "2024-07-31T20:08:28.683442Z",
     "iopub.status.idle": "2024-07-31T20:08:28.695344Z",
     "shell.execute_reply": "2024-07-31T20:08:28.693816Z"
    },
    "papermill": {
     "duration": 0.049538,
     "end_time": "2024-07-31T20:08:28.698197",
     "exception": false,
     "start_time": "2024-07-31T20:08:28.648659",
     "status": "completed"
    },
    "tags": []
   },
   "outputs": [
    {
     "name": "stdout",
     "output_type": "stream",
     "text": [
      "Spearman's rank correlation coefficient: -0.126\n"
     ]
    }
   ],
   "source": [
    "spearman_corr, p_value_spearman = spearmanr(students['ParentalSupport'], students['GradeClass'])\n",
    "print(f\"Spearman's rank correlation coefficient: {spearman_corr:.3f}\")"
   ]
  },
  {
   "cell_type": "markdown",
   "id": "8829b3e1",
   "metadata": {
    "papermill": {
     "duration": 0.032198,
     "end_time": "2024-07-31T20:08:28.763821",
     "exception": false,
     "start_time": "2024-07-31T20:08:28.731623",
     "status": "completed"
    },
    "tags": []
   },
   "source": [
    "You can read more about Spearman's rank correlation coefficient [here.](https://www.statstutor.ac.uk/resources/uploaded/spearmans.pdf)\n",
    "\n",
    "Since our coefficient is -0.126 we can say that the two variables have a weak negative correlation. This might seem odd since we saw earlier the clear positive correlation between parental support and gpa, but I will remind you that we tested specifically the variable `GradeClass` and if you remember we mentioned it was structured in an inverse way than GPA. Hence the negative correlation here. If we extrapolate to the reverse case this is a weak positive correlation. "
   ]
  },
  {
   "cell_type": "markdown",
   "id": "ed0b9c2c",
   "metadata": {
    "papermill": {
     "duration": 0.033411,
     "end_time": "2024-07-31T20:08:28.830278",
     "exception": false,
     "start_time": "2024-07-31T20:08:28.796867",
     "status": "completed"
    },
    "tags": []
   },
   "source": [
    "\"But what about other variables? Do I have to do this kind of analysis all the time? It's tedious and time consuming\". I hear you. There is a faster way to check correlations between variables and the tool for that is a heatmap!\n",
    "\n",
    "Below we can create such a heatmap with the help of the seaborn library. We can clearly see the positive and negative correlations as well as percentages. This is a lot easier and faster than the alternative."
   ]
  },
  {
   "cell_type": "code",
   "execution_count": 26,
   "id": "25e69934",
   "metadata": {
    "execution": {
     "iopub.execute_input": "2024-07-31T20:08:28.899776Z",
     "iopub.status.busy": "2024-07-31T20:08:28.899367Z",
     "iopub.status.idle": "2024-07-31T20:08:30.191559Z",
     "shell.execute_reply": "2024-07-31T20:08:30.190196Z"
    },
    "papermill": {
     "duration": 1.331879,
     "end_time": "2024-07-31T20:08:30.195386",
     "exception": false,
     "start_time": "2024-07-31T20:08:28.863507",
     "status": "completed"
    },
    "tags": []
   },
   "outputs": [
    {
     "data": {
      "text/plain": [
       "<Axes: >"
      ]
     },
     "execution_count": 26,
     "metadata": {},
     "output_type": "execute_result"
    },
    {
     "data": {
      "image/png": "[encoded data removed]",
      "text/plain": [
       "<Figure size 1200x1200 with 2 Axes>"
      ]
     },
     "metadata": {},
     "output_type": "display_data"
    }
   ],
   "source": [
    "plt.figure(figsize=(12,12))\n",
    "sns.heatmap(students.corr(),annot=True,fmt='.0%',cmap='coolwarm')"
   ]
  },
  {
   "cell_type": "markdown",
   "id": "26e9009b",
   "metadata": {
    "papermill": {
     "duration": 0.037356,
     "end_time": "2024-07-31T20:08:30.268630",
     "exception": false,
     "start_time": "2024-07-31T20:08:30.231274",
     "status": "completed"
    },
    "tags": []
   },
   "source": [
    "Below is the correlation matrix with all the correlation coefficients for each pair of variables."
   ]
  },
  {
   "cell_type": "code",
   "execution_count": 27,
   "id": "f23b3f01",
   "metadata": {
    "execution": {
     "iopub.execute_input": "2024-07-31T20:08:30.346194Z",
     "iopub.status.busy": "2024-07-31T20:08:30.344897Z",
     "iopub.status.idle": "2024-07-31T20:08:30.379817Z",
     "shell.execute_reply": "2024-07-31T20:08:30.378390Z"
    },
    "papermill": {
     "duration": 0.07744,
     "end_time": "2024-07-31T20:08:30.382957",
     "exception": false,
     "start_time": "2024-07-31T20:08:30.305517",
     "status": "completed"
    },
    "tags": []
   },
   "outputs": [
    {
     "data": {
      "text/html": [
       "<div>\n",
       "<style scoped>\n",
       "    .dataframe tbody tr th:only-of-type {\n",
       "        vertical-align: middle;\n",
       "    }\n",
       "\n",
       "    .dataframe tbody tr th {\n",
       "        vertical-align: top;\n",
       "    }\n",
       "\n",
       "    .dataframe thead th {\n",
       "        text-align: right;\n",
       "    }\n",
       "</style>\n",
       "<table border=\"1\" class=\"dataframe\">\n",
       "  <thead>\n",
       "    <tr style=\"text-align: right;\">\n",
       "      <th></th>\n",
       "      <th>StudentID</th>\n",
       "      <th>Age</th>\n",
       "      <th>Gender</th>\n",
       "      <th>Ethnicity</th>\n",
       "      <th>ParentalEducation</th>\n",
       "      <th>StudyTimeWeekly</th>\n",
       "      <th>Absences</th>\n",
       "      <th>Tutoring</th>\n",
       "      <th>ParentalSupport</th>\n",
       "      <th>Extracurricular</th>\n",
       "      <th>Sports</th>\n",
       "      <th>Music</th>\n",
       "      <th>Volunteering</th>\n",
       "      <th>GPA</th>\n",
       "      <th>GradeClass</th>\n",
       "    </tr>\n",
       "  </thead>\n",
       "  <tbody>\n",
       "    <tr>\n",
       "      <th>StudentID</th>\n",
       "      <td>1.000000</td>\n",
       "      <td>-0.042255</td>\n",
       "      <td>-0.014625</td>\n",
       "      <td>-0.012990</td>\n",
       "      <td>-0.002307</td>\n",
       "      <td>0.026976</td>\n",
       "      <td>0.014841</td>\n",
       "      <td>-0.007834</td>\n",
       "      <td>0.003016</td>\n",
       "      <td>-0.003611</td>\n",
       "      <td>-0.020703</td>\n",
       "      <td>-0.005468</td>\n",
       "      <td>0.008011</td>\n",
       "      <td>-0.002697</td>\n",
       "      <td>-0.098500</td>\n",
       "    </tr>\n",
       "    <tr>\n",
       "      <th>Age</th>\n",
       "      <td>-0.042255</td>\n",
       "      <td>1.000000</td>\n",
       "      <td>0.044895</td>\n",
       "      <td>-0.028473</td>\n",
       "      <td>0.025099</td>\n",
       "      <td>-0.006800</td>\n",
       "      <td>-0.011511</td>\n",
       "      <td>-0.012076</td>\n",
       "      <td>0.033197</td>\n",
       "      <td>-0.025061</td>\n",
       "      <td>-0.046320</td>\n",
       "      <td>-0.003492</td>\n",
       "      <td>0.013074</td>\n",
       "      <td>0.000275</td>\n",
       "      <td>-0.006250</td>\n",
       "    </tr>\n",
       "    <tr>\n",
       "      <th>Gender</th>\n",
       "      <td>-0.014625</td>\n",
       "      <td>0.044895</td>\n",
       "      <td>1.000000</td>\n",
       "      <td>0.016010</td>\n",
       "      <td>0.006771</td>\n",
       "      <td>0.011469</td>\n",
       "      <td>0.021479</td>\n",
       "      <td>-0.031597</td>\n",
       "      <td>0.008065</td>\n",
       "      <td>-0.005964</td>\n",
       "      <td>-0.008897</td>\n",
       "      <td>0.007109</td>\n",
       "      <td>-0.000200</td>\n",
       "      <td>-0.013360</td>\n",
       "      <td>0.022998</td>\n",
       "    </tr>\n",
       "    <tr>\n",
       "      <th>Ethnicity</th>\n",
       "      <td>-0.012990</td>\n",
       "      <td>-0.028473</td>\n",
       "      <td>0.016010</td>\n",
       "      <td>1.000000</td>\n",
       "      <td>0.033595</td>\n",
       "      <td>0.007184</td>\n",
       "      <td>-0.025712</td>\n",
       "      <td>-0.017440</td>\n",
       "      <td>0.020922</td>\n",
       "      <td>-0.008927</td>\n",
       "      <td>-0.004484</td>\n",
       "      <td>-0.014627</td>\n",
       "      <td>0.013468</td>\n",
       "      <td>0.027760</td>\n",
       "      <td>-0.023326</td>\n",
       "    </tr>\n",
       "    <tr>\n",
       "      <th>ParentalEducation</th>\n",
       "      <td>-0.002307</td>\n",
       "      <td>0.025099</td>\n",
       "      <td>0.006771</td>\n",
       "      <td>0.033595</td>\n",
       "      <td>1.000000</td>\n",
       "      <td>-0.011051</td>\n",
       "      <td>0.036518</td>\n",
       "      <td>-0.017340</td>\n",
       "      <td>-0.017463</td>\n",
       "      <td>0.007479</td>\n",
       "      <td>0.002029</td>\n",
       "      <td>0.039439</td>\n",
       "      <td>0.011960</td>\n",
       "      <td>-0.035854</td>\n",
       "      <td>0.041031</td>\n",
       "    </tr>\n",
       "    <tr>\n",
       "      <th>StudyTimeWeekly</th>\n",
       "      <td>0.026976</td>\n",
       "      <td>-0.006800</td>\n",
       "      <td>0.011469</td>\n",
       "      <td>0.007184</td>\n",
       "      <td>-0.011051</td>\n",
       "      <td>1.000000</td>\n",
       "      <td>0.009326</td>\n",
       "      <td>0.028930</td>\n",
       "      <td>0.035800</td>\n",
       "      <td>-0.022860</td>\n",
       "      <td>0.006836</td>\n",
       "      <td>0.007791</td>\n",
       "      <td>-0.016604</td>\n",
       "      <td>0.179275</td>\n",
       "      <td>-0.134131</td>\n",
       "    </tr>\n",
       "    <tr>\n",
       "      <th>Absences</th>\n",
       "      <td>0.014841</td>\n",
       "      <td>-0.011511</td>\n",
       "      <td>0.021479</td>\n",
       "      <td>-0.025712</td>\n",
       "      <td>0.036518</td>\n",
       "      <td>0.009326</td>\n",
       "      <td>1.000000</td>\n",
       "      <td>-0.015534</td>\n",
       "      <td>0.002108</td>\n",
       "      <td>0.000360</td>\n",
       "      <td>0.041454</td>\n",
       "      <td>-0.008692</td>\n",
       "      <td>-0.018528</td>\n",
       "      <td>-0.919314</td>\n",
       "      <td>0.728633</td>\n",
       "    </tr>\n",
       "    <tr>\n",
       "      <th>Tutoring</th>\n",
       "      <td>-0.007834</td>\n",
       "      <td>-0.012076</td>\n",
       "      <td>-0.031597</td>\n",
       "      <td>-0.017440</td>\n",
       "      <td>-0.017340</td>\n",
       "      <td>0.028930</td>\n",
       "      <td>-0.015534</td>\n",
       "      <td>1.000000</td>\n",
       "      <td>-0.000824</td>\n",
       "      <td>0.004865</td>\n",
       "      <td>0.006278</td>\n",
       "      <td>-0.011385</td>\n",
       "      <td>-0.050898</td>\n",
       "      <td>0.145119</td>\n",
       "      <td>-0.111695</td>\n",
       "    </tr>\n",
       "    <tr>\n",
       "      <th>ParentalSupport</th>\n",
       "      <td>0.003016</td>\n",
       "      <td>0.033197</td>\n",
       "      <td>0.008065</td>\n",
       "      <td>0.020922</td>\n",
       "      <td>-0.017463</td>\n",
       "      <td>0.035800</td>\n",
       "      <td>0.002108</td>\n",
       "      <td>-0.000824</td>\n",
       "      <td>1.000000</td>\n",
       "      <td>-0.008381</td>\n",
       "      <td>-0.006176</td>\n",
       "      <td>0.035122</td>\n",
       "      <td>-0.006036</td>\n",
       "      <td>0.190774</td>\n",
       "      <td>-0.136823</td>\n",
       "    </tr>\n",
       "    <tr>\n",
       "      <th>Extracurricular</th>\n",
       "      <td>-0.003611</td>\n",
       "      <td>-0.025061</td>\n",
       "      <td>-0.005964</td>\n",
       "      <td>-0.008927</td>\n",
       "      <td>0.007479</td>\n",
       "      <td>-0.022860</td>\n",
       "      <td>0.000360</td>\n",
       "      <td>0.004865</td>\n",
       "      <td>-0.008381</td>\n",
       "      <td>1.000000</td>\n",
       "      <td>-0.011820</td>\n",
       "      <td>-0.014191</td>\n",
       "      <td>-0.007427</td>\n",
       "      <td>0.094078</td>\n",
       "      <td>-0.069733</td>\n",
       "    </tr>\n",
       "    <tr>\n",
       "      <th>Sports</th>\n",
       "      <td>-0.020703</td>\n",
       "      <td>-0.046320</td>\n",
       "      <td>-0.008897</td>\n",
       "      <td>-0.004484</td>\n",
       "      <td>0.002029</td>\n",
       "      <td>0.006836</td>\n",
       "      <td>0.041454</td>\n",
       "      <td>0.006278</td>\n",
       "      <td>-0.006176</td>\n",
       "      <td>-0.011820</td>\n",
       "      <td>1.000000</td>\n",
       "      <td>-0.020474</td>\n",
       "      <td>-0.002799</td>\n",
       "      <td>0.057859</td>\n",
       "      <td>-0.026654</td>\n",
       "    </tr>\n",
       "    <tr>\n",
       "      <th>Music</th>\n",
       "      <td>-0.005468</td>\n",
       "      <td>-0.003492</td>\n",
       "      <td>0.007109</td>\n",
       "      <td>-0.014627</td>\n",
       "      <td>0.039439</td>\n",
       "      <td>0.007791</td>\n",
       "      <td>-0.008692</td>\n",
       "      <td>-0.011385</td>\n",
       "      <td>0.035122</td>\n",
       "      <td>-0.014191</td>\n",
       "      <td>-0.020474</td>\n",
       "      <td>1.000000</td>\n",
       "      <td>0.017224</td>\n",
       "      <td>0.073318</td>\n",
       "      <td>-0.036065</td>\n",
       "    </tr>\n",
       "    <tr>\n",
       "      <th>Volunteering</th>\n",
       "      <td>0.008011</td>\n",
       "      <td>0.013074</td>\n",
       "      <td>-0.000200</td>\n",
       "      <td>0.013468</td>\n",
       "      <td>0.011960</td>\n",
       "      <td>-0.016604</td>\n",
       "      <td>-0.018528</td>\n",
       "      <td>-0.050898</td>\n",
       "      <td>-0.006036</td>\n",
       "      <td>-0.007427</td>\n",
       "      <td>-0.002799</td>\n",
       "      <td>0.017224</td>\n",
       "      <td>1.000000</td>\n",
       "      <td>0.003258</td>\n",
       "      <td>0.013156</td>\n",
       "    </tr>\n",
       "    <tr>\n",
       "      <th>GPA</th>\n",
       "      <td>-0.002697</td>\n",
       "      <td>0.000275</td>\n",
       "      <td>-0.013360</td>\n",
       "      <td>0.027760</td>\n",
       "      <td>-0.035854</td>\n",
       "      <td>0.179275</td>\n",
       "      <td>-0.919314</td>\n",
       "      <td>0.145119</td>\n",
       "      <td>0.190774</td>\n",
       "      <td>0.094078</td>\n",
       "      <td>0.057859</td>\n",
       "      <td>0.073318</td>\n",
       "      <td>0.003258</td>\n",
       "      <td>1.000000</td>\n",
       "      <td>-0.782835</td>\n",
       "    </tr>\n",
       "    <tr>\n",
       "      <th>GradeClass</th>\n",
       "      <td>-0.098500</td>\n",
       "      <td>-0.006250</td>\n",
       "      <td>0.022998</td>\n",
       "      <td>-0.023326</td>\n",
       "      <td>0.041031</td>\n",
       "      <td>-0.134131</td>\n",
       "      <td>0.728633</td>\n",
       "      <td>-0.111695</td>\n",
       "      <td>-0.136823</td>\n",
       "      <td>-0.069733</td>\n",
       "      <td>-0.026654</td>\n",
       "      <td>-0.036065</td>\n",
       "      <td>0.013156</td>\n",
       "      <td>-0.782835</td>\n",
       "      <td>1.000000</td>\n",
       "    </tr>\n",
       "  </tbody>\n",
       "</table>\n",
       "</div>"
      ],
      "text/plain": [
       "                   StudentID       Age    Gender  Ethnicity  \\\n",
       "StudentID           1.000000 -0.042255 -0.014625  -0.012990   \n",
       "Age                -0.042255  1.000000  0.044895  -0.028473   \n",
       "Gender             -0.014625  0.044895  1.000000   0.016010   \n",
       "Ethnicity          -0.012990 -0.028473  0.016010   1.000000   \n",
       "ParentalEducation  -0.002307  0.025099  0.006771   0.033595   \n",
       "StudyTimeWeekly     0.026976 -0.006800  0.011469   0.007184   \n",
       "Absences            0.014841 -0.011511  0.021479  -0.025712   \n",
       "Tutoring           -0.007834 -0.012076 -0.031597  -0.017440   \n",
       "ParentalSupport     0.003016  0.033197  0.008065   0.020922   \n",
       "Extracurricular    -0.003611 -0.025061 -0.005964  -0.008927   \n",
       "Sports             -0.020703 -0.046320 -0.008897  -0.004484   \n",
       "Music              -0.005468 -0.003492  0.007109  -0.014627   \n",
       "Volunteering        0.008011  0.013074 -0.000200   0.013468   \n",
       "GPA                -0.002697  0.000275 -0.013360   0.027760   \n",
       "GradeClass         -0.098500 -0.006250  0.022998  -0.023326   \n",
       "\n",
       "                   ParentalEducation  StudyTimeWeekly  Absences  Tutoring  \\\n",
       "StudentID                  -0.002307         0.026976  0.014841 -0.007834   \n",
       "Age                         0.025099        -0.006800 -0.011511 -0.012076   \n",
       "Gender                      0.006771         0.011469  0.021479 -0.031597   \n",
       "Ethnicity                   0.033595         0.007184 -0.025712 -0.017440   \n",
       "ParentalEducation           1.000000        -0.011051  0.036518 -0.017340   \n",
       "StudyTimeWeekly            -0.011051         1.000000  0.009326  0.028930   \n",
       "Absences                    0.036518         0.009326  1.000000 -0.015534   \n",
       "Tutoring                   -0.017340         0.028930 -0.015534  1.000000   \n",
       "ParentalSupport            -0.017463         0.035800  0.002108 -0.000824   \n",
       "Extracurricular             0.007479        -0.022860  0.000360  0.004865   \n",
       "Sports                      0.002029         0.006836  0.041454  0.006278   \n",
       "Music                       0.039439         0.007791 -0.008692 -0.011385   \n",
       "Volunteering                0.011960        -0.016604 -0.018528 -0.050898   \n",
       "GPA                        -0.035854         0.179275 -0.919314  0.145119   \n",
       "GradeClass                  0.041031        -0.134131  0.728633 -0.111695   \n",
       "\n",
       "                   ParentalSupport  Extracurricular    Sports     Music  \\\n",
       "StudentID                 0.003016        -0.003611 -0.020703 -0.005468   \n",
       "Age                       0.033197        -0.025061 -0.046320 -0.003492   \n",
       "Gender                    0.008065        -0.005964 -0.008897  0.007109   \n",
       "Ethnicity                 0.020922        -0.008927 -0.004484 -0.014627   \n",
       "ParentalEducation        -0.017463         0.007479  0.002029  0.039439   \n",
       "StudyTimeWeekly           0.035800        -0.022860  0.006836  0.007791   \n",
       "Absences                  0.002108         0.000360  0.041454 -0.008692   \n",
       "Tutoring                 -0.000824         0.004865  0.006278 -0.011385   \n",
       "ParentalSupport           1.000000        -0.008381 -0.006176  0.035122   \n",
       "Extracurricular          -0.008381         1.000000 -0.011820 -0.014191   \n",
       "Sports                   -0.006176        -0.011820  1.000000 -0.020474   \n",
       "Music                     0.035122        -0.014191 -0.020474  1.000000   \n",
       "Volunteering             -0.006036        -0.007427 -0.002799  0.017224   \n",
       "GPA                       0.190774         0.094078  0.057859  0.073318   \n",
       "GradeClass               -0.136823        -0.069733 -0.026654 -0.036065   \n",
       "\n",
       "                   Volunteering       GPA  GradeClass  \n",
       "StudentID              0.008011 -0.002697   -0.098500  \n",
       "Age                    0.013074  0.000275   -0.006250  \n",
       "Gender                -0.000200 -0.013360    0.022998  \n",
       "Ethnicity              0.013468  0.027760   -0.023326  \n",
       "ParentalEducation      0.011960 -0.035854    0.041031  \n",
       "StudyTimeWeekly       -0.016604  0.179275   -0.134131  \n",
       "Absences              -0.018528 -0.919314    0.728633  \n",
       "Tutoring              -0.050898  0.145119   -0.111695  \n",
       "ParentalSupport       -0.006036  0.190774   -0.136823  \n",
       "Extracurricular       -0.007427  0.094078   -0.069733  \n",
       "Sports                -0.002799  0.057859   -0.026654  \n",
       "Music                  0.017224  0.073318   -0.036065  \n",
       "Volunteering           1.000000  0.003258    0.013156  \n",
       "GPA                    0.003258  1.000000   -0.782835  \n",
       "GradeClass             0.013156 -0.782835    1.000000  "
      ]
     },
     "execution_count": 27,
     "metadata": {},
     "output_type": "execute_result"
    }
   ],
   "source": [
    "correlation_matrix = students.corr();correlation_matrix"
   ]
  },
  {
   "cell_type": "markdown",
   "id": "ef059663",
   "metadata": {
    "papermill": {
     "duration": 0.037699,
     "end_time": "2024-07-31T20:08:30.458663",
     "exception": false,
     "start_time": "2024-07-31T20:08:30.420964",
     "status": "completed"
    },
    "tags": []
   },
   "source": [
    "# Machine Learning Modeling"
   ]
  },
  {
   "cell_type": "markdown",
   "id": "6eb59699",
   "metadata": {
    "papermill": {
     "duration": 0.038808,
     "end_time": "2024-07-31T20:08:30.533177",
     "exception": false,
     "start_time": "2024-07-31T20:08:30.494369",
     "status": "completed"
    },
    "tags": []
   },
   "source": [
    "Now that we have a good idea of how our data is structured and how variables are correlated, it's time to think about creating a machine learning model. Our goal is to predict the GPA of a student based on the other variables. Since we already have the GPA values this is a supervised learning task. We have the training data with labels for our target variable and we want to predict it."
   ]
  },
  {
   "cell_type": "markdown",
   "id": "25ba2f37",
   "metadata": {
    "papermill": {
     "duration": 0.037381,
     "end_time": "2024-07-31T20:08:30.608951",
     "exception": false,
     "start_time": "2024-07-31T20:08:30.571570",
     "status": "completed"
    },
    "tags": []
   },
   "source": [
    "## Preprocessing data"
   ]
  },
  {
   "cell_type": "markdown",
   "id": "9b1d284f",
   "metadata": {
    "papermill": {
     "duration": 0.037718,
     "end_time": "2024-07-31T20:08:30.682716",
     "exception": false,
     "start_time": "2024-07-31T20:08:30.644998",
     "status": "completed"
    },
    "tags": []
   },
   "source": [
    "We will need to seperate categorical and numerical variables and preprocess them using an encoder for the first (meaning we split the values to different variables so we have 0s and 1s only) and standardize by removing the mean and scaling to unit variance for the second.\n",
    "\n",
    "Here is the documentation for both methods for further reading.\n",
    "\n",
    "[OneHotEncoder](https://scikit-learn.org/stable/modules/generated/sklearn.preprocessing.OneHotEncoder.html)\n",
    "\n",
    "[StandardScaler](https://scikit-learn.org/stable/modules/generated/sklearn.preprocessing.StandardScaler.html)"
   ]
  },
  {
   "cell_type": "code",
   "execution_count": 28,
   "id": "d437c344",
   "metadata": {
    "execution": {
     "iopub.execute_input": "2024-07-31T20:08:30.757731Z",
     "iopub.status.busy": "2024-07-31T20:08:30.757288Z",
     "iopub.status.idle": "2024-07-31T20:08:30.764759Z",
     "shell.execute_reply": "2024-07-31T20:08:30.762977Z"
    },
    "papermill": {
     "duration": 0.048018,
     "end_time": "2024-07-31T20:08:30.767738",
     "exception": false,
     "start_time": "2024-07-31T20:08:30.719720",
     "status": "completed"
    },
    "tags": []
   },
   "outputs": [],
   "source": [
    "categorical_vars = ['Gender', 'Ethnicity', 'ParentalEducation', 'Tutoring', 'ParentalSupport', \n",
    "                    'Extracurricular', 'Sports', 'Music', 'Volunteering']\n",
    "numerical_vars = ['Age', 'StudyTimeWeekly', 'Absences']\n",
    "\n",
    "preprocessor = ColumnTransformer(\n",
    "    transformers=[\n",
    "        ('num', StandardScaler(), numerical_vars),\n",
    "        ('cat', OneHotEncoder(), categorical_vars)\n",
    "    ])"
   ]
  },
  {
   "cell_type": "markdown",
   "id": "5a967d6c",
   "metadata": {
    "papermill": {
     "duration": 0.037887,
     "end_time": "2024-07-31T20:08:30.842447",
     "exception": false,
     "start_time": "2024-07-31T20:08:30.804560",
     "status": "completed"
    },
    "tags": []
   },
   "source": [
    "## Building models"
   ]
  },
  {
   "cell_type": "markdown",
   "id": "38f3a047",
   "metadata": {
    "papermill": {
     "duration": 0.037923,
     "end_time": "2024-07-31T20:08:30.917503",
     "exception": false,
     "start_time": "2024-07-31T20:08:30.879580",
     "status": "completed"
    },
    "tags": []
   },
   "source": [
    "Now that we have defined the preprocessor that will do the encoding and scaling of our data, we want to split the data into training and test sets. Below we select `y` as our target variable `GPA` and `X` for our features where we drop `GPA` since its our target variable, `GradeClass` since this is essentially a categorical version of our target variable and `StudentID` since it is not useful information. \n",
    "\n",
    "We proceed then to split the data using 80% of the total data for training and 20% for testing."
   ]
  },
  {
   "cell_type": "code",
   "execution_count": 29,
   "id": "63abed1e",
   "metadata": {
    "execution": {
     "iopub.execute_input": "2024-07-31T20:08:30.995662Z",
     "iopub.status.busy": "2024-07-31T20:08:30.995272Z",
     "iopub.status.idle": "2024-07-31T20:08:31.007815Z",
     "shell.execute_reply": "2024-07-31T20:08:31.006231Z"
    },
    "papermill": {
     "duration": 0.056036,
     "end_time": "2024-07-31T20:08:31.010941",
     "exception": false,
     "start_time": "2024-07-31T20:08:30.954905",
     "status": "completed"
    },
    "tags": []
   },
   "outputs": [],
   "source": [
    "X = students.drop(columns=['GPA', 'GradeClass', 'StudentID'])\n",
    "y = students['GPA']\n",
    "X_train, X_test, y_train, y_test = train_test_split(X, y, test_size=0.2, random_state=31)"
   ]
  },
  {
   "cell_type": "markdown",
   "id": "3a925b0d",
   "metadata": {
    "papermill": {
     "duration": 0.037054,
     "end_time": "2024-07-31T20:08:31.083907",
     "exception": false,
     "start_time": "2024-07-31T20:08:31.046853",
     "status": "completed"
    },
    "tags": []
   },
   "source": [
    "The first model we are gonna test is a Linear Regression Model. This model will try to fit the best line (hence linear) in our training data using the method of least squares. The primary objective of Linear Regression is to minimize the difference between the observed values and the values predicted by the model. Specifically, it seeks to find the coefficients (or weights) that minimize the sum of the squared differences (residuals) between the actual target values and the predicted values across all training samples. This approach assumes a linear relationship between the input features and the target variable. By fitting this line, the model provides a straightforward interpretation of how each feature influences the target variable.\n",
    "\n",
    "For further reading on Linear Regression check [here.](https://www.ibm.com/topics/linear-regression)"
   ]
  },
  {
   "cell_type": "markdown",
   "id": "c28d0e80",
   "metadata": {
    "papermill": {
     "duration": 0.035345,
     "end_time": "2024-07-31T20:08:31.155045",
     "exception": false,
     "start_time": "2024-07-31T20:08:31.119700",
     "status": "completed"
    },
    "tags": []
   },
   "source": [
    "We will use a pipeline to preprocess our data using our preprocessor and using the LinearRegression classifier. We then fit our model to the training data. After that we can use the model to make predictions on the test set and we can check on the model's performance with metrics like Mean Absolute Error (MAE) and Coefficient of Determination (R-squared)."
   ]
  },
  {
   "cell_type": "code",
   "execution_count": 30,
   "id": "21ff460b",
   "metadata": {
    "execution": {
     "iopub.execute_input": "2024-07-31T20:08:31.228292Z",
     "iopub.status.busy": "2024-07-31T20:08:31.227863Z",
     "iopub.status.idle": "2024-07-31T20:08:31.309007Z",
     "shell.execute_reply": "2024-07-31T20:08:31.307171Z"
    },
    "papermill": {
     "duration": 0.122783,
     "end_time": "2024-07-31T20:08:31.313457",
     "exception": false,
     "start_time": "2024-07-31T20:08:31.190674",
     "status": "completed"
    },
    "tags": []
   },
   "outputs": [
    {
     "name": "stdout",
     "output_type": "stream",
     "text": [
      "Linear Regression MAE: 0.1643\n",
      "Linear Regression R-squared: 0.951\n"
     ]
    }
   ],
   "source": [
    "lr_pipeline = Pipeline(steps=[\n",
    "    ('preprocessor', preprocessor),\n",
    "    ('classifier', LinearRegression())\n",
    "])\n",
    "\n",
    "lr_pipeline.fit(X_train, y_train)\n",
    "\n",
    "y_skpred = lr_pipeline.predict(X_test)\n",
    "mae_sk = mean_absolute_error(y_test, y_skpred)\n",
    "r2_sk = r2_score(y_test, y_skpred)\n",
    "\n",
    "print(f\"Linear Regression MAE: {mae_sk:.4f}\")\n",
    "print(f\"Linear Regression R-squared: {r2_sk:.3f}\")"
   ]
  },
  {
   "cell_type": "markdown",
   "id": "90bdd4f1",
   "metadata": {
    "papermill": {
     "duration": 0.036869,
     "end_time": "2024-07-31T20:08:31.456679",
     "exception": false,
     "start_time": "2024-07-31T20:08:31.419810",
     "status": "completed"
    },
    "tags": []
   },
   "source": [
    "Mean Absolute Error (MAE) represents the average of the absolute differences between the predicted values and the actual values. In our case the MAE is 0.1643 which means that on average the predicted values deviate from the actual values by this amount.\n",
    "\n",
    "Coefficient of Determination (R-squared) measures how well the variability in the target variable is explained by the variability in the predictors (features). An R-squared value of 95.1% means that the model explains 95.1% of the variance in the target variable. This high R-squared value suggests that the model fits the data very well and captures most of the variability in the target variable."
   ]
  },
  {
   "cell_type": "markdown",
   "id": "a23275c5",
   "metadata": {
    "papermill": {
     "duration": 0.037957,
     "end_time": "2024-07-31T20:08:31.532994",
     "exception": false,
     "start_time": "2024-07-31T20:08:31.495037",
     "status": "completed"
    },
    "tags": []
   },
   "source": [
    "Let's try a different model. How about XGB? We use the same process. Split our data, use a pipeline with processor and the correct regressor, we fit our model to our training data and then make predictions and evaluations with MAE and R-squared."
   ]
  },
  {
   "cell_type": "code",
   "execution_count": 31,
   "id": "5017603d",
   "metadata": {
    "execution": {
     "iopub.execute_input": "2024-07-31T20:08:31.611750Z",
     "iopub.status.busy": "2024-07-31T20:08:31.611349Z",
     "iopub.status.idle": "2024-07-31T20:08:31.802773Z",
     "shell.execute_reply": "2024-07-31T20:08:31.801724Z"
    },
    "papermill": {
     "duration": 0.233759,
     "end_time": "2024-07-31T20:08:31.805737",
     "exception": false,
     "start_time": "2024-07-31T20:08:31.571978",
     "status": "completed"
    },
    "tags": []
   },
   "outputs": [
    {
     "name": "stdout",
     "output_type": "stream",
     "text": [
      "XGB MAE: 0.2014\n",
      "XGB R-squared: 0.9242\n"
     ]
    }
   ],
   "source": [
    "X_train, X_test, y_train, y_test = train_test_split(X, y, test_size=0.2, random_state=31)\n",
    "xgb_pipeline = Pipeline(steps=[\n",
    "    ('preprocessor', preprocessor),\n",
    "    ('regressor', xgb.XGBRegressor(objective='reg:squarederror', random_state=31))\n",
    "])\n",
    "\n",
    "xgb_pipeline.fit(X_train, y_train)\n",
    "\n",
    "y_xgbpred = xgb_pipeline.predict(X_test)\n",
    "mae_xgb = mean_absolute_error(y_test, y_xgbpred)\n",
    "r2_xgb = r2_score(y_test, y_xgbpred)\n",
    "\n",
    "print(f\"XGB MAE: {mae_xgb:.4f}\")\n",
    "print(f\"XGB R-squared: {r2_xgb:.4f}\")"
   ]
  },
  {
   "cell_type": "markdown",
   "id": "1918da7d",
   "metadata": {
    "papermill": {
     "duration": 0.036601,
     "end_time": "2024-07-31T20:08:31.879923",
     "exception": false,
     "start_time": "2024-07-31T20:08:31.843322",
     "status": "completed"
    },
    "tags": []
   },
   "source": [
    "We notice we have higher MAE and lower R-squared. This means that the XGB model does not fit our data as well as the Linear Regression one."
   ]
  },
  {
   "cell_type": "markdown",
   "id": "a98a6e90",
   "metadata": {
    "papermill": {
     "duration": 0.037343,
     "end_time": "2024-07-31T20:08:31.954703",
     "exception": false,
     "start_time": "2024-07-31T20:08:31.917360",
     "status": "completed"
    },
    "tags": []
   },
   "source": [
    "We can also try a Random Forest model using the same process as before."
   ]
  },
  {
   "cell_type": "code",
   "execution_count": 32,
   "id": "e99189ed",
   "metadata": {
    "execution": {
     "iopub.execute_input": "2024-07-31T20:08:32.030290Z",
     "iopub.status.busy": "2024-07-31T20:08:32.029844Z",
     "iopub.status.idle": "2024-07-31T20:08:33.145468Z",
     "shell.execute_reply": "2024-07-31T20:08:33.143291Z"
    },
    "papermill": {
     "duration": 1.15756,
     "end_time": "2024-07-31T20:08:33.148785",
     "exception": false,
     "start_time": "2024-07-31T20:08:31.991225",
     "status": "completed"
    },
    "tags": []
   },
   "outputs": [
    {
     "name": "stdout",
     "output_type": "stream",
     "text": [
      "Random Forest MAE: 0.2079\n",
      "Random Forest R-squared: 0.9199\n"
     ]
    }
   ],
   "source": [
    "X_train, X_test, y_train, y_test = train_test_split(X, y, test_size=0.2, random_state=31)\n",
    "rf_pipeline = Pipeline(steps=[\n",
    "    ('preprocessor', preprocessor),\n",
    "    ('regressor', RandomForestRegressor(random_state=31))\n",
    "])\n",
    "\n",
    "rf_pipeline.fit(X_train, y_train)\n",
    "y_rf_pred = rf_pipeline.predict(X_test)\n",
    "mae_rf = mean_absolute_error(y_test, y_rf_pred)\n",
    "r2_rf = r2_score(y_test, y_rf_pred)\n",
    "\n",
    "print(f\"Random Forest MAE: {mae_rf:.4f}\")\n",
    "print(f\"Random Forest R-squared: {r2_rf:.4f}\")"
   ]
  },
  {
   "cell_type": "markdown",
   "id": "67bf984e",
   "metadata": {
    "papermill": {
     "duration": 0.036792,
     "end_time": "2024-07-31T20:08:33.222734",
     "exception": false,
     "start_time": "2024-07-31T20:08:33.185942",
     "status": "completed"
    },
    "tags": []
   },
   "source": [
    "Again this worse than the Linear Regression model and also worse than the XGB model."
   ]
  },
  {
   "cell_type": "markdown",
   "id": "1763ff4e",
   "metadata": {
    "papermill": {
     "duration": 0.039574,
     "end_time": "2024-07-31T20:08:33.300050",
     "exception": false,
     "start_time": "2024-07-31T20:08:33.260476",
     "status": "completed"
    },
    "tags": []
   },
   "source": [
    "\"What about all the talk about training models and watching the epochs as the model trains?\" \n",
    "\n",
    "This refers to neural network training. We define a custom architecture for a neural network, which starts with an input layer and ends with an output layer that provides the prediction. The size of both layers depends on the input data and the output requirements. In our case, the output layer will have 1 neuron to predict the GPA score of the student. \n",
    "\n",
    "Between the input and output layers are what are called hidden layers. These hidden layers perform calculations to transform inputs into outputs in a sequential (feedforward) manner. Each hidden layer processes the information received from the previous layer and passes it to the next layer until it reaches the output layer. The network learns to adjust the weights of these connections through training (using backpropagation) over multiple epochs to minimize the error in its predictions.\n",
    "\n",
    "For further reading on Neural Networks check [here.](https://www.ibm.com/topics/neural-networks)"
   ]
  },
  {
   "cell_type": "markdown",
   "id": "fb4df425",
   "metadata": {
    "papermill": {
     "duration": 0.03697,
     "end_time": "2024-07-31T20:08:33.376120",
     "exception": false,
     "start_time": "2024-07-31T20:08:33.339150",
     "status": "completed"
    },
    "tags": []
   },
   "source": [
    "I am providing a custom made sequential architecture consisting of an input layer, two hidden layers with ReLU activation functions, and an output layer. The hidden layers include Batch Normalization and Dropout to improve generalization and reduce overfitting. The model is compiled with the Adam optimizer and Mean Squared Error (MSE) as the loss function, and it is trained for 100 epochs with a batch size of 32, using 20% of the data as a validation set."
   ]
  },
  {
   "cell_type": "code",
   "execution_count": 33,
   "id": "ea625c3f",
   "metadata": {
    "execution": {
     "iopub.execute_input": "2024-07-31T20:08:33.458332Z",
     "iopub.status.busy": "2024-07-31T20:08:33.457757Z",
     "iopub.status.idle": "2024-07-31T20:08:57.414468Z",
     "shell.execute_reply": "2024-07-31T20:08:57.413191Z"
    },
    "papermill": {
     "duration": 24.00183,
     "end_time": "2024-07-31T20:08:57.417309",
     "exception": false,
     "start_time": "2024-07-31T20:08:33.415479",
     "status": "completed"
    },
    "tags": []
   },
   "outputs": [
    {
     "name": "stdout",
     "output_type": "stream",
     "text": [
      "Epoch 1/100\n",
      "\u001b[1m48/48\u001b[0m \u001b[32m━━━━━━━━━━━━━━━━━━━━\u001b[0m\u001b[37m\u001b[0m \u001b[1m3s\u001b[0m 8ms/step - loss: 5.9932 - mae: 2.0510 - val_loss: 3.1245 - val_mae: 1.6062\n",
      "Epoch 2/100\n",
      "\u001b[1m48/48\u001b[0m \u001b[32m━━━━━━━━━━━━━━━━━━━━\u001b[0m\u001b[37m\u001b[0m \u001b[1m0s\u001b[0m 3ms/step - loss: 3.6588 - mae: 1.5999 - val_loss: 2.4453 - val_mae: 1.4240\n",
      "Epoch 3/100\n",
      "\u001b[1m48/48\u001b[0m \u001b[32m━━━━━━━━━━━━━━━━━━━━\u001b[0m\u001b[37m\u001b[0m \u001b[1m0s\u001b[0m 3ms/step - loss: 2.7572 - mae: 1.3763 - val_loss: 1.8837 - val_mae: 1.2423\n",
      "Epoch 4/100\n",
      "\u001b[1m48/48\u001b[0m \u001b[32m━━━━━━━━━━━━━━━━━━━━\u001b[0m\u001b[37m\u001b[0m \u001b[1m0s\u001b[0m 3ms/step - loss: 2.1202 - mae: 1.1807 - val_loss: 1.3031 - val_mae: 1.0307\n",
      "Epoch 5/100\n",
      "\u001b[1m48/48\u001b[0m \u001b[32m━━━━━━━━━━━━━━━━━━━━\u001b[0m\u001b[37m\u001b[0m \u001b[1m0s\u001b[0m 4ms/step - loss: 1.4221 - mae: 0.9752 - val_loss: 0.8490 - val_mae: 0.8209\n",
      "Epoch 6/100\n",
      "\u001b[1m48/48\u001b[0m \u001b[32m━━━━━━━━━━━━━━━━━━━━\u001b[0m\u001b[37m\u001b[0m \u001b[1m0s\u001b[0m 3ms/step - loss: 1.1425 - mae: 0.8618 - val_loss: 0.5077 - val_mae: 0.6171\n",
      "Epoch 7/100\n",
      "\u001b[1m48/48\u001b[0m \u001b[32m━━━━━━━━━━━━━━━━━━━━\u001b[0m\u001b[37m\u001b[0m \u001b[1m0s\u001b[0m 4ms/step - loss: 1.0046 - mae: 0.8032 - val_loss: 0.3409 - val_mae: 0.4900\n",
      "Epoch 8/100\n",
      "\u001b[1m48/48\u001b[0m \u001b[32m━━━━━━━━━━━━━━━━━━━━\u001b[0m\u001b[37m\u001b[0m \u001b[1m0s\u001b[0m 4ms/step - loss: 0.8723 - mae: 0.7431 - val_loss: 0.2699 - val_mae: 0.4278\n",
      "Epoch 9/100\n",
      "\u001b[1m48/48\u001b[0m \u001b[32m━━━━━━━━━━━━━━━━━━━━\u001b[0m\u001b[37m\u001b[0m \u001b[1m0s\u001b[0m 3ms/step - loss: 0.7503 - mae: 0.6840 - val_loss: 0.2127 - val_mae: 0.3764\n",
      "Epoch 10/100\n",
      "\u001b[1m48/48\u001b[0m \u001b[32m━━━━━━━━━━━━━━━━━━━━\u001b[0m\u001b[37m\u001b[0m \u001b[1m0s\u001b[0m 4ms/step - loss: 0.6387 - mae: 0.6443 - val_loss: 0.1666 - val_mae: 0.3346\n",
      "Epoch 11/100\n",
      "\u001b[1m48/48\u001b[0m \u001b[32m━━━━━━━━━━━━━━━━━━━━\u001b[0m\u001b[37m\u001b[0m \u001b[1m0s\u001b[0m 4ms/step - loss: 0.5447 - mae: 0.5880 - val_loss: 0.1575 - val_mae: 0.3214\n",
      "Epoch 12/100\n",
      "\u001b[1m48/48\u001b[0m \u001b[32m━━━━━━━━━━━━━━━━━━━━\u001b[0m\u001b[37m\u001b[0m \u001b[1m0s\u001b[0m 3ms/step - loss: 0.5420 - mae: 0.5941 - val_loss: 0.1258 - val_mae: 0.2856\n",
      "Epoch 13/100\n",
      "\u001b[1m48/48\u001b[0m \u001b[32m━━━━━━━━━━━━━━━━━━━━\u001b[0m\u001b[37m\u001b[0m \u001b[1m0s\u001b[0m 4ms/step - loss: 0.5092 - mae: 0.5581 - val_loss: 0.1105 - val_mae: 0.2685\n",
      "Epoch 14/100\n",
      "\u001b[1m48/48\u001b[0m \u001b[32m━━━━━━━━━━━━━━━━━━━━\u001b[0m\u001b[37m\u001b[0m \u001b[1m0s\u001b[0m 4ms/step - loss: 0.4815 - mae: 0.5394 - val_loss: 0.1103 - val_mae: 0.2685\n",
      "Epoch 15/100\n",
      "\u001b[1m48/48\u001b[0m \u001b[32m━━━━━━━━━━━━━━━━━━━━\u001b[0m\u001b[37m\u001b[0m \u001b[1m0s\u001b[0m 4ms/step - loss: 0.4024 - mae: 0.5021 - val_loss: 0.1029 - val_mae: 0.2611\n",
      "Epoch 16/100\n",
      "\u001b[1m48/48\u001b[0m \u001b[32m━━━━━━━━━━━━━━━━━━━━\u001b[0m\u001b[37m\u001b[0m \u001b[1m0s\u001b[0m 4ms/step - loss: 0.3795 - mae: 0.4832 - val_loss: 0.0972 - val_mae: 0.2497\n",
      "Epoch 17/100\n",
      "\u001b[1m48/48\u001b[0m \u001b[32m━━━━━━━━━━━━━━━━━━━━\u001b[0m\u001b[37m\u001b[0m \u001b[1m0s\u001b[0m 3ms/step - loss: 0.3831 - mae: 0.4901 - val_loss: 0.0873 - val_mae: 0.2360\n",
      "Epoch 18/100\n",
      "\u001b[1m48/48\u001b[0m \u001b[32m━━━━━━━━━━━━━━━━━━━━\u001b[0m\u001b[37m\u001b[0m \u001b[1m0s\u001b[0m 3ms/step - loss: 0.3476 - mae: 0.4726 - val_loss: 0.0819 - val_mae: 0.2311\n",
      "Epoch 19/100\n",
      "\u001b[1m48/48\u001b[0m \u001b[32m━━━━━━━━━━━━━━━━━━━━\u001b[0m\u001b[37m\u001b[0m \u001b[1m0s\u001b[0m 3ms/step - loss: 0.3423 - mae: 0.4675 - val_loss: 0.0889 - val_mae: 0.2414\n",
      "Epoch 20/100\n",
      "\u001b[1m48/48\u001b[0m \u001b[32m━━━━━━━━━━━━━━━━━━━━\u001b[0m\u001b[37m\u001b[0m \u001b[1m0s\u001b[0m 4ms/step - loss: 0.3448 - mae: 0.4593 - val_loss: 0.0771 - val_mae: 0.2232\n",
      "Epoch 21/100\n",
      "\u001b[1m48/48\u001b[0m \u001b[32m━━━━━━━━━━━━━━━━━━━━\u001b[0m\u001b[37m\u001b[0m \u001b[1m0s\u001b[0m 4ms/step - loss: 0.3093 - mae: 0.4380 - val_loss: 0.0759 - val_mae: 0.2224\n",
      "Epoch 22/100\n",
      "\u001b[1m48/48\u001b[0m \u001b[32m━━━━━━━━━━━━━━━━━━━━\u001b[0m\u001b[37m\u001b[0m \u001b[1m0s\u001b[0m 4ms/step - loss: 0.3159 - mae: 0.4465 - val_loss: 0.0720 - val_mae: 0.2146\n",
      "Epoch 23/100\n",
      "\u001b[1m48/48\u001b[0m \u001b[32m━━━━━━━━━━━━━━━━━━━━\u001b[0m\u001b[37m\u001b[0m \u001b[1m0s\u001b[0m 4ms/step - loss: 0.2815 - mae: 0.4169 - val_loss: 0.0686 - val_mae: 0.2109\n",
      "Epoch 24/100\n",
      "\u001b[1m48/48\u001b[0m \u001b[32m━━━━━━━━━━━━━━━━━━━━\u001b[0m\u001b[37m\u001b[0m \u001b[1m0s\u001b[0m 3ms/step - loss: 0.2897 - mae: 0.4242 - val_loss: 0.0718 - val_mae: 0.2139\n",
      "Epoch 25/100\n",
      "\u001b[1m48/48\u001b[0m \u001b[32m━━━━━━━━━━━━━━━━━━━━\u001b[0m\u001b[37m\u001b[0m \u001b[1m0s\u001b[0m 4ms/step - loss: 0.2571 - mae: 0.3992 - val_loss: 0.0724 - val_mae: 0.2137\n",
      "Epoch 26/100\n",
      "\u001b[1m48/48\u001b[0m \u001b[32m━━━━━━━━━━━━━━━━━━━━\u001b[0m\u001b[37m\u001b[0m \u001b[1m0s\u001b[0m 5ms/step - loss: 0.2399 - mae: 0.3846 - val_loss: 0.0712 - val_mae: 0.2131\n",
      "Epoch 27/100\n",
      "\u001b[1m48/48\u001b[0m \u001b[32m━━━━━━━━━━━━━━━━━━━━\u001b[0m\u001b[37m\u001b[0m \u001b[1m0s\u001b[0m 4ms/step - loss: 0.2350 - mae: 0.3810 - val_loss: 0.0615 - val_mae: 0.1994\n",
      "Epoch 28/100\n",
      "\u001b[1m48/48\u001b[0m \u001b[32m━━━━━━━━━━━━━━━━━━━━\u001b[0m\u001b[37m\u001b[0m \u001b[1m0s\u001b[0m 4ms/step - loss: 0.2515 - mae: 0.3986 - val_loss: 0.0641 - val_mae: 0.2014\n",
      "Epoch 29/100\n",
      "\u001b[1m48/48\u001b[0m \u001b[32m━━━━━━━━━━━━━━━━━━━━\u001b[0m\u001b[37m\u001b[0m \u001b[1m0s\u001b[0m 4ms/step - loss: 0.2220 - mae: 0.3687 - val_loss: 0.0581 - val_mae: 0.1917\n",
      "Epoch 30/100\n",
      "\u001b[1m48/48\u001b[0m \u001b[32m━━━━━━━━━━━━━━━━━━━━\u001b[0m\u001b[37m\u001b[0m \u001b[1m0s\u001b[0m 4ms/step - loss: 0.2579 - mae: 0.3950 - val_loss: 0.0590 - val_mae: 0.1927\n",
      "Epoch 31/100\n",
      "\u001b[1m48/48\u001b[0m \u001b[32m━━━━━━━━━━━━━━━━━━━━\u001b[0m\u001b[37m\u001b[0m \u001b[1m0s\u001b[0m 4ms/step - loss: 0.2057 - mae: 0.3645 - val_loss: 0.0581 - val_mae: 0.1901\n",
      "Epoch 32/100\n",
      "\u001b[1m48/48\u001b[0m \u001b[32m━━━━━━━━━━━━━━━━━━━━\u001b[0m\u001b[37m\u001b[0m \u001b[1m0s\u001b[0m 4ms/step - loss: 0.2141 - mae: 0.3670 - val_loss: 0.0577 - val_mae: 0.1911\n",
      "Epoch 33/100\n",
      "\u001b[1m48/48\u001b[0m \u001b[32m━━━━━━━━━━━━━━━━━━━━\u001b[0m\u001b[37m\u001b[0m \u001b[1m0s\u001b[0m 4ms/step - loss: 0.2198 - mae: 0.3736 - val_loss: 0.0568 - val_mae: 0.1900\n",
      "Epoch 34/100\n",
      "\u001b[1m48/48\u001b[0m \u001b[32m━━━━━━━━━━━━━━━━━━━━\u001b[0m\u001b[37m\u001b[0m \u001b[1m0s\u001b[0m 3ms/step - loss: 0.1865 - mae: 0.3403 - val_loss: 0.0545 - val_mae: 0.1860\n",
      "Epoch 35/100\n",
      "\u001b[1m48/48\u001b[0m \u001b[32m━━━━━━━━━━━━━━━━━━━━\u001b[0m\u001b[37m\u001b[0m \u001b[1m0s\u001b[0m 4ms/step - loss: 0.2012 - mae: 0.3574 - val_loss: 0.0506 - val_mae: 0.1803\n",
      "Epoch 36/100\n",
      "\u001b[1m48/48\u001b[0m \u001b[32m━━━━━━━━━━━━━━━━━━━━\u001b[0m\u001b[37m\u001b[0m \u001b[1m0s\u001b[0m 4ms/step - loss: 0.1897 - mae: 0.3475 - val_loss: 0.0525 - val_mae: 0.1818\n",
      "Epoch 37/100\n",
      "\u001b[1m48/48\u001b[0m \u001b[32m━━━━━━━━━━━━━━━━━━━━\u001b[0m\u001b[37m\u001b[0m \u001b[1m0s\u001b[0m 4ms/step - loss: 0.1896 - mae: 0.3390 - val_loss: 0.0550 - val_mae: 0.1871\n",
      "Epoch 38/100\n",
      "\u001b[1m48/48\u001b[0m \u001b[32m━━━━━━━━━━━━━━━━━━━━\u001b[0m\u001b[37m\u001b[0m \u001b[1m0s\u001b[0m 4ms/step - loss: 0.1971 - mae: 0.3459 - val_loss: 0.0509 - val_mae: 0.1790\n",
      "Epoch 39/100\n",
      "\u001b[1m48/48\u001b[0m \u001b[32m━━━━━━━━━━━━━━━━━━━━\u001b[0m\u001b[37m\u001b[0m \u001b[1m0s\u001b[0m 4ms/step - loss: 0.1756 - mae: 0.3333 - val_loss: 0.0495 - val_mae: 0.1774\n",
      "Epoch 40/100\n",
      "\u001b[1m48/48\u001b[0m \u001b[32m━━━━━━━━━━━━━━━━━━━━\u001b[0m\u001b[37m\u001b[0m \u001b[1m0s\u001b[0m 4ms/step - loss: 0.1739 - mae: 0.3300 - val_loss: 0.0490 - val_mae: 0.1760\n",
      "Epoch 41/100\n",
      "\u001b[1m48/48\u001b[0m \u001b[32m━━━━━━━━━━━━━━━━━━━━\u001b[0m\u001b[37m\u001b[0m \u001b[1m0s\u001b[0m 4ms/step - loss: 0.1738 - mae: 0.3265 - val_loss: 0.0458 - val_mae: 0.1728\n",
      "Epoch 42/100\n",
      "\u001b[1m48/48\u001b[0m \u001b[32m━━━━━━━━━━━━━━━━━━━━\u001b[0m\u001b[37m\u001b[0m \u001b[1m0s\u001b[0m 4ms/step - loss: 0.1446 - mae: 0.2960 - val_loss: 0.0487 - val_mae: 0.1760\n",
      "Epoch 43/100\n",
      "\u001b[1m48/48\u001b[0m \u001b[32m━━━━━━━━━━━━━━━━━━━━\u001b[0m\u001b[37m\u001b[0m \u001b[1m0s\u001b[0m 3ms/step - loss: 0.1549 - mae: 0.3097 - val_loss: 0.0448 - val_mae: 0.1696\n",
      "Epoch 44/100\n",
      "\u001b[1m48/48\u001b[0m \u001b[32m━━━━━━━━━━━━━━━━━━━━\u001b[0m\u001b[37m\u001b[0m \u001b[1m0s\u001b[0m 5ms/step - loss: 0.1548 - mae: 0.3048 - val_loss: 0.0512 - val_mae: 0.1802\n",
      "Epoch 45/100\n",
      "\u001b[1m48/48\u001b[0m \u001b[32m━━━━━━━━━━━━━━━━━━━━\u001b[0m\u001b[37m\u001b[0m \u001b[1m0s\u001b[0m 4ms/step - loss: 0.1593 - mae: 0.3148 - val_loss: 0.0522 - val_mae: 0.1815\n",
      "Epoch 46/100\n",
      "\u001b[1m48/48\u001b[0m \u001b[32m━━━━━━━━━━━━━━━━━━━━\u001b[0m\u001b[37m\u001b[0m \u001b[1m0s\u001b[0m 4ms/step - loss: 0.1671 - mae: 0.3199 - val_loss: 0.0463 - val_mae: 0.1727\n",
      "Epoch 47/100\n",
      "\u001b[1m48/48\u001b[0m \u001b[32m━━━━━━━━━━━━━━━━━━━━\u001b[0m\u001b[37m\u001b[0m \u001b[1m0s\u001b[0m 3ms/step - loss: 0.1674 - mae: 0.3167 - val_loss: 0.0449 - val_mae: 0.1699\n",
      "Epoch 48/100\n",
      "\u001b[1m48/48\u001b[0m \u001b[32m━━━━━━━━━━━━━━━━━━━━\u001b[0m\u001b[37m\u001b[0m \u001b[1m0s\u001b[0m 4ms/step - loss: 0.1510 - mae: 0.3088 - val_loss: 0.0482 - val_mae: 0.1760\n",
      "Epoch 49/100\n",
      "\u001b[1m48/48\u001b[0m \u001b[32m━━━━━━━━━━━━━━━━━━━━\u001b[0m\u001b[37m\u001b[0m \u001b[1m0s\u001b[0m 4ms/step - loss: 0.1723 - mae: 0.3275 - val_loss: 0.0438 - val_mae: 0.1680\n",
      "Epoch 50/100\n",
      "\u001b[1m48/48\u001b[0m \u001b[32m━━━━━━━━━━━━━━━━━━━━\u001b[0m\u001b[37m\u001b[0m \u001b[1m0s\u001b[0m 4ms/step - loss: 0.1420 - mae: 0.2980 - val_loss: 0.0448 - val_mae: 0.1699\n",
      "Epoch 51/100\n",
      "\u001b[1m48/48\u001b[0m \u001b[32m━━━━━━━━━━━━━━━━━━━━\u001b[0m\u001b[37m\u001b[0m \u001b[1m0s\u001b[0m 4ms/step - loss: 0.1558 - mae: 0.3118 - val_loss: 0.0432 - val_mae: 0.1675\n",
      "Epoch 52/100\n",
      "\u001b[1m48/48\u001b[0m \u001b[32m━━━━━━━━━━━━━━━━━━━━\u001b[0m\u001b[37m\u001b[0m \u001b[1m0s\u001b[0m 4ms/step - loss: 0.1769 - mae: 0.3316 - val_loss: 0.0469 - val_mae: 0.1738\n",
      "Epoch 53/100\n",
      "\u001b[1m48/48\u001b[0m \u001b[32m━━━━━━━━━━━━━━━━━━━━\u001b[0m\u001b[37m\u001b[0m \u001b[1m0s\u001b[0m 4ms/step - loss: 0.1418 - mae: 0.2959 - val_loss: 0.0431 - val_mae: 0.1680\n",
      "Epoch 54/100\n",
      "\u001b[1m48/48\u001b[0m \u001b[32m━━━━━━━━━━━━━━━━━━━━\u001b[0m\u001b[37m\u001b[0m \u001b[1m0s\u001b[0m 4ms/step - loss: 0.1284 - mae: 0.2829 - val_loss: 0.0423 - val_mae: 0.1669\n",
      "Epoch 55/100\n",
      "\u001b[1m48/48\u001b[0m \u001b[32m━━━━━━━━━━━━━━━━━━━━\u001b[0m\u001b[37m\u001b[0m \u001b[1m0s\u001b[0m 4ms/step - loss: 0.1485 - mae: 0.3072 - val_loss: 0.0434 - val_mae: 0.1672\n",
      "Epoch 56/100\n",
      "\u001b[1m48/48\u001b[0m \u001b[32m━━━━━━━━━━━━━━━━━━━━\u001b[0m\u001b[37m\u001b[0m \u001b[1m0s\u001b[0m 3ms/step - loss: 0.1397 - mae: 0.2964 - val_loss: 0.0410 - val_mae: 0.1640\n",
      "Epoch 57/100\n",
      "\u001b[1m48/48\u001b[0m \u001b[32m━━━━━━━━━━━━━━━━━━━━\u001b[0m\u001b[37m\u001b[0m \u001b[1m0s\u001b[0m 3ms/step - loss: 0.1460 - mae: 0.3033 - val_loss: 0.0409 - val_mae: 0.1647\n",
      "Epoch 58/100\n",
      "\u001b[1m48/48\u001b[0m \u001b[32m━━━━━━━━━━━━━━━━━━━━\u001b[0m\u001b[37m\u001b[0m \u001b[1m0s\u001b[0m 4ms/step - loss: 0.1556 - mae: 0.3181 - val_loss: 0.0433 - val_mae: 0.1676\n",
      "Epoch 59/100\n",
      "\u001b[1m48/48\u001b[0m \u001b[32m━━━━━━━━━━━━━━━━━━━━\u001b[0m\u001b[37m\u001b[0m \u001b[1m0s\u001b[0m 4ms/step - loss: 0.1305 - mae: 0.2837 - val_loss: 0.0471 - val_mae: 0.1748\n",
      "Epoch 60/100\n",
      "\u001b[1m48/48\u001b[0m \u001b[32m━━━━━━━━━━━━━━━━━━━━\u001b[0m\u001b[37m\u001b[0m \u001b[1m0s\u001b[0m 4ms/step - loss: 0.1409 - mae: 0.2994 - val_loss: 0.0421 - val_mae: 0.1661\n",
      "Epoch 61/100\n",
      "\u001b[1m48/48\u001b[0m \u001b[32m━━━━━━━━━━━━━━━━━━━━\u001b[0m\u001b[37m\u001b[0m \u001b[1m0s\u001b[0m 4ms/step - loss: 0.1561 - mae: 0.3078 - val_loss: 0.0440 - val_mae: 0.1695\n",
      "Epoch 62/100\n",
      "\u001b[1m48/48\u001b[0m \u001b[32m━━━━━━━━━━━━━━━━━━━━\u001b[0m\u001b[37m\u001b[0m \u001b[1m0s\u001b[0m 3ms/step - loss: 0.1596 - mae: 0.3130 - val_loss: 0.0439 - val_mae: 0.1690\n",
      "Epoch 63/100\n",
      "\u001b[1m48/48\u001b[0m \u001b[32m━━━━━━━━━━━━━━━━━━━━\u001b[0m\u001b[37m\u001b[0m \u001b[1m0s\u001b[0m 4ms/step - loss: 0.1241 - mae: 0.2770 - val_loss: 0.0404 - val_mae: 0.1635\n",
      "Epoch 64/100\n",
      "\u001b[1m48/48\u001b[0m \u001b[32m━━━━━━━━━━━━━━━━━━━━\u001b[0m\u001b[37m\u001b[0m \u001b[1m0s\u001b[0m 4ms/step - loss: 0.1366 - mae: 0.2899 - val_loss: 0.0416 - val_mae: 0.1655\n",
      "Epoch 65/100\n",
      "\u001b[1m48/48\u001b[0m \u001b[32m━━━━━━━━━━━━━━━━━━━━\u001b[0m\u001b[37m\u001b[0m \u001b[1m0s\u001b[0m 3ms/step - loss: 0.1356 - mae: 0.2945 - val_loss: 0.0407 - val_mae: 0.1635\n",
      "Epoch 66/100\n",
      "\u001b[1m48/48\u001b[0m \u001b[32m━━━━━━━━━━━━━━━━━━━━\u001b[0m\u001b[37m\u001b[0m \u001b[1m0s\u001b[0m 3ms/step - loss: 0.1258 - mae: 0.2824 - val_loss: 0.0417 - val_mae: 0.1658\n",
      "Epoch 67/100\n",
      "\u001b[1m48/48\u001b[0m \u001b[32m━━━━━━━━━━━━━━━━━━━━\u001b[0m\u001b[37m\u001b[0m \u001b[1m0s\u001b[0m 4ms/step - loss: 0.1308 - mae: 0.2907 - val_loss: 0.0391 - val_mae: 0.1624\n",
      "Epoch 68/100\n",
      "\u001b[1m48/48\u001b[0m \u001b[32m━━━━━━━━━━━━━━━━━━━━\u001b[0m\u001b[37m\u001b[0m \u001b[1m0s\u001b[0m 4ms/step - loss: 0.1363 - mae: 0.2939 - val_loss: 0.0399 - val_mae: 0.1635\n",
      "Epoch 69/100\n",
      "\u001b[1m48/48\u001b[0m \u001b[32m━━━━━━━━━━━━━━━━━━━━\u001b[0m\u001b[37m\u001b[0m \u001b[1m0s\u001b[0m 4ms/step - loss: 0.1441 - mae: 0.3017 - val_loss: 0.0419 - val_mae: 0.1649\n",
      "Epoch 70/100\n",
      "\u001b[1m48/48\u001b[0m \u001b[32m━━━━━━━━━━━━━━━━━━━━\u001b[0m\u001b[37m\u001b[0m \u001b[1m0s\u001b[0m 3ms/step - loss: 0.1140 - mae: 0.2647 - val_loss: 0.0406 - val_mae: 0.1630\n",
      "Epoch 71/100\n",
      "\u001b[1m48/48\u001b[0m \u001b[32m━━━━━━━━━━━━━━━━━━━━\u001b[0m\u001b[37m\u001b[0m \u001b[1m0s\u001b[0m 3ms/step - loss: 0.1120 - mae: 0.2681 - val_loss: 0.0442 - val_mae: 0.1690\n",
      "Epoch 72/100\n",
      "\u001b[1m48/48\u001b[0m \u001b[32m━━━━━━━━━━━━━━━━━━━━\u001b[0m\u001b[37m\u001b[0m \u001b[1m0s\u001b[0m 4ms/step - loss: 0.1346 - mae: 0.2851 - val_loss: 0.0378 - val_mae: 0.1603\n",
      "Epoch 73/100\n",
      "\u001b[1m48/48\u001b[0m \u001b[32m━━━━━━━━━━━━━━━━━━━━\u001b[0m\u001b[37m\u001b[0m \u001b[1m0s\u001b[0m 4ms/step - loss: 0.1441 - mae: 0.2997 - val_loss: 0.0412 - val_mae: 0.1640\n",
      "Epoch 74/100\n",
      "\u001b[1m48/48\u001b[0m \u001b[32m━━━━━━━━━━━━━━━━━━━━\u001b[0m\u001b[37m\u001b[0m \u001b[1m0s\u001b[0m 4ms/step - loss: 0.1144 - mae: 0.2682 - val_loss: 0.0423 - val_mae: 0.1657\n",
      "Epoch 75/100\n",
      "\u001b[1m48/48\u001b[0m \u001b[32m━━━━━━━━━━━━━━━━━━━━\u001b[0m\u001b[37m\u001b[0m \u001b[1m0s\u001b[0m 3ms/step - loss: 0.1095 - mae: 0.2577 - val_loss: 0.0386 - val_mae: 0.1621\n",
      "Epoch 76/100\n",
      "\u001b[1m48/48\u001b[0m \u001b[32m━━━━━━━━━━━━━━━━━━━━\u001b[0m\u001b[37m\u001b[0m \u001b[1m0s\u001b[0m 4ms/step - loss: 0.1161 - mae: 0.2685 - val_loss: 0.0388 - val_mae: 0.1619\n",
      "Epoch 77/100\n",
      "\u001b[1m48/48\u001b[0m \u001b[32m━━━━━━━━━━━━━━━━━━━━\u001b[0m\u001b[37m\u001b[0m \u001b[1m0s\u001b[0m 4ms/step - loss: 0.1098 - mae: 0.2574 - val_loss: 0.0401 - val_mae: 0.1625\n",
      "Epoch 78/100\n",
      "\u001b[1m48/48\u001b[0m \u001b[32m━━━━━━━━━━━━━━━━━━━━\u001b[0m\u001b[37m\u001b[0m \u001b[1m0s\u001b[0m 4ms/step - loss: 0.1175 - mae: 0.2744 - val_loss: 0.0384 - val_mae: 0.1616\n",
      "Epoch 79/100\n",
      "\u001b[1m48/48\u001b[0m \u001b[32m━━━━━━━━━━━━━━━━━━━━\u001b[0m\u001b[37m\u001b[0m \u001b[1m0s\u001b[0m 4ms/step - loss: 0.1324 - mae: 0.2884 - val_loss: 0.0393 - val_mae: 0.1638\n",
      "Epoch 80/100\n",
      "\u001b[1m48/48\u001b[0m \u001b[32m━━━━━━━━━━━━━━━━━━━━\u001b[0m\u001b[37m\u001b[0m \u001b[1m0s\u001b[0m 4ms/step - loss: 0.1360 - mae: 0.2860 - val_loss: 0.0405 - val_mae: 0.1633\n",
      "Epoch 81/100\n",
      "\u001b[1m48/48\u001b[0m \u001b[32m━━━━━━━━━━━━━━━━━━━━\u001b[0m\u001b[37m\u001b[0m \u001b[1m0s\u001b[0m 4ms/step - loss: 0.1267 - mae: 0.2824 - val_loss: 0.0387 - val_mae: 0.1612\n",
      "Epoch 82/100\n",
      "\u001b[1m48/48\u001b[0m \u001b[32m━━━━━━━━━━━━━━━━━━━━\u001b[0m\u001b[37m\u001b[0m \u001b[1m0s\u001b[0m 4ms/step - loss: 0.1328 - mae: 0.2836 - val_loss: 0.0377 - val_mae: 0.1603\n",
      "Epoch 83/100\n",
      "\u001b[1m48/48\u001b[0m \u001b[32m━━━━━━━━━━━━━━━━━━━━\u001b[0m\u001b[37m\u001b[0m \u001b[1m0s\u001b[0m 4ms/step - loss: 0.1183 - mae: 0.2681 - val_loss: 0.0423 - val_mae: 0.1659\n",
      "Epoch 84/100\n",
      "\u001b[1m48/48\u001b[0m \u001b[32m━━━━━━━━━━━━━━━━━━━━\u001b[0m\u001b[37m\u001b[0m \u001b[1m0s\u001b[0m 4ms/step - loss: 0.1204 - mae: 0.2759 - val_loss: 0.0379 - val_mae: 0.1605\n",
      "Epoch 85/100\n",
      "\u001b[1m48/48\u001b[0m \u001b[32m━━━━━━━━━━━━━━━━━━━━\u001b[0m\u001b[37m\u001b[0m \u001b[1m0s\u001b[0m 4ms/step - loss: 0.1089 - mae: 0.2658 - val_loss: 0.0418 - val_mae: 0.1651\n",
      "Epoch 86/100\n",
      "\u001b[1m48/48\u001b[0m \u001b[32m━━━━━━━━━━━━━━━━━━━━\u001b[0m\u001b[37m\u001b[0m \u001b[1m0s\u001b[0m 4ms/step - loss: 0.1071 - mae: 0.2606 - val_loss: 0.0406 - val_mae: 0.1636\n",
      "Epoch 87/100\n",
      "\u001b[1m48/48\u001b[0m \u001b[32m━━━━━━━━━━━━━━━━━━━━\u001b[0m\u001b[37m\u001b[0m \u001b[1m0s\u001b[0m 4ms/step - loss: 0.1236 - mae: 0.2782 - val_loss: 0.0408 - val_mae: 0.1638\n",
      "Epoch 88/100\n",
      "\u001b[1m48/48\u001b[0m \u001b[32m━━━━━━━━━━━━━━━━━━━━\u001b[0m\u001b[37m\u001b[0m \u001b[1m0s\u001b[0m 4ms/step - loss: 0.1182 - mae: 0.2701 - val_loss: 0.0383 - val_mae: 0.1607\n",
      "Epoch 89/100\n",
      "\u001b[1m48/48\u001b[0m \u001b[32m━━━━━━━━━━━━━━━━━━━━\u001b[0m\u001b[37m\u001b[0m \u001b[1m0s\u001b[0m 3ms/step - loss: 0.1086 - mae: 0.2615 - val_loss: 0.0402 - val_mae: 0.1635\n",
      "Epoch 90/100\n",
      "\u001b[1m48/48\u001b[0m \u001b[32m━━━━━━━━━━━━━━━━━━━━\u001b[0m\u001b[37m\u001b[0m \u001b[1m0s\u001b[0m 3ms/step - loss: 0.1212 - mae: 0.2674 - val_loss: 0.0375 - val_mae: 0.1600\n",
      "Epoch 91/100\n",
      "\u001b[1m48/48\u001b[0m \u001b[32m━━━━━━━━━━━━━━━━━━━━\u001b[0m\u001b[37m\u001b[0m \u001b[1m0s\u001b[0m 4ms/step - loss: 0.1271 - mae: 0.2830 - val_loss: 0.0400 - val_mae: 0.1630\n",
      "Epoch 92/100\n",
      "\u001b[1m48/48\u001b[0m \u001b[32m━━━━━━━━━━━━━━━━━━━━\u001b[0m\u001b[37m\u001b[0m \u001b[1m0s\u001b[0m 4ms/step - loss: 0.1281 - mae: 0.2857 - val_loss: 0.0379 - val_mae: 0.1608\n",
      "Epoch 93/100\n",
      "\u001b[1m48/48\u001b[0m \u001b[32m━━━━━━━━━━━━━━━━━━━━\u001b[0m\u001b[37m\u001b[0m \u001b[1m0s\u001b[0m 4ms/step - loss: 0.1021 - mae: 0.2519 - val_loss: 0.0391 - val_mae: 0.1616\n",
      "Epoch 94/100\n",
      "\u001b[1m48/48\u001b[0m \u001b[32m━━━━━━━━━━━━━━━━━━━━\u001b[0m\u001b[37m\u001b[0m \u001b[1m0s\u001b[0m 3ms/step - loss: 0.1161 - mae: 0.2722 - val_loss: 0.0408 - val_mae: 0.1644\n",
      "Epoch 95/100\n",
      "\u001b[1m48/48\u001b[0m \u001b[32m━━━━━━━━━━━━━━━━━━━━\u001b[0m\u001b[37m\u001b[0m \u001b[1m0s\u001b[0m 3ms/step - loss: 0.1074 - mae: 0.2583 - val_loss: 0.0417 - val_mae: 0.1652\n",
      "Epoch 96/100\n",
      "\u001b[1m48/48\u001b[0m \u001b[32m━━━━━━━━━━━━━━━━━━━━\u001b[0m\u001b[37m\u001b[0m \u001b[1m0s\u001b[0m 4ms/step - loss: 0.1089 - mae: 0.2601 - val_loss: 0.0434 - val_mae: 0.1687\n",
      "Epoch 97/100\n",
      "\u001b[1m48/48\u001b[0m \u001b[32m━━━━━━━━━━━━━━━━━━━━\u001b[0m\u001b[37m\u001b[0m \u001b[1m0s\u001b[0m 4ms/step - loss: 0.1130 - mae: 0.2707 - val_loss: 0.0378 - val_mae: 0.1609\n",
      "Epoch 98/100\n",
      "\u001b[1m48/48\u001b[0m \u001b[32m━━━━━━━━━━━━━━━━━━━━\u001b[0m\u001b[37m\u001b[0m \u001b[1m0s\u001b[0m 4ms/step - loss: 0.1100 - mae: 0.2629 - val_loss: 0.0394 - val_mae: 0.1628\n",
      "Epoch 99/100\n",
      "\u001b[1m48/48\u001b[0m \u001b[32m━━━━━━━━━━━━━━━━━━━━\u001b[0m\u001b[37m\u001b[0m \u001b[1m0s\u001b[0m 5ms/step - loss: 0.1110 - mae: 0.2618 - val_loss: 0.0381 - val_mae: 0.1601\n",
      "Epoch 100/100\n",
      "\u001b[1m48/48\u001b[0m \u001b[32m━━━━━━━━━━━━━━━━━━━━\u001b[0m\u001b[37m\u001b[0m \u001b[1m0s\u001b[0m 4ms/step - loss: 0.0973 - mae: 0.2449 - val_loss: 0.0379 - val_mae: 0.1596\n"
     ]
    }
   ],
   "source": [
    "X_train, X_test, y_train, y_test = train_test_split(X, y, test_size=0.2, random_state=31)\n",
    "X_train = preprocessor.fit_transform(X_train)\n",
    "X_test = preprocessor.transform(X_test)\n",
    "\n",
    "model = tf.keras.Sequential([\n",
    "    tf.keras.layers.Input(shape=(X_train.shape[1],)),\n",
    "    tf.keras.layers.Dense(64, activation='relu'),\n",
    "    tf.keras.layers.BatchNormalization(),\n",
    "    tf.keras.layers.Dropout(0.3),\n",
    "    tf.keras.layers.Dense(32, activation='relu'),\n",
    "    tf.keras.layers.BatchNormalization(),\n",
    "    tf.keras.layers.Dropout(0.3),\n",
    "    tf.keras.layers.Dense(1)\n",
    "])\n",
    "model.compile(optimizer='adam', loss='mse', metrics=['mae'])\n",
    "history = model.fit(X_train, y_train, epochs=100, validation_split=0.2, batch_size=32)"
   ]
  },
  {
   "cell_type": "code",
   "execution_count": 34,
   "id": "c3380cda",
   "metadata": {
    "execution": {
     "iopub.execute_input": "2024-07-31T20:08:57.595187Z",
     "iopub.status.busy": "2024-07-31T20:08:57.594715Z",
     "iopub.status.idle": "2024-07-31T20:08:58.028574Z",
     "shell.execute_reply": "2024-07-31T20:08:58.027480Z"
    },
    "papermill": {
     "duration": 0.52549,
     "end_time": "2024-07-31T20:08:58.031146",
     "exception": false,
     "start_time": "2024-07-31T20:08:57.505656",
     "status": "completed"
    },
    "tags": []
   },
   "outputs": [
    {
     "name": "stdout",
     "output_type": "stream",
     "text": [
      "\u001b[1m15/15\u001b[0m \u001b[32m━━━━━━━━━━━━━━━━━━━━\u001b[0m\u001b[37m\u001b[0m \u001b[1m0s\u001b[0m 2ms/step - loss: 0.0433 - mae: 0.1664 \n",
      "\u001b[1m15/15\u001b[0m \u001b[32m━━━━━━━━━━━━━━━━━━━━\u001b[0m\u001b[37m\u001b[0m \u001b[1m0s\u001b[0m 7ms/step\n",
      "Test MAE: 0.1733\n",
      "R-squared: 0.946\n"
     ]
    }
   ],
   "source": [
    "test_loss, test_mae = model.evaluate(X_test, y_test)\n",
    "y_pred = model.predict(X_test)\n",
    "r2 = r2_score(y_test, y_pred)\n",
    "\n",
    "print(f'Test MAE: {test_mae:.4f}')\n",
    "print(f\"R-squared: {r2:.3f}\")"
   ]
  },
  {
   "cell_type": "markdown",
   "id": "67106811",
   "metadata": {
    "papermill": {
     "duration": 0.087453,
     "end_time": "2024-07-31T20:08:58.204863",
     "exception": false,
     "start_time": "2024-07-31T20:08:58.117410",
     "status": "completed"
    },
    "tags": []
   },
   "source": [
    "We can notice that we got performance very similar to the Linear Regression model. This can most certainly be further improved with hyperparameter tuning using methods like grid search in order to get the best possible parameters or even architecture tweaking."
   ]
  },
  {
   "cell_type": "code",
   "execution_count": 35,
   "id": "6224fee6",
   "metadata": {
    "execution": {
     "iopub.execute_input": "2024-07-31T20:08:58.388808Z",
     "iopub.status.busy": "2024-07-31T20:08:58.388330Z",
     "iopub.status.idle": "2024-07-31T20:08:58.817035Z",
     "shell.execute_reply": "2024-07-31T20:08:58.815428Z"
    },
    "papermill": {
     "duration": 0.526012,
     "end_time": "2024-07-31T20:08:58.819799",
     "exception": false,
     "start_time": "2024-07-31T20:08:58.293787",
     "status": "completed"
    },
    "tags": []
   },
   "outputs": [
    {
     "data": {
      "image/png": "[encoded data removed]",
      "text/plain": [
       "<Figure size 640x480 with 1 Axes>"
      ]
     },
     "metadata": {},
     "output_type": "display_data"
    }
   ],
   "source": [
    "history_df = pd.DataFrame(history.history)\n",
    "sns.lineplot(data=history_df.loc[2:, ['loss', 'val_loss']])\n",
    "plt.xlabel('Epochs')\n",
    "plt.ylabel('Loss')\n",
    "plt.title('Training and Validation Loss')\n",
    "plt.legend(['Training Loss', 'Validation Loss'])\n",
    "plt.show()"
   ]
  },
  {
   "cell_type": "markdown",
   "id": "7f938e8d",
   "metadata": {
    "papermill": {
     "duration": 0.090029,
     "end_time": "2024-07-31T20:08:58.997651",
     "exception": false,
     "start_time": "2024-07-31T20:08:58.907622",
     "status": "completed"
    },
    "tags": []
   },
   "source": [
    "The above graph shows the training and validation loss over the 100 epochs of our model training. Both losses start high but decrease rapidly in the first 20 or so epochs, with the validation loss dropping much quicker than the training loss. After the initial sharp decline, both losses continue to decrease more gradually. The validation loss remains consistently lower than the training loss throughout the training process. By the end of 100 epochs, both losses have stabilized at low values (cause of this its also worth mentioning that we could have trained the model for less than half the epochs we did with no loss in performance), with the validation loss approaching zero. This pattern suggests the model is learning effectively and generalizing well to unseen data, without obvious signs of overfitting."
   ]
  },
  {
   "cell_type": "code",
   "execution_count": 36,
   "id": "bf92a982",
   "metadata": {
    "execution": {
     "iopub.execute_input": "2024-07-31T20:08:59.178718Z",
     "iopub.status.busy": "2024-07-31T20:08:59.178247Z",
     "iopub.status.idle": "2024-07-31T20:08:59.194186Z",
     "shell.execute_reply": "2024-07-31T20:08:59.192922Z"
    },
    "papermill": {
     "duration": 0.109412,
     "end_time": "2024-07-31T20:08:59.197138",
     "exception": false,
     "start_time": "2024-07-31T20:08:59.087726",
     "status": "completed"
    },
    "tags": []
   },
   "outputs": [
    {
     "data": {
      "text/html": [
       "<div>\n",
       "<style scoped>\n",
       "    .dataframe tbody tr th:only-of-type {\n",
       "        vertical-align: middle;\n",
       "    }\n",
       "\n",
       "    .dataframe tbody tr th {\n",
       "        vertical-align: top;\n",
       "    }\n",
       "\n",
       "    .dataframe thead th {\n",
       "        text-align: right;\n",
       "    }\n",
       "</style>\n",
       "<table border=\"1\" class=\"dataframe\">\n",
       "  <thead>\n",
       "    <tr style=\"text-align: right;\">\n",
       "      <th></th>\n",
       "      <th>loss</th>\n",
       "      <th>mae</th>\n",
       "      <th>val_loss</th>\n",
       "      <th>val_mae</th>\n",
       "    </tr>\n",
       "  </thead>\n",
       "  <tbody>\n",
       "    <tr>\n",
       "      <th>0</th>\n",
       "      <td>5.261400</td>\n",
       "      <td>1.931144</td>\n",
       "      <td>3.124479</td>\n",
       "      <td>1.606152</td>\n",
       "    </tr>\n",
       "    <tr>\n",
       "      <th>1</th>\n",
       "      <td>3.300806</td>\n",
       "      <td>1.522394</td>\n",
       "      <td>2.445254</td>\n",
       "      <td>1.424013</td>\n",
       "    </tr>\n",
       "    <tr>\n",
       "      <th>2</th>\n",
       "      <td>2.500498</td>\n",
       "      <td>1.312130</td>\n",
       "      <td>1.883721</td>\n",
       "      <td>1.242311</td>\n",
       "    </tr>\n",
       "    <tr>\n",
       "      <th>3</th>\n",
       "      <td>1.869868</td>\n",
       "      <td>1.109466</td>\n",
       "      <td>1.303142</td>\n",
       "      <td>1.030741</td>\n",
       "    </tr>\n",
       "    <tr>\n",
       "      <th>4</th>\n",
       "      <td>1.417384</td>\n",
       "      <td>0.964681</td>\n",
       "      <td>0.848979</td>\n",
       "      <td>0.820922</td>\n",
       "    </tr>\n",
       "  </tbody>\n",
       "</table>\n",
       "</div>"
      ],
      "text/plain": [
       "       loss       mae  val_loss   val_mae\n",
       "0  5.261400  1.931144  3.124479  1.606152\n",
       "1  3.300806  1.522394  2.445254  1.424013\n",
       "2  2.500498  1.312130  1.883721  1.242311\n",
       "3  1.869868  1.109466  1.303142  1.030741\n",
       "4  1.417384  0.964681  0.848979  0.820922"
      ]
     },
     "execution_count": 36,
     "metadata": {},
     "output_type": "execute_result"
    }
   ],
   "source": [
    "history_df.head()"
   ]
  },
  {
   "cell_type": "markdown",
   "id": "75b186c6",
   "metadata": {
    "papermill": {
     "duration": 0.089993,
     "end_time": "2024-07-31T20:08:59.387546",
     "exception": false,
     "start_time": "2024-07-31T20:08:59.297553",
     "status": "completed"
    },
    "tags": []
   },
   "source": [
    "## Unseen Data Prediction"
   ]
  },
  {
   "cell_type": "markdown",
   "id": "6255c4ed",
   "metadata": {
    "papermill": {
     "duration": 0.088917,
     "end_time": "2024-07-31T20:08:59.571067",
     "exception": false,
     "start_time": "2024-07-31T20:08:59.482150",
     "status": "completed"
    },
    "tags": []
   },
   "source": [
    "And now we try to predict a completely new and unseen data point using all the models we saw thus far."
   ]
  },
  {
   "cell_type": "code",
   "execution_count": 37,
   "id": "9518cd2d",
   "metadata": {
    "execution": {
     "iopub.execute_input": "2024-07-31T20:08:59.755013Z",
     "iopub.status.busy": "2024-07-31T20:08:59.754625Z",
     "iopub.status.idle": "2024-07-31T20:08:59.763633Z",
     "shell.execute_reply": "2024-07-31T20:08:59.762295Z"
    },
    "papermill": {
     "duration": 0.101695,
     "end_time": "2024-07-31T20:08:59.766863",
     "exception": false,
     "start_time": "2024-07-31T20:08:59.665168",
     "status": "completed"
    },
    "tags": []
   },
   "outputs": [],
   "source": [
    "test_input = pd.DataFrame({\n",
    "    'Age': [16],\n",
    "    'Gender': [0],\n",
    "    'Ethnicity': [2],\n",
    "    'ParentalEducation': [4],\n",
    "    'StudyTimeWeekly': [13],\n",
    "    'Absences': [5],\n",
    "    'Tutoring': [1],\n",
    "    'ParentalSupport': [2],\n",
    "    'Extracurricular': [1],\n",
    "    'Sports': [0],\n",
    "    'Music': [1],\n",
    "    'Volunteering': [0]\n",
    "})"
   ]
  },
  {
   "cell_type": "code",
   "execution_count": 38,
   "id": "8a1f46f1",
   "metadata": {
    "execution": {
     "iopub.execute_input": "2024-07-31T20:08:59.949679Z",
     "iopub.status.busy": "2024-07-31T20:08:59.949231Z",
     "iopub.status.idle": "2024-07-31T20:08:59.964794Z",
     "shell.execute_reply": "2024-07-31T20:08:59.963453Z"
    },
    "papermill": {
     "duration": 0.109943,
     "end_time": "2024-07-31T20:08:59.967474",
     "exception": false,
     "start_time": "2024-07-31T20:08:59.857531",
     "status": "completed"
    },
    "tags": []
   },
   "outputs": [
    {
     "name": "stdout",
     "output_type": "stream",
     "text": [
      "Linear Regression Model Predicted GPA: 3.294\n"
     ]
    }
   ],
   "source": [
    "lr_prediction = lr_pipeline.predict(test_input)\n",
    "print(f'Linear Regression Model Predicted GPA: {lr_prediction[0]:.3f}')"
   ]
  },
  {
   "cell_type": "code",
   "execution_count": 39,
   "id": "22c81212",
   "metadata": {
    "execution": {
     "iopub.execute_input": "2024-07-31T20:09:00.145464Z",
     "iopub.status.busy": "2024-07-31T20:09:00.144971Z",
     "iopub.status.idle": "2024-07-31T20:09:00.162403Z",
     "shell.execute_reply": "2024-07-31T20:09:00.161335Z"
    },
    "papermill": {
     "duration": 0.113583,
     "end_time": "2024-07-31T20:09:00.167924",
     "exception": false,
     "start_time": "2024-07-31T20:09:00.054341",
     "status": "completed"
    },
    "tags": []
   },
   "outputs": [
    {
     "name": "stdout",
     "output_type": "stream",
     "text": [
      "XGB Model Predicted GPA: 3.047\n"
     ]
    }
   ],
   "source": [
    "xgb_prediction = xgb_pipeline.predict(test_input)\n",
    "print(f'XGB Model Predicted GPA: {xgb_prediction[0]:.3f}')"
   ]
  },
  {
   "cell_type": "code",
   "execution_count": 40,
   "id": "c1ba5685",
   "metadata": {
    "execution": {
     "iopub.execute_input": "2024-07-31T20:09:00.353026Z",
     "iopub.status.busy": "2024-07-31T20:09:00.352588Z",
     "iopub.status.idle": "2024-07-31T20:09:00.376016Z",
     "shell.execute_reply": "2024-07-31T20:09:00.374437Z"
    },
    "papermill": {
     "duration": 0.118246,
     "end_time": "2024-07-31T20:09:00.378801",
     "exception": false,
     "start_time": "2024-07-31T20:09:00.260555",
     "status": "completed"
    },
    "tags": []
   },
   "outputs": [
    {
     "name": "stdout",
     "output_type": "stream",
     "text": [
      "Random Forest Model Predicted GPA: 3.086\n"
     ]
    }
   ],
   "source": [
    "rf_prediction = rf_pipeline.predict(test_input)\n",
    "print(f'Random Forest Model Predicted GPA: {rf_prediction[0]:.3f}')"
   ]
  },
  {
   "cell_type": "code",
   "execution_count": 41,
   "id": "8632c605",
   "metadata": {
    "execution": {
     "iopub.execute_input": "2024-07-31T20:09:00.561660Z",
     "iopub.status.busy": "2024-07-31T20:09:00.561207Z",
     "iopub.status.idle": "2024-07-31T20:09:00.661425Z",
     "shell.execute_reply": "2024-07-31T20:09:00.659637Z"
    },
    "papermill": {
     "duration": 0.197185,
     "end_time": "2024-07-31T20:09:00.664409",
     "exception": false,
     "start_time": "2024-07-31T20:09:00.467224",
     "status": "completed"
    },
    "tags": []
   },
   "outputs": [
    {
     "name": "stdout",
     "output_type": "stream",
     "text": [
      "\u001b[1m1/1\u001b[0m \u001b[32m━━━━━━━━━━━━━━━━━━━━\u001b[0m\u001b[37m\u001b[0m \u001b[1m0s\u001b[0m 25ms/step\n",
      "Neural Network Predicted GPA: 3.263\n"
     ]
    }
   ],
   "source": [
    "input_data_processed = preprocessor.transform(test_input)\n",
    "prediction = model.predict(input_data_processed)\n",
    "print(f'Neural Network Predicted GPA: {prediction[0][0]:.3f}')"
   ]
  },
  {
   "cell_type": "markdown",
   "id": "c486cfd8",
   "metadata": {
    "papermill": {
     "duration": 0.087424,
     "end_time": "2024-07-31T20:09:00.840846",
     "exception": false,
     "start_time": "2024-07-31T20:09:00.753422",
     "status": "completed"
    },
    "tags": []
   },
   "source": [
    "**DISCLAIMER**: Since this is meant to be a beginner friendly notebook, I did not try other models like SVM or GBMs, neither did I do any hyperparameter tuning or k-cross validation. All of these could have given better results than what we saw. I will leave this to a future version of this notebook or perhaps the reader could try and implement them on forked notebooks."
   ]
  },
  {
   "cell_type": "markdown",
   "id": "c24746f2",
   "metadata": {
    "papermill": {
     "duration": 0.090467,
     "end_time": "2024-07-31T20:09:01.021314",
     "exception": false,
     "start_time": "2024-07-31T20:09:00.930847",
     "status": "completed"
    },
    "tags": []
   },
   "source": [
    "If you read all the way down here, I thank you for your time reading this notebook and I hope you enjoyed it, learned something new or perhaps you are ready to teach me something!"
   ]
  }
 ],
 "metadata": {
  "kaggle": {
   "accelerator": "none",
   "dataSources": [
    {
     "datasetId": 5195702,
     "sourceId": 8677630,
     "sourceType": "datasetVersion"
    }
   ],
   "dockerImageVersionId": 30746,
   "isGpuEnabled": false,
   "isInternetEnabled": true,
   "language": "python",
   "sourceType": "notebook"
  },
  "kernelspec": {
   "display_name": "Python 3",
   "language": "python",
   "name": "python3"
  },
  "language_info": {
   "codemirror_mode": {
    "name": "ipython",
    "version": 3
   },
   "file_extension": ".py",
   "mimetype": "text/x-python",
   "name": "python",
   "nbconvert_exporter": "python",
   "pygments_lexer": "ipython3",
   "version": "3.10.13"
  },
  "papermill": {
   "default_parameters": {},
   "duration": 67.393459,
   "end_time": "2024-07-31T20:09:03.966466",
   "environment_variables": {},
   "exception": null,
   "input_path": "__notebook__.ipynb",
   "output_path": "__notebook__.ipynb",
   "parameters": {},
   "start_time": "2024-07-31T20:07:56.573007",
   "version": "2.5.0"
  }
 },
 "nbformat": 4,
 "nbformat_minor": 5
}
