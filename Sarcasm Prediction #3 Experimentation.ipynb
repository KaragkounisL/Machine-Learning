{
 "cells": [
  {
   "cell_type": "code",
   "execution_count": 1,
   "id": "5b772b40",
   "metadata": {
    "_cell_guid": "b1076dfc-b9ad-4769-8c92-a6c4dae69d19",
    "_uuid": "8f2839f25d086af736a60e9eeb907d3b93b6e0e5",
    "execution": {
     "iopub.execute_input": "2023-08-24T12:24:15.493212Z",
     "iopub.status.busy": "2023-08-24T12:24:15.492676Z",
     "iopub.status.idle": "2023-08-24T12:24:27.778886Z",
     "shell.execute_reply": "2023-08-24T12:24:27.777828Z"
    },
    "papermill": {
     "duration": 12.297452,
     "end_time": "2023-08-24T12:24:27.781586",
     "exception": false,
     "start_time": "2023-08-24T12:24:15.484134",
     "status": "completed"
    },
    "tags": []
   },
   "outputs": [
    {
     "name": "stderr",
     "output_type": "stream",
     "text": [
      "/opt/conda/lib/python3.10/site-packages/scipy/__init__.py:146: UserWarning: A NumPy version >=1.16.5 and <1.23.0 is required for this version of SciPy (detected version 1.23.5\n",
      "  warnings.warn(f\"A NumPy version >={np_minversion} and <{np_maxversion}\"\n"
     ]
    }
   ],
   "source": [
    "# Imports\n",
    "import json\n",
    "import numpy as np\n",
    "import seaborn as sns\n",
    "import matplotlib.pyplot as plt\n",
    "\n",
    "import warnings\n",
    "warnings.filterwarnings('ignore', category=UserWarning, module='tensorflow_io')\n",
    "\n",
    "import tqdm\n",
    "import tensorflow as tf\n",
    "from tensorflow.keras.callbacks import EarlyStopping\n",
    "from sklearn.metrics import classification_report, confusion_matrix\n",
    "from sklearn.model_selection import KFold"
   ]
  },
  {
   "cell_type": "code",
   "execution_count": 2,
   "id": "5a367370",
   "metadata": {
    "execution": {
     "iopub.execute_input": "2023-08-24T12:24:27.796131Z",
     "iopub.status.busy": "2023-08-24T12:24:27.795380Z",
     "iopub.status.idle": "2023-08-24T12:24:27.801519Z",
     "shell.execute_reply": "2023-08-24T12:24:27.800393Z"
    },
    "papermill": {
     "duration": 0.015832,
     "end_time": "2023-08-24T12:24:27.803791",
     "exception": false,
     "start_time": "2023-08-24T12:24:27.787959",
     "status": "completed"
    },
    "tags": []
   },
   "outputs": [],
   "source": [
    "# Variable settings\n",
    "vocab_size = 10000\n",
    "embedding_dim = 16\n",
    "max_length = 100\n",
    "trunc_type = 'post'\n",
    "padding_type = 'post'\n",
    "oov_tok = \"<OOV>\" \n",
    "training_size = 23000\n",
    "num_epochs = 25"
   ]
  },
  {
   "cell_type": "code",
   "execution_count": 3,
   "id": "223f08f2",
   "metadata": {
    "execution": {
     "iopub.execute_input": "2023-08-24T12:24:27.817808Z",
     "iopub.status.busy": "2023-08-24T12:24:27.817423Z",
     "iopub.status.idle": "2023-08-24T12:24:28.062753Z",
     "shell.execute_reply": "2023-08-24T12:24:28.061646Z"
    },
    "papermill": {
     "duration": 0.25529,
     "end_time": "2023-08-24T12:24:28.065363",
     "exception": false,
     "start_time": "2023-08-24T12:24:27.810073",
     "status": "completed"
    },
    "tags": []
   },
   "outputs": [],
   "source": [
    "# Data Loading\n",
    "datastore = []\n",
    "with open('/kaggle/input/news-headlines-dataset-for-sarcasm-detection/Sarcasm_Headlines_Dataset_v2.json', 'r') as f:\n",
    "    for line in f:\n",
    "        datastore.append(json.loads(line))   \n",
    "\n",
    "sentences = []\n",
    "labels = []\n",
    "urls = []\n",
    "\n",
    "for item in datastore:\n",
    "    sentences.append(item['headline'])\n",
    "    labels.append(item['is_sarcastic'])\n",
    "    urls.append(item['article_link'])"
   ]
  },
  {
   "cell_type": "code",
   "execution_count": 4,
   "id": "1a4229b5",
   "metadata": {
    "execution": {
     "iopub.execute_input": "2023-08-24T12:24:28.079992Z",
     "iopub.status.busy": "2023-08-24T12:24:28.079133Z",
     "iopub.status.idle": "2023-08-24T12:24:28.084666Z",
     "shell.execute_reply": "2023-08-24T12:24:28.083901Z"
    },
    "papermill": {
     "duration": 0.015192,
     "end_time": "2023-08-24T12:24:28.086849",
     "exception": false,
     "start_time": "2023-08-24T12:24:28.071657",
     "status": "completed"
    },
    "tags": []
   },
   "outputs": [],
   "source": [
    "# Splitting data (sentences) and labels into training and testing sets\n",
    "training_sentences = sentences[0:training_size]\n",
    "testing_sentences = sentences[training_size:]\n",
    "training_labels = labels[0:training_size]\n",
    "testing_labels = labels[training_size:]"
   ]
  },
  {
   "cell_type": "code",
   "execution_count": 5,
   "id": "efd988d7",
   "metadata": {
    "execution": {
     "iopub.execute_input": "2023-08-24T12:24:28.101391Z",
     "iopub.status.busy": "2023-08-24T12:24:28.100768Z",
     "iopub.status.idle": "2023-08-24T12:24:29.323537Z",
     "shell.execute_reply": "2023-08-24T12:24:29.322276Z"
    },
    "papermill": {
     "duration": 1.233207,
     "end_time": "2023-08-24T12:24:29.326359",
     "exception": false,
     "start_time": "2023-08-24T12:24:28.093152",
     "status": "completed"
    },
    "tags": []
   },
   "outputs": [],
   "source": [
    "# Preprocess and vectorize text data into padded sequences\n",
    "# 1. Create Tokenizer to vectorize text into integer sequences\n",
    "# 2. Fit Tokenizer on training data to build vocabulary\n",
    "# 3. Vectorize training and test sentences into integer sequences\n",
    "# 4. Pad sequences to equal length for model input\n",
    "\n",
    "tokenizer = tf.keras.preprocessing.text.Tokenizer(\n",
    "    num_words=vocab_size, oov_token=oov_tok)\n",
    "tokenizer.fit_on_texts(training_sentences)\n",
    "word_index = tokenizer.word_index\n",
    "\n",
    "traning_sequences = tokenizer.texts_to_sequences(training_sentences)\n",
    "training_padded = tf.keras.preprocessing.sequence.pad_sequences(\n",
    "    traning_sequences, maxlen=max_length, padding=padding_type, truncating=trunc_type)\n",
    "\n",
    "testing_sequences = tokenizer.texts_to_sequences(testing_sentences)\n",
    "testing_padded = tf.keras.preprocessing.sequence.pad_sequences(\n",
    "    testing_sequences, maxlen=max_length, padding=padding_type, truncating=trunc_type)"
   ]
  },
  {
   "cell_type": "code",
   "execution_count": 6,
   "id": "f7ad59e7",
   "metadata": {
    "execution": {
     "iopub.execute_input": "2023-08-24T12:24:29.340531Z",
     "iopub.status.busy": "2023-08-24T12:24:29.340121Z",
     "iopub.status.idle": "2023-08-24T12:24:29.356716Z",
     "shell.execute_reply": "2023-08-24T12:24:29.355512Z"
    },
    "papermill": {
     "duration": 0.026561,
     "end_time": "2023-08-24T12:24:29.359337",
     "exception": false,
     "start_time": "2023-08-24T12:24:29.332776",
     "status": "completed"
    },
    "tags": []
   },
   "outputs": [],
   "source": [
    "# Convert data and labels to NumPy arrays to ready them for model\n",
    "training_padded = np.array(training_padded)\n",
    "training_labels = np.array(training_labels)\n",
    "testing_padded = np.array(testing_padded)\n",
    "testing_labels = np.array(testing_labels)"
   ]
  },
  {
   "cell_type": "code",
   "execution_count": 7,
   "id": "9f857d27",
   "metadata": {
    "execution": {
     "iopub.execute_input": "2023-08-24T12:24:29.373664Z",
     "iopub.status.busy": "2023-08-24T12:24:29.373252Z",
     "iopub.status.idle": "2023-08-24T12:24:29.638558Z",
     "shell.execute_reply": "2023-08-24T12:24:29.637488Z"
    },
    "papermill": {
     "duration": 0.27565,
     "end_time": "2023-08-24T12:24:29.641364",
     "exception": false,
     "start_time": "2023-08-24T12:24:29.365714",
     "status": "completed"
    },
    "tags": []
   },
   "outputs": [],
   "source": [
    "# 1D CNN with an embedding layer, a global average pooling layer, and two dense layers.\n",
    "model = tf.keras.Sequential([\n",
    "    tf.keras.layers.Embedding(\n",
    "        vocab_size, embedding_dim, input_length=max_length),\n",
    "    tf.keras.layers.Dropout(0.8),\n",
    "    tf.keras.layers.GlobalAveragePooling1D(),\n",
    "    tf.keras.layers.Dense(48, activation='elu'),\n",
    "    tf.keras.layers.BatchNormalization(),\n",
    "    tf.keras.layers.Dropout(0.8),\n",
    "    tf.keras.layers.Dense(1, activation='sigmoid')\n",
    "])\n",
    "\n",
    "optimizer = tf.keras.optimizers.Adam(learning_rate=0.001)\n",
    "\n",
    "model.compile(loss='binary_crossentropy',\n",
    "              optimizer=optimizer, metrics=['accuracy'])"
   ]
  },
  {
   "cell_type": "code",
   "execution_count": 8,
   "id": "42887044",
   "metadata": {
    "execution": {
     "iopub.execute_input": "2023-08-24T12:24:29.655576Z",
     "iopub.status.busy": "2023-08-24T12:24:29.655155Z",
     "iopub.status.idle": "2023-08-24T12:24:29.686544Z",
     "shell.execute_reply": "2023-08-24T12:24:29.685254Z"
    },
    "papermill": {
     "duration": 0.043699,
     "end_time": "2023-08-24T12:24:29.691434",
     "exception": false,
     "start_time": "2023-08-24T12:24:29.647735",
     "status": "completed"
    },
    "tags": []
   },
   "outputs": [
    {
     "name": "stdout",
     "output_type": "stream",
     "text": [
      "Model: \"sequential\"\n",
      "_________________________________________________________________\n",
      " Layer (type)                Output Shape              Param #   \n",
      "=================================================================\n",
      " embedding (Embedding)       (None, 100, 16)           160000    \n",
      "                                                                 \n",
      " dropout (Dropout)           (None, 100, 16)           0         \n",
      "                                                                 \n",
      " global_average_pooling1d (G  (None, 16)               0         \n",
      " lobalAveragePooling1D)                                          \n",
      "                                                                 \n",
      " dense (Dense)               (None, 48)                816       \n",
      "                                                                 \n",
      " batch_normalization (BatchN  (None, 48)               192       \n",
      " ormalization)                                                   \n",
      "                                                                 \n",
      " dropout_1 (Dropout)         (None, 48)                0         \n",
      "                                                                 \n",
      " dense_1 (Dense)             (None, 1)                 49        \n",
      "                                                                 \n",
      "=================================================================\n",
      "Total params: 161,057\n",
      "Trainable params: 160,961\n",
      "Non-trainable params: 96\n",
      "_________________________________________________________________\n"
     ]
    }
   ],
   "source": [
    "model.summary()"
   ]
  },
  {
   "cell_type": "code",
   "execution_count": 9,
   "id": "29df26ae",
   "metadata": {
    "execution": {
     "iopub.execute_input": "2023-08-24T12:24:29.709929Z",
     "iopub.status.busy": "2023-08-24T12:24:29.709515Z",
     "iopub.status.idle": "2023-08-24T12:24:48.718562Z",
     "shell.execute_reply": "2023-08-24T12:24:48.717447Z"
    },
    "papermill": {
     "duration": 19.020926,
     "end_time": "2023-08-24T12:24:48.720701",
     "exception": false,
     "start_time": "2023-08-24T12:24:29.699775",
     "status": "completed"
    },
    "tags": []
   },
   "outputs": [
    {
     "name": "stdout",
     "output_type": "stream",
     "text": [
      "Epoch 1/25\n",
      "719/719 - 5s - loss: 0.6001 - accuracy: 0.6658 - val_loss: 0.5155 - val_accuracy: 0.7137 - 5s/epoch - 7ms/step\n",
      "Epoch 2/25\n",
      "719/719 - 4s - loss: 0.4456 - accuracy: 0.7936 - val_loss: 0.3772 - val_accuracy: 0.8247 - 4s/epoch - 5ms/step\n",
      "Epoch 3/25\n",
      "719/719 - 3s - loss: 0.3958 - accuracy: 0.8262 - val_loss: 0.7671 - val_accuracy: 0.6588 - 3s/epoch - 5ms/step\n",
      "Epoch 4/25\n",
      "719/719 - 3s - loss: 0.3647 - accuracy: 0.8448 - val_loss: 0.3958 - val_accuracy: 0.8174 - 3s/epoch - 5ms/step\n",
      "Epoch 5/25\n",
      "719/719 - 3s - loss: 0.3448 - accuracy: 0.8521 - val_loss: 0.3883 - val_accuracy: 0.8158 - 3s/epoch - 5ms/step\n",
      "Epoch 5: early stopping\n"
     ]
    }
   ],
   "source": [
    "# Early stopping to avoid overfitting\n",
    "early_stopping = EarlyStopping(monitor='val_loss', patience=3, mode='min', verbose=1)\n",
    "# Model Training\n",
    "history = model.fit(training_padded, training_labels, epochs=num_epochs, \n",
    "                    validation_data=(testing_padded, testing_labels), \n",
    "                    callbacks=[early_stopping], verbose=2)"
   ]
  },
  {
   "cell_type": "code",
   "execution_count": 10,
   "id": "e0974658",
   "metadata": {
    "execution": {
     "iopub.execute_input": "2023-08-24T12:24:48.741887Z",
     "iopub.status.busy": "2023-08-24T12:24:48.741520Z",
     "iopub.status.idle": "2023-08-24T12:24:49.541576Z",
     "shell.execute_reply": "2023-08-24T12:24:49.540192Z"
    },
    "papermill": {
     "duration": 0.812838,
     "end_time": "2023-08-24T12:24:49.544140",
     "exception": false,
     "start_time": "2023-08-24T12:24:48.731302",
     "status": "completed"
    },
    "tags": []
   },
   "outputs": [
    {
     "name": "stdout",
     "output_type": "stream",
     "text": [
      "176/176 [==============================] - 0s 1ms/step\n",
      "              precision    recall  f1-score   support\n",
      "\n",
      "           0       0.76      0.96      0.85      2963\n",
      "           1       0.93      0.66      0.77      2656\n",
      "\n",
      "    accuracy                           0.82      5619\n",
      "   macro avg       0.85      0.81      0.81      5619\n",
      "weighted avg       0.84      0.82      0.81      5619\n",
      "\n"
     ]
    },
    {
     "data": {
      "image/png": "[encoded data removed]",
      "text/plain": [
       "<Figure size 640x480 with 2 Axes>"
      ]
     },
     "metadata": {},
     "output_type": "display_data"
    }
   ],
   "source": [
    "# Predict labels for testing data\n",
    "y_pred = model.predict(testing_padded)\n",
    "y_pred = (y_pred > 0.5).astype(int)\n",
    "\n",
    "# Calculate evaluation metrics\n",
    "print(classification_report(testing_labels, y_pred))\n",
    "\n",
    "# Plot confusion matrix\n",
    "cm = confusion_matrix(testing_labels, y_pred)\n",
    "sns.heatmap(cm, annot=True, cmap=\"Blues\", fmt=\"d\")\n",
    "plt.xlabel(\"Predicted label\")\n",
    "plt.ylabel(\"True label\")\n",
    "plt.show()"
   ]
  },
  {
   "cell_type": "code",
   "execution_count": 11,
   "id": "87cda86e",
   "metadata": {
    "execution": {
     "iopub.execute_input": "2023-08-24T12:24:49.566733Z",
     "iopub.status.busy": "2023-08-24T12:24:49.566330Z",
     "iopub.status.idle": "2023-08-24T12:24:49.575101Z",
     "shell.execute_reply": "2023-08-24T12:24:49.574159Z"
    },
    "papermill": {
     "duration": 0.022673,
     "end_time": "2023-08-24T12:24:49.577228",
     "exception": false,
     "start_time": "2023-08-24T12:24:49.554555",
     "status": "completed"
    },
    "tags": []
   },
   "outputs": [
    {
     "name": "stdout",
     "output_type": "stream",
     "text": [
      "(10000, 16)\n"
     ]
    }
   ],
   "source": [
    "# Get embedding layer weights the model learned during training\n",
    "e = model.layers[0]\n",
    "weights = e.get_weights()[0]\n",
    "print(weights.shape) # shape: (vocab_size, embedding_dim)"
   ]
  },
  {
   "cell_type": "code",
   "execution_count": 12,
   "id": "c0db2641",
   "metadata": {
    "execution": {
     "iopub.execute_input": "2023-08-24T12:24:49.599940Z",
     "iopub.status.busy": "2023-08-24T12:24:49.599569Z",
     "iopub.status.idle": "2023-08-24T12:30:52.220201Z",
     "shell.execute_reply": "2023-08-24T12:30:52.219105Z"
    },
    "papermill": {
     "duration": 362.636035,
     "end_time": "2023-08-24T12:30:52.223957",
     "exception": false,
     "start_time": "2023-08-24T12:24:49.587922",
     "status": "completed"
    },
    "tags": []
   },
   "outputs": [
    {
     "name": "stderr",
     "output_type": "stream",
     "text": [
      "  0%|          | 0/5 [00:00<?, ?it/s]"
     ]
    },
    {
     "name": "stdout",
     "output_type": "stream",
     "text": [
      "176/176 [==============================] - 0s 1ms/step - loss: 0.4083 - accuracy: 0.8297\n"
     ]
    },
    {
     "name": "stderr",
     "output_type": "stream",
     "text": [
      " 20%|██        | 1/5 [00:58<03:52, 58.17s/it]"
     ]
    },
    {
     "name": "stdout",
     "output_type": "stream",
     "text": [
      "Fold loss: 0.4082603454589844\n",
      "Fold accuracy: 0.8296849727630615\n",
      "176/176 [==============================] - 0s 1ms/step - loss: 0.4294 - accuracy: 0.8199\n"
     ]
    },
    {
     "name": "stderr",
     "output_type": "stream",
     "text": [
      " 40%|████      | 2/5 [01:55<02:53, 57.73s/it]"
     ]
    },
    {
     "name": "stdout",
     "output_type": "stream",
     "text": [
      "Fold loss: 0.4294183850288391\n",
      "Fold accuracy: 0.8198967576026917\n",
      "176/176 [==============================] - 0s 2ms/step - loss: 0.4027 - accuracy: 0.8284\n"
     ]
    },
    {
     "name": "stderr",
     "output_type": "stream",
     "text": [
      " 60%|██████    | 3/5 [03:17<02:17, 68.95s/it]"
     ]
    },
    {
     "name": "stdout",
     "output_type": "stream",
     "text": [
      "Fold loss: 0.4026504456996918\n",
      "Fold accuracy: 0.8284392356872559\n",
      "176/176 [==============================] - 0s 1ms/step - loss: 0.3962 - accuracy: 0.8370\n"
     ]
    },
    {
     "name": "stderr",
     "output_type": "stream",
     "text": [
      " 80%|████████  | 4/5 [04:40<01:14, 74.22s/it]"
     ]
    },
    {
     "name": "stdout",
     "output_type": "stream",
     "text": [
      "Fold loss: 0.3961944282054901\n",
      "Fold accuracy: 0.8369816541671753\n",
      "176/176 [==============================] - 0s 2ms/step - loss: 0.4197 - accuracy: 0.8304\n"
     ]
    },
    {
     "name": "stderr",
     "output_type": "stream",
     "text": [
      "100%|██████████| 5/5 [06:02<00:00, 77.15s/it]"
     ]
    },
    {
     "name": "stdout",
     "output_type": "stream",
     "text": [
      "Fold loss: 0.41974595189094543\n",
      "Fold accuracy: 0.8303968906402588\n"
     ]
    },
    {
     "name": "stderr",
     "output_type": "stream",
     "text": [
      "100%|██████████| 5/5 [06:02<00:00, 72.51s/it]\n"
     ]
    }
   ],
   "source": [
    "# K-Fold / Saving best performance model \n",
    "model1 = tf.keras.Sequential([\n",
    "    tf.keras.layers.Embedding(\n",
    "        vocab_size, embedding_dim, input_length=max_length),\n",
    "    tf.keras.layers.Dropout(0.8),\n",
    "    tf.keras.layers.GlobalAveragePooling1D(),\n",
    "    tf.keras.layers.Dense(48, activation='elu'),\n",
    "    tf.keras.layers.BatchNormalization(),\n",
    "    tf.keras.layers.Dropout(0.8),\n",
    "    tf.keras.layers.Dense(1, activation='sigmoid')\n",
    "])\n",
    "\n",
    "optimizer = tf.keras.optimizers.Adam(learning_rate=0.001)\n",
    "\n",
    "model1.compile(loss='binary_crossentropy',\n",
    "              optimizer=optimizer, metrics=['accuracy'])\n",
    "\n",
    "kf = KFold(n_splits=5)\n",
    "\n",
    "best_model = None\n",
    "best_accuracy = 0\n",
    "\n",
    "pbar = tqdm.tqdm(total=5)  \n",
    "for train_index, _ in kf.split(training_padded):\n",
    "    # Train the model on the training fold.\n",
    "    model1.fit(training_padded[train_index], training_labels[train_index], callbacks=[early_stopping], \n",
    "               epochs=num_epochs, verbose=0)\n",
    "    # Evaluate the model on the test fold.\n",
    "    loss, accuracy = model1.evaluate(testing_padded, testing_labels)\n",
    "    print('Fold loss:', loss)\n",
    "    print('Fold accuracy:', accuracy)\n",
    "    if accuracy > best_accuracy:\n",
    "        best_accuracy = accuracy\n",
    "        best_model = model1\n",
    "    pbar.update(1)\n",
    "pbar.close()"
   ]
  },
  {
   "cell_type": "code",
   "execution_count": 13,
   "id": "e1036aab",
   "metadata": {
    "execution": {
     "iopub.execute_input": "2023-08-24T12:30:52.255340Z",
     "iopub.status.busy": "2023-08-24T12:30:52.254932Z",
     "iopub.status.idle": "2023-08-24T12:30:52.984605Z",
     "shell.execute_reply": "2023-08-24T12:30:52.983519Z"
    },
    "papermill": {
     "duration": 0.74839,
     "end_time": "2023-08-24T12:30:52.986935",
     "exception": false,
     "start_time": "2023-08-24T12:30:52.238545",
     "status": "completed"
    },
    "tags": []
   },
   "outputs": [
    {
     "name": "stdout",
     "output_type": "stream",
     "text": [
      "176/176 [==============================] - 0s 1ms/step\n",
      "              precision    recall  f1-score   support\n",
      "\n",
      "           0       0.88      0.79      0.83      2963\n",
      "           1       0.79      0.88      0.83      2656\n",
      "\n",
      "    accuracy                           0.83      5619\n",
      "   macro avg       0.83      0.83      0.83      5619\n",
      "weighted avg       0.84      0.83      0.83      5619\n",
      "\n"
     ]
    },
    {
     "data": {
      "image/png": "[encoded data removed]",
      "text/plain": [
       "<Figure size 640x480 with 2 Axes>"
      ]
     },
     "metadata": {},
     "output_type": "display_data"
    }
   ],
   "source": [
    "# Predict labels for testing data\n",
    "y_pred1 = best_model.predict(testing_padded)\n",
    "y_pred1 = (y_pred1 > 0.5).astype(int)\n",
    "\n",
    "# Calculate evaluation metrics\n",
    "print(classification_report(testing_labels, y_pred1))\n",
    "\n",
    "# Plot confusion matrix\n",
    "cm1 = confusion_matrix(testing_labels, y_pred1)\n",
    "sns.heatmap(cm1, annot=True, cmap=\"Blues\", fmt=\"d\")\n",
    "plt.xlabel(\"Predicted label\")\n",
    "plt.ylabel(\"True label\")\n",
    "plt.show()"
   ]
  },
  {
   "cell_type": "code",
   "execution_count": 14,
   "id": "54e86def",
   "metadata": {
    "execution": {
     "iopub.execute_input": "2023-08-24T12:30:53.020368Z",
     "iopub.status.busy": "2023-08-24T12:30:53.019929Z",
     "iopub.status.idle": "2023-08-24T12:30:53.026319Z",
     "shell.execute_reply": "2023-08-24T12:30:53.025404Z"
    },
    "papermill": {
     "duration": 0.025659,
     "end_time": "2023-08-24T12:30:53.028453",
     "exception": false,
     "start_time": "2023-08-24T12:30:53.002794",
     "status": "completed"
    },
    "tags": []
   },
   "outputs": [],
   "source": [
    "# Testing the models on a testing list of sentences\n",
    "testing = [ \"Oh great, another meeting. Just what I needed to make my day complete.\", \n",
    "            \"The sun rises in the east and sets in the west.\",\n",
    "            \"It’s okay if you don’t like me. Not everyone has good taste.\",\n",
    "            \"The weather is great today.\",\n",
    "            \"She is studying medicine to become a doctor.\",\n",
    "            \"Oh, fantastic! Another Monday morning. I can't wait to spend the next eight hours in my cubicle.\"]\n",
    "sequences = tokenizer.texts_to_sequences(testing)\n",
    "padded = tf.keras.preprocessing.sequence.pad_sequences(sequences, maxlen=max_length, padding=padding_type, \n",
    "                                                       truncating=trunc_type)"
   ]
  },
  {
   "cell_type": "code",
   "execution_count": 15,
   "id": "b75d70bd",
   "metadata": {
    "execution": {
     "iopub.execute_input": "2023-08-24T12:30:53.061615Z",
     "iopub.status.busy": "2023-08-24T12:30:53.061202Z",
     "iopub.status.idle": "2023-08-24T12:30:53.139518Z",
     "shell.execute_reply": "2023-08-24T12:30:53.138287Z"
    },
    "papermill": {
     "duration": 0.097676,
     "end_time": "2023-08-24T12:30:53.141949",
     "exception": false,
     "start_time": "2023-08-24T12:30:53.044273",
     "status": "completed"
    },
    "tags": []
   },
   "outputs": [
    {
     "name": "stdout",
     "output_type": "stream",
     "text": [
      "1/1 [==============================] - 0s 22ms/step\n",
      "[22.7, 0.12, 75.73, 1.53, 2.58, 33.56]\n"
     ]
    }
   ],
   "source": [
    "# Predictions for 1CNN original model\n",
    "model_predictions = model.predict(padded)\n",
    "pct_predictions = [np.round(100*p[0], 2) for p in model_predictions]\n",
    "\n",
    "# Percentage chance of sarcam for each sentence\n",
    "print(pct_predictions)"
   ]
  },
  {
   "cell_type": "code",
   "execution_count": 16,
   "id": "712285b0",
   "metadata": {
    "execution": {
     "iopub.execute_input": "2023-08-24T12:30:53.175689Z",
     "iopub.status.busy": "2023-08-24T12:30:53.175302Z",
     "iopub.status.idle": "2023-08-24T12:30:53.245644Z",
     "shell.execute_reply": "2023-08-24T12:30:53.244510Z"
    },
    "papermill": {
     "duration": 0.090052,
     "end_time": "2023-08-24T12:30:53.248140",
     "exception": false,
     "start_time": "2023-08-24T12:30:53.158088",
     "status": "completed"
    },
    "tags": []
   },
   "outputs": [
    {
     "name": "stdout",
     "output_type": "stream",
     "text": [
      "1/1 [==============================] - 0s 21ms/step\n",
      "[91.3, 0.26, 97.16, 6.61, 6.58, 93.05]\n"
     ]
    }
   ],
   "source": [
    "# Predictions for K-Fold best model\n",
    "best_model_predictions = best_model.predict(padded)\n",
    "pct_predictions1 = [np.round(100*p[0], 2) for p in best_model_predictions]\n",
    "\n",
    "# Percentage chance of sarcam for each sentence\n",
    "print(pct_predictions1)"
   ]
  }
 ],
 "metadata": {
  "kernelspec": {
   "display_name": "Python 3",
   "language": "python",
   "name": "python3"
  },
  "language_info": {
   "codemirror_mode": {
    "name": "ipython",
    "version": 3
   },
   "file_extension": ".py",
   "mimetype": "text/x-python",
   "name": "python",
   "nbconvert_exporter": "python",
   "pygments_lexer": "ipython3",
   "version": "3.10.12"
  },
  "papermill": {
   "default_parameters": {},
   "duration": 411.887937,
   "end_time": "2023-08-24T12:30:56.124345",
   "environment_variables": {},
   "exception": null,
   "input_path": "__notebook__.ipynb",
   "output_path": "__notebook__.ipynb",
   "parameters": {},
   "start_time": "2023-08-24T12:24:04.236408",
   "version": "2.4.0"
  }
 },
 "nbformat": 4,
 "nbformat_minor": 5
}
