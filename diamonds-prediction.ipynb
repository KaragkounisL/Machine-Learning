{
 "cells": [
  {
   "cell_type": "code",
   "execution_count": 1,
   "id": "aa019e65",
   "metadata": {
    "execution": {
     "iopub.execute_input": "2024-07-16T07:58:35.740195Z",
     "iopub.status.busy": "2024-07-16T07:58:35.739753Z",
     "iopub.status.idle": "2024-07-16T07:58:35.754724Z",
     "shell.execute_reply": "2024-07-16T07:58:35.753451Z"
    },
    "papermill": {
     "duration": 0.03415,
     "end_time": "2024-07-16T07:58:35.757486",
     "exception": false,
     "start_time": "2024-07-16T07:58:35.723336",
     "status": "completed"
    },
    "tags": []
   },
   "outputs": [],
   "source": [
    "import warnings\n",
    "warnings.filterwarnings('ignore', category=UserWarning, module='tensorflow')\n",
    "warnings.filterwarnings('ignore', category=FutureWarning, module='seaborn')\n",
    "#warnings.filterwarnings(\"ignore\", category=FutureWarning, module=\"seaborn._oldcore\")"
   ]
  },
  {
   "cell_type": "code",
   "execution_count": 2,
   "id": "7d99f017",
   "metadata": {
    "_cell_guid": "b1076dfc-b9ad-4769-8c92-a6c4dae69d19",
    "_uuid": "8f2839f25d086af736a60e9eeb907d3b93b6e0e5",
    "execution": {
     "iopub.execute_input": "2024-07-16T07:58:35.784402Z",
     "iopub.status.busy": "2024-07-16T07:58:35.783974Z",
     "iopub.status.idle": "2024-07-16T07:58:54.175996Z",
     "shell.execute_reply": "2024-07-16T07:58:54.174716Z"
    },
    "papermill": {
     "duration": 18.40881,
     "end_time": "2024-07-16T07:58:54.178934",
     "exception": false,
     "start_time": "2024-07-16T07:58:35.770124",
     "status": "completed"
    },
    "tags": []
   },
   "outputs": [
    {
     "name": "stderr",
     "output_type": "stream",
     "text": [
      "2024-07-16 07:58:41.282357: E external/local_xla/xla/stream_executor/cuda/cuda_dnn.cc:9261] Unable to register cuDNN factory: Attempting to register factory for plugin cuDNN when one has already been registered\n",
      "2024-07-16 07:58:41.282500: E external/local_xla/xla/stream_executor/cuda/cuda_fft.cc:607] Unable to register cuFFT factory: Attempting to register factory for plugin cuFFT when one has already been registered\n",
      "2024-07-16 07:58:41.479733: E external/local_xla/xla/stream_executor/cuda/cuda_blas.cc:1515] Unable to register cuBLAS factory: Attempting to register factory for plugin cuBLAS when one has already been registered\n"
     ]
    }
   ],
   "source": [
    "import numpy as np\n",
    "import pandas as pd\n",
    "import matplotlib.pyplot as plt\n",
    "import seaborn as sns\n",
    "from sklearn.preprocessing import LabelEncoder\n",
    "from sklearn.model_selection import train_test_split\n",
    "from sklearn.preprocessing import StandardScaler\n",
    "from sklearn.linear_model import LinearRegression\n",
    "from sklearn.metrics import mean_absolute_error, r2_score\n",
    "import tensorflow as tf\n",
    "import xgboost as xgb\n",
    "from sklearn.model_selection import GridSearchCV\n",
    "from xgboost import XGBRegressor"
   ]
  },
  {
   "cell_type": "code",
   "execution_count": 3,
   "id": "23772f23",
   "metadata": {
    "execution": {
     "iopub.execute_input": "2024-07-16T07:58:54.206863Z",
     "iopub.status.busy": "2024-07-16T07:58:54.205925Z",
     "iopub.status.idle": "2024-07-16T07:58:54.384380Z",
     "shell.execute_reply": "2024-07-16T07:58:54.382983Z"
    },
    "papermill": {
     "duration": 0.195364,
     "end_time": "2024-07-16T07:58:54.387115",
     "exception": false,
     "start_time": "2024-07-16T07:58:54.191751",
     "status": "completed"
    },
    "tags": []
   },
   "outputs": [
    {
     "data": {
      "text/html": [
       "<div>\n",
       "<style scoped>\n",
       "    .dataframe tbody tr th:only-of-type {\n",
       "        vertical-align: middle;\n",
       "    }\n",
       "\n",
       "    .dataframe tbody tr th {\n",
       "        vertical-align: top;\n",
       "    }\n",
       "\n",
       "    .dataframe thead th {\n",
       "        text-align: right;\n",
       "    }\n",
       "</style>\n",
       "<table border=\"1\" class=\"dataframe\">\n",
       "  <thead>\n",
       "    <tr style=\"text-align: right;\">\n",
       "      <th></th>\n",
       "      <th>Unnamed: 0</th>\n",
       "      <th>carat</th>\n",
       "      <th>cut</th>\n",
       "      <th>color</th>\n",
       "      <th>clarity</th>\n",
       "      <th>depth</th>\n",
       "      <th>table</th>\n",
       "      <th>price</th>\n",
       "      <th>x</th>\n",
       "      <th>y</th>\n",
       "      <th>z</th>\n",
       "    </tr>\n",
       "  </thead>\n",
       "  <tbody>\n",
       "    <tr>\n",
       "      <th>0</th>\n",
       "      <td>1</td>\n",
       "      <td>0.23</td>\n",
       "      <td>Ideal</td>\n",
       "      <td>E</td>\n",
       "      <td>SI2</td>\n",
       "      <td>61.5</td>\n",
       "      <td>55.0</td>\n",
       "      <td>326</td>\n",
       "      <td>3.95</td>\n",
       "      <td>3.98</td>\n",
       "      <td>2.43</td>\n",
       "    </tr>\n",
       "    <tr>\n",
       "      <th>1</th>\n",
       "      <td>2</td>\n",
       "      <td>0.21</td>\n",
       "      <td>Premium</td>\n",
       "      <td>E</td>\n",
       "      <td>SI1</td>\n",
       "      <td>59.8</td>\n",
       "      <td>61.0</td>\n",
       "      <td>326</td>\n",
       "      <td>3.89</td>\n",
       "      <td>3.84</td>\n",
       "      <td>2.31</td>\n",
       "    </tr>\n",
       "    <tr>\n",
       "      <th>2</th>\n",
       "      <td>3</td>\n",
       "      <td>0.23</td>\n",
       "      <td>Good</td>\n",
       "      <td>E</td>\n",
       "      <td>VS1</td>\n",
       "      <td>56.9</td>\n",
       "      <td>65.0</td>\n",
       "      <td>327</td>\n",
       "      <td>4.05</td>\n",
       "      <td>4.07</td>\n",
       "      <td>2.31</td>\n",
       "    </tr>\n",
       "    <tr>\n",
       "      <th>3</th>\n",
       "      <td>4</td>\n",
       "      <td>0.29</td>\n",
       "      <td>Premium</td>\n",
       "      <td>I</td>\n",
       "      <td>VS2</td>\n",
       "      <td>62.4</td>\n",
       "      <td>58.0</td>\n",
       "      <td>334</td>\n",
       "      <td>4.20</td>\n",
       "      <td>4.23</td>\n",
       "      <td>2.63</td>\n",
       "    </tr>\n",
       "    <tr>\n",
       "      <th>4</th>\n",
       "      <td>5</td>\n",
       "      <td>0.31</td>\n",
       "      <td>Good</td>\n",
       "      <td>J</td>\n",
       "      <td>SI2</td>\n",
       "      <td>63.3</td>\n",
       "      <td>58.0</td>\n",
       "      <td>335</td>\n",
       "      <td>4.34</td>\n",
       "      <td>4.35</td>\n",
       "      <td>2.75</td>\n",
       "    </tr>\n",
       "  </tbody>\n",
       "</table>\n",
       "</div>"
      ],
      "text/plain": [
       "   Unnamed: 0  carat      cut color clarity  depth  table  price     x     y  \\\n",
       "0           1   0.23    Ideal     E     SI2   61.5   55.0    326  3.95  3.98   \n",
       "1           2   0.21  Premium     E     SI1   59.8   61.0    326  3.89  3.84   \n",
       "2           3   0.23     Good     E     VS1   56.9   65.0    327  4.05  4.07   \n",
       "3           4   0.29  Premium     I     VS2   62.4   58.0    334  4.20  4.23   \n",
       "4           5   0.31     Good     J     SI2   63.3   58.0    335  4.34  4.35   \n",
       "\n",
       "      z  \n",
       "0  2.43  \n",
       "1  2.31  \n",
       "2  2.31  \n",
       "3  2.63  \n",
       "4  2.75  "
      ]
     },
     "execution_count": 3,
     "metadata": {},
     "output_type": "execute_result"
    }
   ],
   "source": [
    "diamonds = pd.read_csv(\"/kaggle/input/diamonds/diamonds.csv\")\n",
    "diamonds.head()"
   ]
  },
  {
   "cell_type": "markdown",
   "id": "7f247c17",
   "metadata": {
    "papermill": {
     "duration": 0.01253,
     "end_time": "2024-07-16T07:58:54.413084",
     "exception": false,
     "start_time": "2024-07-16T07:58:54.400554",
     "status": "completed"
    },
    "tags": []
   },
   "source": [
    "We can drop the unnamed:0 column"
   ]
  },
  {
   "cell_type": "code",
   "execution_count": 4,
   "id": "e71125c7",
   "metadata": {
    "execution": {
     "iopub.execute_input": "2024-07-16T07:58:54.442197Z",
     "iopub.status.busy": "2024-07-16T07:58:54.441757Z",
     "iopub.status.idle": "2024-07-16T07:58:54.498906Z",
     "shell.execute_reply": "2024-07-16T07:58:54.497827Z"
    },
    "papermill": {
     "duration": 0.074261,
     "end_time": "2024-07-16T07:58:54.501656",
     "exception": false,
     "start_time": "2024-07-16T07:58:54.427395",
     "status": "completed"
    },
    "tags": []
   },
   "outputs": [
    {
     "name": "stdout",
     "output_type": "stream",
     "text": [
      "<class 'pandas.core.frame.DataFrame'>\n",
      "RangeIndex: 53940 entries, 0 to 53939\n",
      "Data columns (total 10 columns):\n",
      " #   Column   Non-Null Count  Dtype  \n",
      "---  ------   --------------  -----  \n",
      " 0   carat    53940 non-null  float64\n",
      " 1   cut      53940 non-null  object \n",
      " 2   color    53940 non-null  object \n",
      " 3   clarity  53940 non-null  object \n",
      " 4   depth    53940 non-null  float64\n",
      " 5   table    53940 non-null  float64\n",
      " 6   price    53940 non-null  int64  \n",
      " 7   x        53940 non-null  float64\n",
      " 8   y        53940 non-null  float64\n",
      " 9   z        53940 non-null  float64\n",
      "dtypes: float64(6), int64(1), object(3)\n",
      "memory usage: 4.1+ MB\n"
     ]
    }
   ],
   "source": [
    "diamonds.drop(diamonds.columns[0],axis=1,inplace=True)\n",
    "diamonds.info()"
   ]
  },
  {
   "cell_type": "markdown",
   "id": "f45ef8d1",
   "metadata": {
    "papermill": {
     "duration": 0.012817,
     "end_time": "2024-07-16T07:58:54.527610",
     "exception": false,
     "start_time": "2024-07-16T07:58:54.514793",
     "status": "completed"
    },
    "tags": []
   },
   "source": [
    "We got 3 object dtype columns that we will need to deal with later before the modeling phase"
   ]
  },
  {
   "cell_type": "code",
   "execution_count": 5,
   "id": "45f30a82",
   "metadata": {
    "execution": {
     "iopub.execute_input": "2024-07-16T07:58:54.555473Z",
     "iopub.status.busy": "2024-07-16T07:58:54.555055Z",
     "iopub.status.idle": "2024-07-16T07:58:54.582276Z",
     "shell.execute_reply": "2024-07-16T07:58:54.581026Z"
    },
    "papermill": {
     "duration": 0.044106,
     "end_time": "2024-07-16T07:58:54.584903",
     "exception": false,
     "start_time": "2024-07-16T07:58:54.540797",
     "status": "completed"
    },
    "tags": []
   },
   "outputs": [
    {
     "data": {
      "text/plain": [
       "carat      0\n",
       "cut        0\n",
       "color      0\n",
       "clarity    0\n",
       "depth      0\n",
       "table      0\n",
       "price      0\n",
       "x          0\n",
       "y          0\n",
       "z          0\n",
       "dtype: int64"
      ]
     },
     "execution_count": 5,
     "metadata": {},
     "output_type": "execute_result"
    }
   ],
   "source": [
    "diamonds.isna().sum()"
   ]
  },
  {
   "cell_type": "code",
   "execution_count": 6,
   "id": "b0decc2e",
   "metadata": {
    "execution": {
     "iopub.execute_input": "2024-07-16T07:58:54.614025Z",
     "iopub.status.busy": "2024-07-16T07:58:54.613622Z",
     "iopub.status.idle": "2024-07-16T07:58:54.666753Z",
     "shell.execute_reply": "2024-07-16T07:58:54.665547Z"
    },
    "papermill": {
     "duration": 0.071204,
     "end_time": "2024-07-16T07:58:54.669799",
     "exception": false,
     "start_time": "2024-07-16T07:58:54.598595",
     "status": "completed"
    },
    "tags": []
   },
   "outputs": [
    {
     "data": {
      "text/html": [
       "<div>\n",
       "<style scoped>\n",
       "    .dataframe tbody tr th:only-of-type {\n",
       "        vertical-align: middle;\n",
       "    }\n",
       "\n",
       "    .dataframe tbody tr th {\n",
       "        vertical-align: top;\n",
       "    }\n",
       "\n",
       "    .dataframe thead th {\n",
       "        text-align: right;\n",
       "    }\n",
       "</style>\n",
       "<table border=\"1\" class=\"dataframe\">\n",
       "  <thead>\n",
       "    <tr style=\"text-align: right;\">\n",
       "      <th></th>\n",
       "      <th>carat</th>\n",
       "      <th>depth</th>\n",
       "      <th>table</th>\n",
       "      <th>price</th>\n",
       "      <th>x</th>\n",
       "      <th>y</th>\n",
       "      <th>z</th>\n",
       "    </tr>\n",
       "  </thead>\n",
       "  <tbody>\n",
       "    <tr>\n",
       "      <th>count</th>\n",
       "      <td>53940.000000</td>\n",
       "      <td>53940.000000</td>\n",
       "      <td>53940.000000</td>\n",
       "      <td>53940.000000</td>\n",
       "      <td>53940.000000</td>\n",
       "      <td>53940.000000</td>\n",
       "      <td>53940.000000</td>\n",
       "    </tr>\n",
       "    <tr>\n",
       "      <th>mean</th>\n",
       "      <td>0.797940</td>\n",
       "      <td>61.749405</td>\n",
       "      <td>57.457184</td>\n",
       "      <td>3932.799722</td>\n",
       "      <td>5.731157</td>\n",
       "      <td>5.734526</td>\n",
       "      <td>3.538734</td>\n",
       "    </tr>\n",
       "    <tr>\n",
       "      <th>std</th>\n",
       "      <td>0.474011</td>\n",
       "      <td>1.432621</td>\n",
       "      <td>2.234491</td>\n",
       "      <td>3989.439738</td>\n",
       "      <td>1.121761</td>\n",
       "      <td>1.142135</td>\n",
       "      <td>0.705699</td>\n",
       "    </tr>\n",
       "    <tr>\n",
       "      <th>min</th>\n",
       "      <td>0.200000</td>\n",
       "      <td>43.000000</td>\n",
       "      <td>43.000000</td>\n",
       "      <td>326.000000</td>\n",
       "      <td>0.000000</td>\n",
       "      <td>0.000000</td>\n",
       "      <td>0.000000</td>\n",
       "    </tr>\n",
       "    <tr>\n",
       "      <th>25%</th>\n",
       "      <td>0.400000</td>\n",
       "      <td>61.000000</td>\n",
       "      <td>56.000000</td>\n",
       "      <td>950.000000</td>\n",
       "      <td>4.710000</td>\n",
       "      <td>4.720000</td>\n",
       "      <td>2.910000</td>\n",
       "    </tr>\n",
       "    <tr>\n",
       "      <th>50%</th>\n",
       "      <td>0.700000</td>\n",
       "      <td>61.800000</td>\n",
       "      <td>57.000000</td>\n",
       "      <td>2401.000000</td>\n",
       "      <td>5.700000</td>\n",
       "      <td>5.710000</td>\n",
       "      <td>3.530000</td>\n",
       "    </tr>\n",
       "    <tr>\n",
       "      <th>75%</th>\n",
       "      <td>1.040000</td>\n",
       "      <td>62.500000</td>\n",
       "      <td>59.000000</td>\n",
       "      <td>5324.250000</td>\n",
       "      <td>6.540000</td>\n",
       "      <td>6.540000</td>\n",
       "      <td>4.040000</td>\n",
       "    </tr>\n",
       "    <tr>\n",
       "      <th>max</th>\n",
       "      <td>5.010000</td>\n",
       "      <td>79.000000</td>\n",
       "      <td>95.000000</td>\n",
       "      <td>18823.000000</td>\n",
       "      <td>10.740000</td>\n",
       "      <td>58.900000</td>\n",
       "      <td>31.800000</td>\n",
       "    </tr>\n",
       "  </tbody>\n",
       "</table>\n",
       "</div>"
      ],
      "text/plain": [
       "              carat         depth         table         price             x  \\\n",
       "count  53940.000000  53940.000000  53940.000000  53940.000000  53940.000000   \n",
       "mean       0.797940     61.749405     57.457184   3932.799722      5.731157   \n",
       "std        0.474011      1.432621      2.234491   3989.439738      1.121761   \n",
       "min        0.200000     43.000000     43.000000    326.000000      0.000000   \n",
       "25%        0.400000     61.000000     56.000000    950.000000      4.710000   \n",
       "50%        0.700000     61.800000     57.000000   2401.000000      5.700000   \n",
       "75%        1.040000     62.500000     59.000000   5324.250000      6.540000   \n",
       "max        5.010000     79.000000     95.000000  18823.000000     10.740000   \n",
       "\n",
       "                  y             z  \n",
       "count  53940.000000  53940.000000  \n",
       "mean       5.734526      3.538734  \n",
       "std        1.142135      0.705699  \n",
       "min        0.000000      0.000000  \n",
       "25%        4.720000      2.910000  \n",
       "50%        5.710000      3.530000  \n",
       "75%        6.540000      4.040000  \n",
       "max       58.900000     31.800000  "
      ]
     },
     "execution_count": 6,
     "metadata": {},
     "output_type": "execute_result"
    }
   ],
   "source": [
    "diamonds.describe()"
   ]
  },
  {
   "cell_type": "markdown",
   "id": "122991cb",
   "metadata": {
    "papermill": {
     "duration": 0.013135,
     "end_time": "2024-07-16T07:58:54.696656",
     "exception": false,
     "start_time": "2024-07-16T07:58:54.683521",
     "status": "completed"
    },
    "tags": []
   },
   "source": [
    "We can notice that on the variables x,y,z we got 0 as a minimum entry. This is probably due to wrong input and we can safely remove those. Lets also check with .shape how many entries we got before and how many will be removed"
   ]
  },
  {
   "cell_type": "code",
   "execution_count": 7,
   "id": "19facfbe",
   "metadata": {
    "execution": {
     "iopub.execute_input": "2024-07-16T07:58:54.726608Z",
     "iopub.status.busy": "2024-07-16T07:58:54.726129Z",
     "iopub.status.idle": "2024-07-16T07:58:54.733770Z",
     "shell.execute_reply": "2024-07-16T07:58:54.732440Z"
    },
    "papermill": {
     "duration": 0.025476,
     "end_time": "2024-07-16T07:58:54.736493",
     "exception": false,
     "start_time": "2024-07-16T07:58:54.711017",
     "status": "completed"
    },
    "tags": []
   },
   "outputs": [
    {
     "data": {
      "text/plain": [
       "(53940, 10)"
      ]
     },
     "execution_count": 7,
     "metadata": {},
     "output_type": "execute_result"
    }
   ],
   "source": [
    "diamonds.shape"
   ]
  },
  {
   "cell_type": "code",
   "execution_count": 8,
   "id": "80ca44cd",
   "metadata": {
    "execution": {
     "iopub.execute_input": "2024-07-16T07:58:54.766047Z",
     "iopub.status.busy": "2024-07-16T07:58:54.765611Z",
     "iopub.status.idle": "2024-07-16T07:58:54.780989Z",
     "shell.execute_reply": "2024-07-16T07:58:54.779898Z"
    },
    "papermill": {
     "duration": 0.033068,
     "end_time": "2024-07-16T07:58:54.783628",
     "exception": false,
     "start_time": "2024-07-16T07:58:54.750560",
     "status": "completed"
    },
    "tags": []
   },
   "outputs": [
    {
     "data": {
      "text/plain": [
       "(53920, 10)"
      ]
     },
     "execution_count": 8,
     "metadata": {},
     "output_type": "execute_result"
    }
   ],
   "source": [
    "diamonds = diamonds[(diamonds[\"x\"] != 0) & (diamonds[\"y\"] != 0) & (diamonds[\"z\"] != 0)]\n",
    "diamonds.shape"
   ]
  },
  {
   "cell_type": "markdown",
   "id": "7d8e9ede",
   "metadata": {
    "papermill": {
     "duration": 0.013457,
     "end_time": "2024-07-16T07:58:54.811045",
     "exception": false,
     "start_time": "2024-07-16T07:58:54.797588",
     "status": "completed"
    },
    "tags": []
   },
   "source": [
    "Just 20 entries were removed"
   ]
  },
  {
   "cell_type": "code",
   "execution_count": 9,
   "id": "4fef0992",
   "metadata": {
    "execution": {
     "iopub.execute_input": "2024-07-16T07:58:54.842253Z",
     "iopub.status.busy": "2024-07-16T07:58:54.841217Z",
     "iopub.status.idle": "2024-07-16T07:58:54.846096Z",
     "shell.execute_reply": "2024-07-16T07:58:54.844965Z"
    },
    "papermill": {
     "duration": 0.022304,
     "end_time": "2024-07-16T07:58:54.848560",
     "exception": false,
     "start_time": "2024-07-16T07:58:54.826256",
     "status": "completed"
    },
    "tags": []
   },
   "outputs": [],
   "source": [
    "#sns.pairplot(diamonds,hue=\"cut\")\n",
    "#plt.show()"
   ]
  },
  {
   "cell_type": "markdown",
   "id": "b6eff106",
   "metadata": {
    "papermill": {
     "duration": 0.013337,
     "end_time": "2024-07-16T07:58:54.876379",
     "exception": false,
     "start_time": "2024-07-16T07:58:54.863042",
     "status": "completed"
    },
    "tags": []
   },
   "source": [
    "<a href=\"https://ibb.co/0cxXMCK\"><img src=\"https://i.ibb.co/zrz5RXF/1.png\" alt=\"1\" border=\"0\"></a>"
   ]
  },
  {
   "cell_type": "markdown",
   "id": "67546968",
   "metadata": {
    "papermill": {
     "duration": 0.013292,
     "end_time": "2024-07-16T07:58:54.903649",
     "exception": false,
     "start_time": "2024-07-16T07:58:54.890357",
     "status": "completed"
    },
    "tags": []
   },
   "source": [
    "Looks like we have outliers for the columns depth, table, x, y, and z. Lets do some boxplots to see this more clearly"
   ]
  },
  {
   "cell_type": "code",
   "execution_count": 10,
   "id": "58b7a335",
   "metadata": {
    "execution": {
     "iopub.execute_input": "2024-07-16T07:58:54.934125Z",
     "iopub.status.busy": "2024-07-16T07:58:54.933079Z",
     "iopub.status.idle": "2024-07-16T07:58:56.028719Z",
     "shell.execute_reply": "2024-07-16T07:58:56.027267Z"
    },
    "papermill": {
     "duration": 1.113685,
     "end_time": "2024-07-16T07:58:56.031482",
     "exception": false,
     "start_time": "2024-07-16T07:58:54.917797",
     "status": "completed"
    },
    "tags": []
   },
   "outputs": [
    {
     "data": {
      "image/png": "[encoded data removed]",
      "text/plain": [
       "<Figure size 1500x1000 with 5 Axes>"
      ]
     },
     "metadata": {},
     "output_type": "display_data"
    }
   ],
   "source": [
    "columns_to_check = ['x', 'y', 'z', 'depth', 'table']\n",
    "plt.figure(figsize=(15, 10))\n",
    "for i, column in enumerate(columns_to_check, 1):\n",
    "    plt.subplot(2, 3, i)\n",
    "    sns.boxplot(y=diamonds[column])\n",
    "    plt.title(f'Box plot of {column}')\n",
    "plt.tight_layout()\n",
    "plt.show()"
   ]
  },
  {
   "cell_type": "code",
   "execution_count": 11,
   "id": "7272b043",
   "metadata": {
    "execution": {
     "iopub.execute_input": "2024-07-16T07:58:56.062904Z",
     "iopub.status.busy": "2024-07-16T07:58:56.062455Z",
     "iopub.status.idle": "2024-07-16T07:58:56.096828Z",
     "shell.execute_reply": "2024-07-16T07:58:56.095682Z"
    },
    "papermill": {
     "duration": 0.052831,
     "end_time": "2024-07-16T07:58:56.099401",
     "exception": false,
     "start_time": "2024-07-16T07:58:56.046570",
     "status": "completed"
    },
    "tags": []
   },
   "outputs": [
    {
     "data": {
      "text/plain": [
       "3222"
      ]
     },
     "execution_count": 11,
     "metadata": {},
     "output_type": "execute_result"
    }
   ],
   "source": [
    "df = diamonds.copy()\n",
    "def detect_outliers(df, columns):\n",
    "    outliers = {}\n",
    "    for column in columns:\n",
    "        Q1 = df[column].quantile(0.25)\n",
    "        Q3 = df[column].quantile(0.75)\n",
    "        IQR = Q3 - Q1\n",
    "        lower_bound = Q1 - 1.5 * IQR\n",
    "        upper_bound = Q3 + 1.5 * IQR\n",
    "        outliers[column] = df[(df[column] < lower_bound) | (df[column] > upper_bound)][column]\n",
    "    return outliers\n",
    "\n",
    "outliers = detect_outliers(df, columns_to_check)\n",
    "outliers_count = sum(len(outlier_values) for outlier_values in outliers.values())\n",
    "outliers_count"
   ]
  },
  {
   "cell_type": "markdown",
   "id": "cc22be78",
   "metadata": {
    "papermill": {
     "duration": 0.014634,
     "end_time": "2024-07-16T07:58:56.129328",
     "exception": false,
     "start_time": "2024-07-16T07:58:56.114694",
     "status": "completed"
    },
    "tags": []
   },
   "source": [
    "From the above we can clearly see that we have quite a few outliers. Using the IQR method we got 3222 outliers which we can drop"
   ]
  },
  {
   "cell_type": "code",
   "execution_count": 12,
   "id": "80b729ae",
   "metadata": {
    "execution": {
     "iopub.execute_input": "2024-07-16T07:58:56.162067Z",
     "iopub.status.busy": "2024-07-16T07:58:56.161663Z",
     "iopub.status.idle": "2024-07-16T07:58:56.180831Z",
     "shell.execute_reply": "2024-07-16T07:58:56.179754Z"
    },
    "papermill": {
     "duration": 0.039165,
     "end_time": "2024-07-16T07:58:56.183625",
     "exception": false,
     "start_time": "2024-07-16T07:58:56.144460",
     "status": "completed"
    },
    "tags": []
   },
   "outputs": [],
   "source": [
    "outlier_indices = set()\n",
    "for outlier_values in outliers.values():\n",
    "    outlier_indices.update(outlier_values.index)\n",
    "df = df.drop(index=outlier_indices)"
   ]
  },
  {
   "cell_type": "code",
   "execution_count": 13,
   "id": "ff77b24c",
   "metadata": {
    "execution": {
     "iopub.execute_input": "2024-07-16T07:58:56.215283Z",
     "iopub.status.busy": "2024-07-16T07:58:56.214853Z",
     "iopub.status.idle": "2024-07-16T07:58:57.187325Z",
     "shell.execute_reply": "2024-07-16T07:58:57.186110Z"
    },
    "papermill": {
     "duration": 0.990951,
     "end_time": "2024-07-16T07:58:57.189780",
     "exception": false,
     "start_time": "2024-07-16T07:58:56.198829",
     "status": "completed"
    },
    "tags": []
   },
   "outputs": [
    {
     "data": {
      "image/png": "[encoded data removed]",
      "text/plain": [
       "<Figure size 1500x1000 with 5 Axes>"
      ]
     },
     "metadata": {},
     "output_type": "display_data"
    }
   ],
   "source": [
    "plt.figure(figsize=(15, 10))\n",
    "for i, column in enumerate(columns_to_check, 1):\n",
    "    plt.subplot(2, 3, i)\n",
    "    sns.boxplot(y=df[column])\n",
    "    plt.title(f'Box plot of {column}')\n",
    "plt.tight_layout()\n",
    "plt.show()"
   ]
  },
  {
   "cell_type": "markdown",
   "id": "06627a3d",
   "metadata": {
    "papermill": {
     "duration": 0.01588,
     "end_time": "2024-07-16T07:58:57.232818",
     "exception": false,
     "start_time": "2024-07-16T07:58:57.216938",
     "status": "completed"
    },
    "tags": []
   },
   "source": [
    "This is much cleaner now. So lets also do the pairplot again to see the difference."
   ]
  },
  {
   "cell_type": "code",
   "execution_count": 14,
   "id": "ebade8b8",
   "metadata": {
    "execution": {
     "iopub.execute_input": "2024-07-16T07:58:57.266073Z",
     "iopub.status.busy": "2024-07-16T07:58:57.265672Z",
     "iopub.status.idle": "2024-07-16T07:58:57.270433Z",
     "shell.execute_reply": "2024-07-16T07:58:57.269260Z"
    },
    "papermill": {
     "duration": 0.024114,
     "end_time": "2024-07-16T07:58:57.273004",
     "exception": false,
     "start_time": "2024-07-16T07:58:57.248890",
     "status": "completed"
    },
    "tags": []
   },
   "outputs": [],
   "source": [
    "#sns.pairplot(df,hue=\"cut\")\n",
    "#plt.show()"
   ]
  },
  {
   "cell_type": "markdown",
   "id": "8fd17da6",
   "metadata": {
    "execution": {
     "iopub.execute_input": "2024-07-16T07:35:03.841395Z",
     "iopub.status.busy": "2024-07-16T07:35:03.840977Z",
     "iopub.status.idle": "2024-07-16T07:35:04.905974Z",
     "shell.execute_reply": "2024-07-16T07:35:04.904798Z",
     "shell.execute_reply.started": "2024-07-16T07:35:03.841352Z"
    },
    "papermill": {
     "duration": 0.015069,
     "end_time": "2024-07-16T07:58:57.303850",
     "exception": false,
     "start_time": "2024-07-16T07:58:57.288781",
     "status": "completed"
    },
    "tags": []
   },
   "source": [
    "<a href=\"https://ibb.co/L5TBSRV\"><img src=\"https://i.ibb.co/xHnwhLx/2.png\" alt=\"2\" border=\"0\"></a>"
   ]
  },
  {
   "cell_type": "markdown",
   "id": "cd83d8fa",
   "metadata": {
    "papermill": {
     "duration": 0.015287,
     "end_time": "2024-07-16T07:58:57.334730",
     "exception": false,
     "start_time": "2024-07-16T07:58:57.319443",
     "status": "completed"
    },
    "tags": []
   },
   "source": [
    "Before we consider going into modeling phase we need to deal with those object dtype columns we saw at the start. "
   ]
  },
  {
   "cell_type": "code",
   "execution_count": 15,
   "id": "2ffe3e01",
   "metadata": {
    "execution": {
     "iopub.execute_input": "2024-07-16T07:58:57.367192Z",
     "iopub.status.busy": "2024-07-16T07:58:57.366771Z",
     "iopub.status.idle": "2024-07-16T07:58:57.435094Z",
     "shell.execute_reply": "2024-07-16T07:58:57.433751Z"
    },
    "papermill": {
     "duration": 0.087703,
     "end_time": "2024-07-16T07:58:57.437844",
     "exception": false,
     "start_time": "2024-07-16T07:58:57.350141",
     "status": "completed"
    },
    "tags": []
   },
   "outputs": [
    {
     "data": {
      "text/html": [
       "<div>\n",
       "<style scoped>\n",
       "    .dataframe tbody tr th:only-of-type {\n",
       "        vertical-align: middle;\n",
       "    }\n",
       "\n",
       "    .dataframe tbody tr th {\n",
       "        vertical-align: top;\n",
       "    }\n",
       "\n",
       "    .dataframe thead th {\n",
       "        text-align: right;\n",
       "    }\n",
       "</style>\n",
       "<table border=\"1\" class=\"dataframe\">\n",
       "  <thead>\n",
       "    <tr style=\"text-align: right;\">\n",
       "      <th></th>\n",
       "      <th>carat</th>\n",
       "      <th>cut</th>\n",
       "      <th>color</th>\n",
       "      <th>clarity</th>\n",
       "      <th>depth</th>\n",
       "      <th>table</th>\n",
       "      <th>price</th>\n",
       "      <th>x</th>\n",
       "      <th>y</th>\n",
       "      <th>z</th>\n",
       "    </tr>\n",
       "  </thead>\n",
       "  <tbody>\n",
       "    <tr>\n",
       "      <th>0</th>\n",
       "      <td>0.23</td>\n",
       "      <td>2</td>\n",
       "      <td>1</td>\n",
       "      <td>3</td>\n",
       "      <td>61.5</td>\n",
       "      <td>55.0</td>\n",
       "      <td>326</td>\n",
       "      <td>3.95</td>\n",
       "      <td>3.98</td>\n",
       "      <td>2.43</td>\n",
       "    </tr>\n",
       "    <tr>\n",
       "      <th>1</th>\n",
       "      <td>0.21</td>\n",
       "      <td>3</td>\n",
       "      <td>1</td>\n",
       "      <td>2</td>\n",
       "      <td>59.8</td>\n",
       "      <td>61.0</td>\n",
       "      <td>326</td>\n",
       "      <td>3.89</td>\n",
       "      <td>3.84</td>\n",
       "      <td>2.31</td>\n",
       "    </tr>\n",
       "    <tr>\n",
       "      <th>3</th>\n",
       "      <td>0.29</td>\n",
       "      <td>3</td>\n",
       "      <td>5</td>\n",
       "      <td>5</td>\n",
       "      <td>62.4</td>\n",
       "      <td>58.0</td>\n",
       "      <td>334</td>\n",
       "      <td>4.20</td>\n",
       "      <td>4.23</td>\n",
       "      <td>2.63</td>\n",
       "    </tr>\n",
       "    <tr>\n",
       "      <th>4</th>\n",
       "      <td>0.31</td>\n",
       "      <td>1</td>\n",
       "      <td>6</td>\n",
       "      <td>3</td>\n",
       "      <td>63.3</td>\n",
       "      <td>58.0</td>\n",
       "      <td>335</td>\n",
       "      <td>4.34</td>\n",
       "      <td>4.35</td>\n",
       "      <td>2.75</td>\n",
       "    </tr>\n",
       "    <tr>\n",
       "      <th>5</th>\n",
       "      <td>0.24</td>\n",
       "      <td>4</td>\n",
       "      <td>6</td>\n",
       "      <td>7</td>\n",
       "      <td>62.8</td>\n",
       "      <td>57.0</td>\n",
       "      <td>336</td>\n",
       "      <td>3.94</td>\n",
       "      <td>3.96</td>\n",
       "      <td>2.48</td>\n",
       "    </tr>\n",
       "    <tr>\n",
       "      <th>6</th>\n",
       "      <td>0.24</td>\n",
       "      <td>4</td>\n",
       "      <td>5</td>\n",
       "      <td>6</td>\n",
       "      <td>62.3</td>\n",
       "      <td>57.0</td>\n",
       "      <td>336</td>\n",
       "      <td>3.95</td>\n",
       "      <td>3.98</td>\n",
       "      <td>2.47</td>\n",
       "    </tr>\n",
       "    <tr>\n",
       "      <th>7</th>\n",
       "      <td>0.26</td>\n",
       "      <td>4</td>\n",
       "      <td>4</td>\n",
       "      <td>2</td>\n",
       "      <td>61.9</td>\n",
       "      <td>55.0</td>\n",
       "      <td>337</td>\n",
       "      <td>4.07</td>\n",
       "      <td>4.11</td>\n",
       "      <td>2.53</td>\n",
       "    </tr>\n",
       "    <tr>\n",
       "      <th>9</th>\n",
       "      <td>0.23</td>\n",
       "      <td>4</td>\n",
       "      <td>4</td>\n",
       "      <td>4</td>\n",
       "      <td>59.4</td>\n",
       "      <td>61.0</td>\n",
       "      <td>338</td>\n",
       "      <td>4.00</td>\n",
       "      <td>4.05</td>\n",
       "      <td>2.39</td>\n",
       "    </tr>\n",
       "    <tr>\n",
       "      <th>10</th>\n",
       "      <td>0.30</td>\n",
       "      <td>1</td>\n",
       "      <td>6</td>\n",
       "      <td>2</td>\n",
       "      <td>64.0</td>\n",
       "      <td>55.0</td>\n",
       "      <td>339</td>\n",
       "      <td>4.25</td>\n",
       "      <td>4.28</td>\n",
       "      <td>2.73</td>\n",
       "    </tr>\n",
       "    <tr>\n",
       "      <th>11</th>\n",
       "      <td>0.23</td>\n",
       "      <td>2</td>\n",
       "      <td>6</td>\n",
       "      <td>4</td>\n",
       "      <td>62.8</td>\n",
       "      <td>56.0</td>\n",
       "      <td>340</td>\n",
       "      <td>3.93</td>\n",
       "      <td>3.90</td>\n",
       "      <td>2.46</td>\n",
       "    </tr>\n",
       "  </tbody>\n",
       "</table>\n",
       "</div>"
      ],
      "text/plain": [
       "    carat  cut  color  clarity  depth  table  price     x     y     z\n",
       "0    0.23    2      1        3   61.5   55.0    326  3.95  3.98  2.43\n",
       "1    0.21    3      1        2   59.8   61.0    326  3.89  3.84  2.31\n",
       "3    0.29    3      5        5   62.4   58.0    334  4.20  4.23  2.63\n",
       "4    0.31    1      6        3   63.3   58.0    335  4.34  4.35  2.75\n",
       "5    0.24    4      6        7   62.8   57.0    336  3.94  3.96  2.48\n",
       "6    0.24    4      5        6   62.3   57.0    336  3.95  3.98  2.47\n",
       "7    0.26    4      4        2   61.9   55.0    337  4.07  4.11  2.53\n",
       "9    0.23    4      4        4   59.4   61.0    338  4.00  4.05  2.39\n",
       "10   0.30    1      6        2   64.0   55.0    339  4.25  4.28  2.73\n",
       "11   0.23    2      6        4   62.8   56.0    340  3.93  3.90  2.46"
      ]
     },
     "execution_count": 15,
     "metadata": {},
     "output_type": "execute_result"
    }
   ],
   "source": [
    "categorical_cols = [\"cut\",\"color\",\"clarity\"]\n",
    "le = LabelEncoder()\n",
    "for col in categorical_cols:\n",
    "    df[col] = le.fit_transform(df[col])\n",
    "df.head(10)    "
   ]
  },
  {
   "cell_type": "markdown",
   "id": "d1632f9c",
   "metadata": {
    "papermill": {
     "duration": 0.015491,
     "end_time": "2024-07-16T07:58:57.469241",
     "exception": false,
     "start_time": "2024-07-16T07:58:57.453750",
     "status": "completed"
    },
    "tags": []
   },
   "source": [
    "Now that this is dealt with we can proceed to make a model that will predict the price of a diamond based on the other variables"
   ]
  },
  {
   "cell_type": "code",
   "execution_count": 16,
   "id": "4a200acd",
   "metadata": {
    "execution": {
     "iopub.execute_input": "2024-07-16T07:58:57.502543Z",
     "iopub.status.busy": "2024-07-16T07:58:57.502107Z",
     "iopub.status.idle": "2024-07-16T07:58:58.200688Z",
     "shell.execute_reply": "2024-07-16T07:58:58.199513Z"
    },
    "papermill": {
     "duration": 0.718426,
     "end_time": "2024-07-16T07:58:58.203450",
     "exception": false,
     "start_time": "2024-07-16T07:58:57.485024",
     "status": "completed"
    },
    "tags": []
   },
   "outputs": [
    {
     "data": {
      "text/plain": [
       "<Axes: >"
      ]
     },
     "execution_count": 16,
     "metadata": {},
     "output_type": "execute_result"
    },
    {
     "data": {
      "image/png": "[encoded data removed]",
      "text/plain": [
       "<Figure size 800x800 with 2 Axes>"
      ]
     },
     "metadata": {},
     "output_type": "display_data"
    }
   ],
   "source": [
    "plt.figure(figsize=(8,8))\n",
    "sns.heatmap(df.corr(),annot=True,fmt='.0%',cmap='coolwarm')"
   ]
  },
  {
   "cell_type": "markdown",
   "id": "ccef04b3",
   "metadata": {
    "papermill": {
     "duration": 0.017905,
     "end_time": "2024-07-16T07:58:58.238841",
     "exception": false,
     "start_time": "2024-07-16T07:58:58.220936",
     "status": "completed"
    },
    "tags": []
   },
   "source": [
    "Lets split the data and scale our variables first"
   ]
  },
  {
   "cell_type": "code",
   "execution_count": 17,
   "id": "a61648c9",
   "metadata": {
    "execution": {
     "iopub.execute_input": "2024-07-16T07:58:58.276594Z",
     "iopub.status.busy": "2024-07-16T07:58:58.275685Z",
     "iopub.status.idle": "2024-07-16T07:58:58.307611Z",
     "shell.execute_reply": "2024-07-16T07:58:58.306277Z"
    },
    "papermill": {
     "duration": 0.053774,
     "end_time": "2024-07-16T07:58:58.310661",
     "exception": false,
     "start_time": "2024-07-16T07:58:58.256887",
     "status": "completed"
    },
    "tags": []
   },
   "outputs": [],
   "source": [
    "X = df.drop('price',axis=1)\n",
    "y = df['price']\n",
    "\n",
    "X_train, X_test, y_train, y_test = train_test_split(X, y, test_size=0.2, random_state=42)\n",
    "\n",
    "scaler = StandardScaler()\n",
    "X_train = pd.DataFrame(scaler.fit_transform(X_train), columns=X_train.columns, index=X_train.index)\n",
    "X_test = pd.DataFrame(scaler.transform(X_test), columns=X_test.columns, index=X_test.index)"
   ]
  },
  {
   "cell_type": "code",
   "execution_count": 18,
   "id": "320c63be",
   "metadata": {
    "execution": {
     "iopub.execute_input": "2024-07-16T07:58:58.347949Z",
     "iopub.status.busy": "2024-07-16T07:58:58.347203Z",
     "iopub.status.idle": "2024-07-16T07:58:58.367250Z",
     "shell.execute_reply": "2024-07-16T07:58:58.365847Z"
    },
    "papermill": {
     "duration": 0.041717,
     "end_time": "2024-07-16T07:58:58.369924",
     "exception": false,
     "start_time": "2024-07-16T07:58:58.328207",
     "status": "completed"
    },
    "tags": []
   },
   "outputs": [
    {
     "data": {
      "text/html": [
       "<div>\n",
       "<style scoped>\n",
       "    .dataframe tbody tr th:only-of-type {\n",
       "        vertical-align: middle;\n",
       "    }\n",
       "\n",
       "    .dataframe tbody tr th {\n",
       "        vertical-align: top;\n",
       "    }\n",
       "\n",
       "    .dataframe thead th {\n",
       "        text-align: right;\n",
       "    }\n",
       "</style>\n",
       "<table border=\"1\" class=\"dataframe\">\n",
       "  <thead>\n",
       "    <tr style=\"text-align: right;\">\n",
       "      <th></th>\n",
       "      <th>carat</th>\n",
       "      <th>cut</th>\n",
       "      <th>color</th>\n",
       "      <th>clarity</th>\n",
       "      <th>depth</th>\n",
       "      <th>table</th>\n",
       "      <th>x</th>\n",
       "      <th>y</th>\n",
       "      <th>z</th>\n",
       "    </tr>\n",
       "  </thead>\n",
       "  <tbody>\n",
       "    <tr>\n",
       "      <th>24233</th>\n",
       "      <td>1.672367</td>\n",
       "      <td>-0.669897</td>\n",
       "      <td>-0.348504</td>\n",
       "      <td>-1.084927</td>\n",
       "      <td>-0.614069</td>\n",
       "      <td>-1.135862</td>\n",
       "      <td>1.652005</td>\n",
       "      <td>1.641141</td>\n",
       "      <td>1.573166</td>\n",
       "    </tr>\n",
       "    <tr>\n",
       "      <th>2405</th>\n",
       "      <td>-0.101757</td>\n",
       "      <td>-0.669897</td>\n",
       "      <td>0.826304</td>\n",
       "      <td>0.658487</td>\n",
       "      <td>0.373838</td>\n",
       "      <td>-1.135862</td>\n",
       "      <td>0.111347</td>\n",
       "      <td>0.090628</td>\n",
       "      <td>0.136307</td>\n",
       "    </tr>\n",
       "    <tr>\n",
       "      <th>35602</th>\n",
       "      <td>-1.020882</td>\n",
       "      <td>0.388923</td>\n",
       "      <td>0.826304</td>\n",
       "      <td>1.239625</td>\n",
       "      <td>0.104409</td>\n",
       "      <td>0.343243</td>\n",
       "      <td>-1.223294</td>\n",
       "      <td>-1.252549</td>\n",
       "      <td>-1.227984</td>\n",
       "    </tr>\n",
       "    <tr>\n",
       "      <th>15942</th>\n",
       "      <td>0.453993</td>\n",
       "      <td>-0.669897</td>\n",
       "      <td>0.238900</td>\n",
       "      <td>0.658487</td>\n",
       "      <td>0.553457</td>\n",
       "      <td>0.836278</td>\n",
       "      <td>0.586085</td>\n",
       "      <td>0.622490</td>\n",
       "      <td>0.658801</td>\n",
       "    </tr>\n",
       "    <tr>\n",
       "      <th>45305</th>\n",
       "      <td>-1.042257</td>\n",
       "      <td>-0.669897</td>\n",
       "      <td>-1.523312</td>\n",
       "      <td>-1.084927</td>\n",
       "      <td>0.104409</td>\n",
       "      <td>-1.135862</td>\n",
       "      <td>-1.250166</td>\n",
       "      <td>-1.225505</td>\n",
       "      <td>-1.227984</td>\n",
       "    </tr>\n",
       "    <tr>\n",
       "      <th>18327</th>\n",
       "      <td>1.544117</td>\n",
       "      <td>0.388923</td>\n",
       "      <td>2.001112</td>\n",
       "      <td>0.658487</td>\n",
       "      <td>1.092315</td>\n",
       "      <td>-0.149792</td>\n",
       "      <td>1.499731</td>\n",
       "      <td>1.424790</td>\n",
       "      <td>1.587680</td>\n",
       "    </tr>\n",
       "    <tr>\n",
       "      <th>22760</th>\n",
       "      <td>1.971617</td>\n",
       "      <td>-0.669897</td>\n",
       "      <td>2.001112</td>\n",
       "      <td>0.077349</td>\n",
       "      <td>0.553457</td>\n",
       "      <td>-0.642827</td>\n",
       "      <td>1.723664</td>\n",
       "      <td>1.695229</td>\n",
       "      <td>1.776358</td>\n",
       "    </tr>\n",
       "    <tr>\n",
       "      <th>30903</th>\n",
       "      <td>-0.849882</td>\n",
       "      <td>-0.669897</td>\n",
       "      <td>0.238900</td>\n",
       "      <td>0.658487</td>\n",
       "      <td>-0.254830</td>\n",
       "      <td>-0.149792</td>\n",
       "      <td>-0.909787</td>\n",
       "      <td>-0.873936</td>\n",
       "      <td>-0.908682</td>\n",
       "    </tr>\n",
       "    <tr>\n",
       "      <th>18873</th>\n",
       "      <td>0.689117</td>\n",
       "      <td>-0.669897</td>\n",
       "      <td>-0.348504</td>\n",
       "      <td>0.658487</td>\n",
       "      <td>-0.165020</td>\n",
       "      <td>-0.149792</td>\n",
       "      <td>0.845847</td>\n",
       "      <td>0.865884</td>\n",
       "      <td>0.832966</td>\n",
       "    </tr>\n",
       "    <tr>\n",
       "      <th>11847</th>\n",
       "      <td>0.518118</td>\n",
       "      <td>0.388923</td>\n",
       "      <td>-0.935908</td>\n",
       "      <td>-1.084927</td>\n",
       "      <td>-0.434449</td>\n",
       "      <td>1.329313</td>\n",
       "      <td>0.738359</td>\n",
       "      <td>0.721651</td>\n",
       "      <td>0.687829</td>\n",
       "    </tr>\n",
       "  </tbody>\n",
       "</table>\n",
       "</div>"
      ],
      "text/plain": [
       "          carat       cut     color   clarity     depth     table         x  \\\n",
       "24233  1.672367 -0.669897 -0.348504 -1.084927 -0.614069 -1.135862  1.652005   \n",
       "2405  -0.101757 -0.669897  0.826304  0.658487  0.373838 -1.135862  0.111347   \n",
       "35602 -1.020882  0.388923  0.826304  1.239625  0.104409  0.343243 -1.223294   \n",
       "15942  0.453993 -0.669897  0.238900  0.658487  0.553457  0.836278  0.586085   \n",
       "45305 -1.042257 -0.669897 -1.523312 -1.084927  0.104409 -1.135862 -1.250166   \n",
       "18327  1.544117  0.388923  2.001112  0.658487  1.092315 -0.149792  1.499731   \n",
       "22760  1.971617 -0.669897  2.001112  0.077349  0.553457 -0.642827  1.723664   \n",
       "30903 -0.849882 -0.669897  0.238900  0.658487 -0.254830 -0.149792 -0.909787   \n",
       "18873  0.689117 -0.669897 -0.348504  0.658487 -0.165020 -0.149792  0.845847   \n",
       "11847  0.518118  0.388923 -0.935908 -1.084927 -0.434449  1.329313  0.738359   \n",
       "\n",
       "              y         z  \n",
       "24233  1.641141  1.573166  \n",
       "2405   0.090628  0.136307  \n",
       "35602 -1.252549 -1.227984  \n",
       "15942  0.622490  0.658801  \n",
       "45305 -1.225505 -1.227984  \n",
       "18327  1.424790  1.587680  \n",
       "22760  1.695229  1.776358  \n",
       "30903 -0.873936 -0.908682  \n",
       "18873  0.865884  0.832966  \n",
       "11847  0.721651  0.687829  "
      ]
     },
     "execution_count": 18,
     "metadata": {},
     "output_type": "execute_result"
    }
   ],
   "source": [
    "X_train.head(10)"
   ]
  },
  {
   "cell_type": "markdown",
   "id": "890a631c",
   "metadata": {
    "papermill": {
     "duration": 0.01733,
     "end_time": "2024-07-16T07:58:58.405304",
     "exception": false,
     "start_time": "2024-07-16T07:58:58.387974",
     "status": "completed"
    },
    "tags": []
   },
   "source": [
    "For starters lets use a linear regression model"
   ]
  },
  {
   "cell_type": "code",
   "execution_count": 19,
   "id": "cdba978a",
   "metadata": {
    "execution": {
     "iopub.execute_input": "2024-07-16T07:58:58.443298Z",
     "iopub.status.busy": "2024-07-16T07:58:58.442860Z",
     "iopub.status.idle": "2024-07-16T07:58:58.504103Z",
     "shell.execute_reply": "2024-07-16T07:58:58.502884Z"
    },
    "papermill": {
     "duration": 0.08843,
     "end_time": "2024-07-16T07:58:58.511486",
     "exception": false,
     "start_time": "2024-07-16T07:58:58.423056",
     "status": "completed"
    },
    "tags": []
   },
   "outputs": [
    {
     "name": "stdout",
     "output_type": "stream",
     "text": [
      "Mean Absolute Error: 807.045\n",
      "R-squared: 0.901\n"
     ]
    }
   ],
   "source": [
    "skmodel = LinearRegression()\n",
    "skmodel.fit(X_train, y_train)\n",
    "\n",
    "y_skpred = skmodel.predict(X_test)\n",
    "mae = mean_absolute_error(y_test, y_skpred)\n",
    "r2sk = r2_score(y_test, y_skpred)\n",
    "print(f\"Mean Absolute Error: {mae:.3f}\")\n",
    "print(f\"R-squared: {r2sk:.3f}\")"
   ]
  },
  {
   "cell_type": "markdown",
   "id": "a39ac92b",
   "metadata": {
    "papermill": {
     "duration": 0.036642,
     "end_time": "2024-07-16T07:58:58.626544",
     "exception": false,
     "start_time": "2024-07-16T07:58:58.589902",
     "status": "completed"
    },
    "tags": []
   },
   "source": [
    "The model explains 90.1% of the variance of our data and MAE is ok. Surely there is rool for improvement. We can try an XGB model next"
   ]
  },
  {
   "cell_type": "code",
   "execution_count": 20,
   "id": "6821af45",
   "metadata": {
    "execution": {
     "iopub.execute_input": "2024-07-16T07:58:58.731440Z",
     "iopub.status.busy": "2024-07-16T07:58:58.730990Z",
     "iopub.status.idle": "2024-07-16T07:58:59.103113Z",
     "shell.execute_reply": "2024-07-16T07:58:59.102101Z"
    },
    "papermill": {
     "duration": 0.396054,
     "end_time": "2024-07-16T07:58:59.106005",
     "exception": false,
     "start_time": "2024-07-16T07:58:58.709951",
     "status": "completed"
    },
    "tags": []
   },
   "outputs": [
    {
     "name": "stdout",
     "output_type": "stream",
     "text": [
      "Test MAE: 263.6569\n",
      "R-squared: 0.982\n"
     ]
    }
   ],
   "source": [
    "xgb_model = xgb.XGBRegressor(objective='reg:squarederror', random_state=42)\n",
    "xgb_model.fit(X_train, y_train)\n",
    "y_pred = xgb_model.predict(X_test)\n",
    "\n",
    "mae = mean_absolute_error(y_test, y_pred)\n",
    "r2 = r2_score(y_test, y_pred)\n",
    "\n",
    "print(f\"Test MAE: {mae:.4f}\")\n",
    "print(f\"R-squared: {r2:.3f}\")"
   ]
  },
  {
   "cell_type": "markdown",
   "id": "60342e38",
   "metadata": {
    "papermill": {
     "duration": 0.017597,
     "end_time": "2024-07-16T07:58:59.143222",
     "exception": false,
     "start_time": "2024-07-16T07:58:59.125625",
     "status": "completed"
    },
    "tags": []
   },
   "source": [
    "This is much better. XGB model explains 98.2% of the variance of our data and has a much smaller MAE than that of our linear model. We can perhaps finetune it with a grid search for better results"
   ]
  },
  {
   "cell_type": "code",
   "execution_count": 21,
   "id": "feb6c694",
   "metadata": {
    "execution": {
     "iopub.execute_input": "2024-07-16T07:58:59.181002Z",
     "iopub.status.busy": "2024-07-16T07:58:59.180560Z",
     "iopub.status.idle": "2024-07-16T07:58:59.186099Z",
     "shell.execute_reply": "2024-07-16T07:58:59.184997Z"
    },
    "papermill": {
     "duration": 0.027254,
     "end_time": "2024-07-16T07:58:59.188421",
     "exception": false,
     "start_time": "2024-07-16T07:58:59.161167",
     "status": "completed"
    },
    "tags": []
   },
   "outputs": [],
   "source": [
    "# param_grid = {\n",
    "#     'learning_rate': [0.1, 0.05, 0.01],\n",
    "#     'max_depth': [5, 7, 9],\n",
    "#     'n_estimators': [200, 300, 500],\n",
    "#     'subsample': [0.8, 0.9, 1.0],\n",
    "#     'colsample_bytree': [0.8, 0.9, 1.0],\n",
    "#     'gamma': [0, 0.1, 0.2]\n",
    "# }\n",
    "\n",
    "# xgb = XGBRegressor()\n",
    "# grid_search = GridSearchCV(estimator=xgb, param_grid=param_grid, \n",
    "#                            cv=3, scoring='neg_mean_absolute_error', verbose=1, n_jobs=-1)\n",
    "\n",
    "# grid_search.fit(X_train, y_train)"
   ]
  },
  {
   "cell_type": "markdown",
   "id": "58274027",
   "metadata": {
    "papermill": {
     "duration": 0.018951,
     "end_time": "2024-07-16T07:58:59.225506",
     "exception": false,
     "start_time": "2024-07-16T07:58:59.206555",
     "status": "completed"
    },
    "tags": []
   },
   "source": [
    "{'colsample_bytree': 0.9,\n",
    " 'gamma': 0,\n",
    " 'learning_rate': 0.05,\n",
    " 'max_depth': 9,\n",
    " 'n_estimators': 500,\n",
    " 'subsample': 1.0}"
   ]
  },
  {
   "cell_type": "code",
   "execution_count": 22,
   "id": "d435778c",
   "metadata": {
    "execution": {
     "iopub.execute_input": "2024-07-16T07:58:59.264070Z",
     "iopub.status.busy": "2024-07-16T07:58:59.263647Z",
     "iopub.status.idle": "2024-07-16T07:59:02.252380Z",
     "shell.execute_reply": "2024-07-16T07:59:02.251284Z"
    },
    "papermill": {
     "duration": 3.011041,
     "end_time": "2024-07-16T07:59:02.255414",
     "exception": false,
     "start_time": "2024-07-16T07:58:59.244373",
     "status": "completed"
    },
    "tags": []
   },
   "outputs": [
    {
     "name": "stdout",
     "output_type": "stream",
     "text": [
      "Test MAE: 246.5606\n",
      "R-squared: 0.983\n"
     ]
    }
   ],
   "source": [
    "best_xgb = xgb.XGBRegressor(\n",
    "    colsample_bytree=0.9,\n",
    "    gamma=0,\n",
    "    learning_rate=0.05,\n",
    "    max_depth=9,\n",
    "    n_estimators=500,\n",
    "    subsample=1.0,\n",
    "    objective='reg:squarederror',\n",
    "    random_state=42\n",
    ")\n",
    "best_xgb.fit(X_train, y_train)\n",
    "y_pred = best_xgb.predict(X_test)\n",
    "test_mae = mean_absolute_error(y_test, y_pred)\n",
    "test_r2 = r2_score(y_test, y_pred)\n",
    "\n",
    "print(f\"Test MAE: {test_mae:.4f}\")\n",
    "print(f\"R-squared: {test_r2:.3f}\")"
   ]
  },
  {
   "cell_type": "markdown",
   "id": "9f270933",
   "metadata": {
    "papermill": {
     "duration": 0.019238,
     "end_time": "2024-07-16T07:59:02.294577",
     "exception": false,
     "start_time": "2024-07-16T07:59:02.275339",
     "status": "completed"
    },
    "tags": []
   },
   "source": [
    "Seems like we got a marginal performance increase"
   ]
  },
  {
   "cell_type": "markdown",
   "id": "85f1d35b",
   "metadata": {
    "papermill": {
     "duration": 0.018365,
     "end_time": "2024-07-16T07:59:02.331902",
     "exception": false,
     "start_time": "2024-07-16T07:59:02.313537",
     "status": "completed"
    },
    "tags": []
   },
   "source": [
    "How would a neural network fare though?"
   ]
  },
  {
   "cell_type": "code",
   "execution_count": 23,
   "id": "8ce5c4b1",
   "metadata": {
    "execution": {
     "iopub.execute_input": "2024-07-16T07:59:02.371517Z",
     "iopub.status.busy": "2024-07-16T07:59:02.371093Z",
     "iopub.status.idle": "2024-07-16T08:00:06.161687Z",
     "shell.execute_reply": "2024-07-16T08:00:06.160380Z"
    },
    "papermill": {
     "duration": 63.813966,
     "end_time": "2024-07-16T08:00:06.164755",
     "exception": false,
     "start_time": "2024-07-16T07:59:02.350789",
     "status": "completed"
    },
    "tags": []
   },
   "outputs": [
    {
     "name": "stdout",
     "output_type": "stream",
     "text": [
      "Epoch 1/30\n",
      "\u001b[1m510/510\u001b[0m \u001b[32m━━━━━━━━━━━━━━━━━━━━\u001b[0m\u001b[37m\u001b[0m \u001b[1m5s\u001b[0m 4ms/step - loss: 30833922.0000 - mae: 3889.7275 - val_loss: 31193724.0000 - val_mae: 3914.1272\n",
      "Epoch 2/30\n",
      "\u001b[1m510/510\u001b[0m \u001b[32m━━━━━━━━━━━━━━━━━━━━\u001b[0m\u001b[37m\u001b[0m \u001b[1m2s\u001b[0m 4ms/step - loss: 30419392.0000 - mae: 3875.1704 - val_loss: 30116410.0000 - val_mae: 3846.3604\n",
      "Epoch 3/30\n",
      "\u001b[1m510/510\u001b[0m \u001b[32m━━━━━━━━━━━━━━━━━━━━\u001b[0m\u001b[37m\u001b[0m \u001b[1m2s\u001b[0m 4ms/step - loss: 30017398.0000 - mae: 3875.5024 - val_loss: 28612478.0000 - val_mae: 3739.8342\n",
      "Epoch 4/30\n",
      "\u001b[1m510/510\u001b[0m \u001b[32m━━━━━━━━━━━━━━━━━━━━\u001b[0m\u001b[37m\u001b[0m \u001b[1m2s\u001b[0m 4ms/step - loss: 28457784.0000 - mae: 3763.1396 - val_loss: 26856482.0000 - val_mae: 3629.5759\n",
      "Epoch 5/30\n",
      "\u001b[1m510/510\u001b[0m \u001b[32m━━━━━━━━━━━━━━━━━━━━\u001b[0m\u001b[37m\u001b[0m \u001b[1m2s\u001b[0m 4ms/step - loss: 26445944.0000 - mae: 3638.3066 - val_loss: 24867108.0000 - val_mae: 3511.4658\n",
      "Epoch 6/30\n",
      "\u001b[1m510/510\u001b[0m \u001b[32m━━━━━━━━━━━━━━━━━━━━\u001b[0m\u001b[37m\u001b[0m \u001b[1m2s\u001b[0m 4ms/step - loss: 24926744.0000 - mae: 3528.7153 - val_loss: 22820804.0000 - val_mae: 3374.6582\n",
      "Epoch 7/30\n",
      "\u001b[1m510/510\u001b[0m \u001b[32m━━━━━━━━━━━━━━━━━━━━\u001b[0m\u001b[37m\u001b[0m \u001b[1m2s\u001b[0m 4ms/step - loss: 22245448.0000 - mae: 3330.3870 - val_loss: 20704448.0000 - val_mae: 3212.2341\n",
      "Epoch 8/30\n",
      "\u001b[1m510/510\u001b[0m \u001b[32m━━━━━━━━━━━━━━━━━━━━\u001b[0m\u001b[37m\u001b[0m \u001b[1m2s\u001b[0m 4ms/step - loss: 19690552.0000 - mae: 3136.6299 - val_loss: 18210472.0000 - val_mae: 3017.7000\n",
      "Epoch 9/30\n",
      "\u001b[1m510/510\u001b[0m \u001b[32m━━━━━━━━━━━━━━━━━━━━\u001b[0m\u001b[37m\u001b[0m \u001b[1m2s\u001b[0m 4ms/step - loss: 17814270.0000 - mae: 2974.6504 - val_loss: 16122517.0000 - val_mae: 2827.0122\n",
      "Epoch 10/30\n",
      "\u001b[1m510/510\u001b[0m \u001b[32m━━━━━━━━━━━━━━━━━━━━\u001b[0m\u001b[37m\u001b[0m \u001b[1m2s\u001b[0m 4ms/step - loss: 15689515.0000 - mae: 2790.1130 - val_loss: 13548885.0000 - val_mae: 2616.6575\n",
      "Epoch 11/30\n",
      "\u001b[1m510/510\u001b[0m \u001b[32m━━━━━━━━━━━━━━━━━━━━\u001b[0m\u001b[37m\u001b[0m \u001b[1m2s\u001b[0m 4ms/step - loss: 13598483.0000 - mae: 2575.5950 - val_loss: 11492028.0000 - val_mae: 2395.9448\n",
      "Epoch 12/30\n",
      "\u001b[1m510/510\u001b[0m \u001b[32m━━━━━━━━━━━━━━━━━━━━\u001b[0m\u001b[37m\u001b[0m \u001b[1m2s\u001b[0m 4ms/step - loss: 11912937.0000 - mae: 2378.5037 - val_loss: 9728878.0000 - val_mae: 2182.4780\n",
      "Epoch 13/30\n",
      "\u001b[1m510/510\u001b[0m \u001b[32m━━━━━━━━━━━━━━━━━━━━\u001b[0m\u001b[37m\u001b[0m \u001b[1m2s\u001b[0m 4ms/step - loss: 9517916.0000 - mae: 2104.3914 - val_loss: 7677026.0000 - val_mae: 1949.9164\n",
      "Epoch 14/30\n",
      "\u001b[1m510/510\u001b[0m \u001b[32m━━━━━━━━━━━━━━━━━━━━\u001b[0m\u001b[37m\u001b[0m \u001b[1m2s\u001b[0m 4ms/step - loss: 7813148.5000 - mae: 1886.7562 - val_loss: 6383724.5000 - val_mae: 1735.9094\n",
      "Epoch 15/30\n",
      "\u001b[1m510/510\u001b[0m \u001b[32m━━━━━━━━━━━━━━━━━━━━\u001b[0m\u001b[37m\u001b[0m \u001b[1m2s\u001b[0m 4ms/step - loss: 6385242.5000 - mae: 1676.0205 - val_loss: 5125966.5000 - val_mae: 1542.0308\n",
      "Epoch 16/30\n",
      "\u001b[1m510/510\u001b[0m \u001b[32m━━━━━━━━━━━━━━━━━━━━\u001b[0m\u001b[37m\u001b[0m \u001b[1m2s\u001b[0m 4ms/step - loss: 5220151.0000 - mae: 1478.7321 - val_loss: 3708283.2500 - val_mae: 1273.2997\n",
      "Epoch 17/30\n",
      "\u001b[1m510/510\u001b[0m \u001b[32m━━━━━━━━━━━━━━━━━━━━\u001b[0m\u001b[37m\u001b[0m \u001b[1m3s\u001b[0m 4ms/step - loss: 4247360.0000 - mae: 1307.2183 - val_loss: 2620305.5000 - val_mae: 1070.2987\n",
      "Epoch 18/30\n",
      "\u001b[1m510/510\u001b[0m \u001b[32m━━━━━━━━━━━━━━━━━━━━\u001b[0m\u001b[37m\u001b[0m \u001b[1m2s\u001b[0m 4ms/step - loss: 3450038.5000 - mae: 1178.6909 - val_loss: 2184107.7500 - val_mae: 944.8249\n",
      "Epoch 19/30\n",
      "\u001b[1m510/510\u001b[0m \u001b[32m━━━━━━━━━━━━━━━━━━━━\u001b[0m\u001b[37m\u001b[0m \u001b[1m2s\u001b[0m 4ms/step - loss: 2792048.2500 - mae: 1049.0494 - val_loss: 1418513.0000 - val_mae: 712.0201\n",
      "Epoch 20/30\n",
      "\u001b[1m510/510\u001b[0m \u001b[32m━━━━━━━━━━━━━━━━━━━━\u001b[0m\u001b[37m\u001b[0m \u001b[1m2s\u001b[0m 4ms/step - loss: 2356461.7500 - mae: 940.2218 - val_loss: 1079271.7500 - val_mae: 594.0683\n",
      "Epoch 21/30\n",
      "\u001b[1m510/510\u001b[0m \u001b[32m━━━━━━━━━━━━━━━━━━━━\u001b[0m\u001b[37m\u001b[0m \u001b[1m2s\u001b[0m 4ms/step - loss: 2329376.7500 - mae: 930.5817 - val_loss: 933697.9375 - val_mae: 529.7116\n",
      "Epoch 22/30\n",
      "\u001b[1m510/510\u001b[0m \u001b[32m━━━━━━━━━━━━━━━━━━━━\u001b[0m\u001b[37m\u001b[0m \u001b[1m2s\u001b[0m 4ms/step - loss: 2113380.2500 - mae: 891.0999 - val_loss: 795708.5000 - val_mae: 497.0330\n",
      "Epoch 23/30\n",
      "\u001b[1m510/510\u001b[0m \u001b[32m━━━━━━━━━━━━━━━━━━━━\u001b[0m\u001b[37m\u001b[0m \u001b[1m2s\u001b[0m 4ms/step - loss: 2074156.6250 - mae: 889.1370 - val_loss: 705303.8125 - val_mae: 456.1241\n",
      "Epoch 24/30\n",
      "\u001b[1m510/510\u001b[0m \u001b[32m━━━━━━━━━━━━━━━━━━━━\u001b[0m\u001b[37m\u001b[0m \u001b[1m3s\u001b[0m 4ms/step - loss: 2026371.0000 - mae: 878.5436 - val_loss: 768968.5625 - val_mae: 469.7768\n",
      "Epoch 25/30\n",
      "\u001b[1m510/510\u001b[0m \u001b[32m━━━━━━━━━━━━━━━━━━━━\u001b[0m\u001b[37m\u001b[0m \u001b[1m2s\u001b[0m 4ms/step - loss: 2035906.2500 - mae: 877.3165 - val_loss: 806038.7500 - val_mae: 469.5269\n",
      "Epoch 26/30\n",
      "\u001b[1m510/510\u001b[0m \u001b[32m━━━━━━━━━━━━━━━━━━━━\u001b[0m\u001b[37m\u001b[0m \u001b[1m2s\u001b[0m 4ms/step - loss: 2006907.8750 - mae: 870.5596 - val_loss: 665927.1875 - val_mae: 440.7657\n",
      "Epoch 27/30\n",
      "\u001b[1m510/510\u001b[0m \u001b[32m━━━━━━━━━━━━━━━━━━━━\u001b[0m\u001b[37m\u001b[0m \u001b[1m2s\u001b[0m 4ms/step - loss: 2010402.6250 - mae: 870.6340 - val_loss: 728513.8125 - val_mae: 448.6555\n",
      "Epoch 28/30\n",
      "\u001b[1m510/510\u001b[0m \u001b[32m━━━━━━━━━━━━━━━━━━━━\u001b[0m\u001b[37m\u001b[0m \u001b[1m2s\u001b[0m 4ms/step - loss: 1983207.8750 - mae: 876.2145 - val_loss: 675868.1250 - val_mae: 460.2332\n",
      "Epoch 29/30\n",
      "\u001b[1m510/510\u001b[0m \u001b[32m━━━━━━━━━━━━━━━━━━━━\u001b[0m\u001b[37m\u001b[0m \u001b[1m2s\u001b[0m 4ms/step - loss: 1992066.8750 - mae: 872.5596 - val_loss: 689377.1875 - val_mae: 471.9072\n",
      "Epoch 30/30\n",
      "\u001b[1m510/510\u001b[0m \u001b[32m━━━━━━━━━━━━━━━━━━━━\u001b[0m\u001b[37m\u001b[0m \u001b[1m2s\u001b[0m 4ms/step - loss: 1956223.6250 - mae: 865.6807 - val_loss: 674190.0000 - val_mae: 464.3055\n"
     ]
    }
   ],
   "source": [
    "model = tf.keras.Sequential([\n",
    "    tf.keras.layers.Input(shape=(X_train.shape[1],)),\n",
    "    tf.keras.layers.Dense(128, activation='relu'),\n",
    "    tf.keras.layers.BatchNormalization(),\n",
    "    tf.keras.layers.Dropout(0.4),\n",
    "    tf.keras.layers.Dense(64, activation='relu'),\n",
    "    tf.keras.layers.BatchNormalization(),\n",
    "    tf.keras.layers.Dropout(0.4),\n",
    "    tf.keras.layers.Dense(32, activation='relu'),\n",
    "    tf.keras.layers.BatchNormalization(),\n",
    "    tf.keras.layers.Dropout(0.4),\n",
    "    tf.keras.layers.Dense(1)\n",
    "])\n",
    "\n",
    "model.compile(optimizer='adam', loss='mse', metrics=['mae'])\n",
    "history = model.fit(X_train, y_train, epochs=30, validation_split=0.2, batch_size=64)"
   ]
  },
  {
   "cell_type": "code",
   "execution_count": 24,
   "id": "f12b0a76",
   "metadata": {
    "execution": {
     "iopub.execute_input": "2024-07-16T08:00:06.411452Z",
     "iopub.status.busy": "2024-07-16T08:00:06.410997Z",
     "iopub.status.idle": "2024-07-16T08:00:07.920746Z",
     "shell.execute_reply": "2024-07-16T08:00:07.919356Z"
    },
    "papermill": {
     "duration": 1.637431,
     "end_time": "2024-07-16T08:00:07.924365",
     "exception": false,
     "start_time": "2024-07-16T08:00:06.286934",
     "status": "completed"
    },
    "tags": []
   },
   "outputs": [
    {
     "name": "stdout",
     "output_type": "stream",
     "text": [
      "\u001b[1m319/319\u001b[0m \u001b[32m━━━━━━━━━━━━━━━━━━━━\u001b[0m\u001b[37m\u001b[0m \u001b[1m0s\u001b[0m 1ms/step - loss: 579298.3125 - mae: 444.0565\n",
      "\u001b[1m319/319\u001b[0m \u001b[32m━━━━━━━━━━━━━━━━━━━━\u001b[0m\u001b[37m\u001b[0m \u001b[1m1s\u001b[0m 2ms/step\n",
      "Test MAE: 448.1356201171875\n",
      "R-squared: 0.961\n"
     ]
    }
   ],
   "source": [
    "test_loss, test_mae = model.evaluate(X_test, y_test)\n",
    "y_pred = model.predict(X_test)\n",
    "r2 = r2_score(y_test, y_pred)\n",
    "\n",
    "print(f'Test MAE: {test_mae}')\n",
    "print(f\"R-squared: {r2:.3f}\")"
   ]
  },
  {
   "cell_type": "code",
   "execution_count": 25,
   "id": "0405a054",
   "metadata": {
    "execution": {
     "iopub.execute_input": "2024-07-16T08:00:08.199493Z",
     "iopub.status.busy": "2024-07-16T08:00:08.199043Z",
     "iopub.status.idle": "2024-07-16T08:00:08.614548Z",
     "shell.execute_reply": "2024-07-16T08:00:08.613366Z"
    },
    "papermill": {
     "duration": 0.558616,
     "end_time": "2024-07-16T08:00:08.618397",
     "exception": false,
     "start_time": "2024-07-16T08:00:08.059781",
     "status": "completed"
    },
    "tags": []
   },
   "outputs": [
    {
     "data": {
      "image/png": "[encoded data removed]",
      "text/plain": [
       "<Figure size 640x480 with 1 Axes>"
      ]
     },
     "metadata": {},
     "output_type": "display_data"
    }
   ],
   "source": [
    "history_df = pd.DataFrame(history.history)\n",
    "sns.lineplot(data=history_df[['loss', 'val_loss']])\n",
    "plt.xlabel('Epochs')\n",
    "plt.ylabel('Loss')\n",
    "plt.title('Training and Validation Loss')\n",
    "plt.legend(['Training Loss', 'Validation Loss'])\n",
    "plt.show()"
   ]
  },
  {
   "cell_type": "markdown",
   "id": "f234cbdf",
   "metadata": {
    "papermill": {
     "duration": 0.128759,
     "end_time": "2024-07-16T08:00:08.882337",
     "exception": false,
     "start_time": "2024-07-16T08:00:08.753578",
     "status": "completed"
    },
    "tags": []
   },
   "source": [
    "This is not certainly as good as the XGB model but still better than the linear regression one"
   ]
  }
 ],
 "metadata": {
  "kaggle": {
   "accelerator": "none",
   "dataSources": [
    {
     "datasetId": 1312,
     "sourceId": 2368,
     "sourceType": "datasetVersion"
    }
   ],
   "dockerImageVersionId": 30747,
   "isGpuEnabled": false,
   "isInternetEnabled": true,
   "language": "python",
   "sourceType": "notebook"
  },
  "kernelspec": {
   "display_name": "Python 3",
   "language": "python",
   "name": "python3"
  },
  "language_info": {
   "codemirror_mode": {
    "name": "ipython",
    "version": 3
   },
   "file_extension": ".py",
   "mimetype": "text/x-python",
   "name": "python",
   "nbconvert_exporter": "python",
   "pygments_lexer": "ipython3",
   "version": "3.10.13"
  },
  "papermill": {
   "default_parameters": {},
   "duration": 99.33514,
   "end_time": "2024-07-16T08:00:11.783463",
   "environment_variables": {},
   "exception": null,
   "input_path": "__notebook__.ipynb",
   "output_path": "__notebook__.ipynb",
   "parameters": {},
   "start_time": "2024-07-16T07:58:32.448323",
   "version": "2.5.0"
  }
 },
 "nbformat": 4,
 "nbformat_minor": 5
}
